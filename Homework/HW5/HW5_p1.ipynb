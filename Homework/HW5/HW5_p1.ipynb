{
 "cells": [
  {
   "cell_type": "markdown",
   "metadata": {},
   "source": [
    "# HW5 Problem 1: Analyzing Data Science Job Descriptions\n",
    "\n",
    "This assignment is based on the job descriptions obtained from stackoverflow.com\n",
    "obtained using a notebook like the one discussed in class several weeks ago\n",
    "(Data_Science_Job_Descriptions.ipynb, from May 16, in\n",
    "Some Jupyter Notebooks -- Data Science in Python).\n",
    "\n",
    "Download your HW5 data from:\n",
    "\n",
    "     http://datamining.cs.ucla.edu/cs249/hw5/___your_nine_digit_UID___.zip\n",
    "\n",
    "Problem 1  (75 points):\n",
    "The Training data    train_data.csv \n",
    "has job classifications for about 800 job postings on careers.stackoverflow.com.  \n",
    "In the last column, about 20% of these are classified as \"data science\" jobs ('DS'); \n",
    "the remainder are \"non-data science\" ('nonDS').\n",
    "Develop the most accurate classifier for data science jobs that you can.\n",
    "Use your classifier to make predictions for the 1-column dataset\n",
    "        test_data.csv\n",
    "and upload your predictions to CCLE in a 1-column dataset\n",
    "        test_predictions.csv\n",
    "The file test_data.csv has about 20% DS jobs, and 80% nonDS jobs.\n",
    "Your score on this problem will be your classification accuracy for the test data ---\n",
    "so if your classifier always predicts 'nonDS' you could get about 80%.\n",
    "\n",
    "\n",
    "\n",
    "Summary:\n",
    "\n",
    "for this (short) assignment, based on the data that you download\n",
    "from the URL above,  you should upload two .csv files to CCLE:\n",
    "\n",
    "test_predictions.csv  and  top_10_features.csv ."
   ]
  },
  {
   "cell_type": "code",
   "execution_count": 58,
   "metadata": {
    "collapsed": true
   },
   "outputs": [],
   "source": [
    "training.set = read.csv( file(\"train_data.csv\"), header = TRUE )\n",
    "test.set = read.csv( file(\"test_data.csv\"), header = TRUE )"
   ]
  },
  {
   "cell_type": "code",
   "execution_count": 59,
   "metadata": {
    "collapsed": false
   },
   "outputs": [
    {
     "data": {
      "text/html": [
       "271"
      ],
      "text/latex": [
       "271"
      ],
      "text/markdown": [
       "271"
      ],
      "text/plain": [
       "[1] 271"
      ]
     },
     "execution_count": 59,
     "metadata": {},
     "output_type": "execute_result"
    },
    {
     "data": {
      "text/html": [
       "270"
      ],
      "text/latex": [
       "270"
      ],
      "text/markdown": [
       "270"
      ],
      "text/plain": [
       "[1] 270"
      ]
     },
     "execution_count": 59,
     "metadata": {},
     "output_type": "execute_result"
    }
   ],
   "source": [
    "#head(training.set)\n",
    "#head(test.set)\n",
    "ncol(training.set)\n",
    "ncol(test.set)"
   ]
  },
  {
   "cell_type": "code",
   "execution_count": 60,
   "metadata": {
    "collapsed": false
   },
   "outputs": [
    {
     "data": {
      "text/html": [
       "609"
      ],
      "text/latex": [
       "609"
      ],
      "text/markdown": [
       "609"
      ],
      "text/plain": [
       "[1] 609"
      ]
     },
     "execution_count": 60,
     "metadata": {},
     "output_type": "execute_result"
    },
    {
     "data": {
      "text/html": [
       "202"
      ],
      "text/latex": [
       "202"
      ],
      "text/markdown": [
       "202"
      ],
      "text/plain": [
       "[1] 202"
      ]
     },
     "execution_count": 60,
     "metadata": {},
     "output_type": "execute_result"
    }
   ],
   "source": [
    "training.set = subset(training.set, select = -c(JobID,Employer) )\n",
    "test.set = subset(test.set, select = -c(JobID,Employer) )\n",
    "nrow(training.set)\n",
    "nrow(test.set)"
   ]
  },
  {
   "cell_type": "code",
   "execution_count": 61,
   "metadata": {
    "collapsed": false
   },
   "outputs": [],
   "source": [
    "# we need the ggplot2 package to get the \"diamonds\" dataset\n",
    "not.installed <- function(pkg) !is.element(pkg, installed.packages()[,1])\n",
    "\n",
    "if (not.installed(\"e1071\")) install.packages(\"e1071\", repos = \"http://cran.r-project.org\")\n",
    "library(e1071)"
   ]
  },
  {
   "cell_type": "code",
   "execution_count": 77,
   "metadata": {
    "collapsed": false
   },
   "outputs": [],
   "source": [
    "svmModel = svm( \n",
    "                class ~ . ,data=training.set,  type = \"C\", \n",
    "                kernel = \"sigmoid\", gamma = 0.5,\n",
    "                cost = 10,  tolerance = 0.001, epsilon = 0.001,\n",
    "                na.action = na.omit,scale=FALSE\n",
    "              )"
   ]
  },
  {
   "cell_type": "code",
   "execution_count": 78,
   "metadata": {
    "collapsed": false
   },
   "outputs": [
    {
     "data": {
      "text/plain": [
       "\n",
       "Call:\n",
       "svm(formula = class ~ ., data = training.set, type = \"C\", kernel = \"sigmoid\", \n",
       "    gamma = 0.5, cost = 10, tolerance = 0.001, epsilon = 0.001, na.action = na.omit, \n",
       "    scale = FALSE)\n",
       "\n",
       "\n",
       "Parameters:\n",
       "   SVM-Type:  C-classification \n",
       " SVM-Kernel:  sigmoid \n",
       "       cost:  10 \n",
       "      gamma:  0.5 \n",
       "     coef.0:  0 \n",
       "\n",
       "Number of Support Vectors:  160\n",
       "\n",
       " ( 81 79 )\n",
       "\n",
       "\n",
       "Number of Classes:  2 \n",
       "\n",
       "Levels: \n",
       " DS nonDS\n",
       "\n",
       "\n"
      ]
     },
     "execution_count": 78,
     "metadata": {},
     "output_type": "execute_result"
    }
   ],
   "source": [
    "summary(svmModel)"
   ]
  },
  {
   "cell_type": "code",
   "execution_count": 79,
   "metadata": {
    "collapsed": false
   },
   "outputs": [
    {
     "data": {
      "text/html": [
       "166"
      ],
      "text/latex": [
       "166"
      ],
      "text/markdown": [
       "166"
      ],
      "text/plain": [
       "[1] 166"
      ]
     },
     "execution_count": 79,
     "metadata": {},
     "output_type": "execute_result"
    },
    {
     "data": {
      "text/html": [
       "36"
      ],
      "text/latex": [
       "36"
      ],
      "text/markdown": [
       "36"
      ],
      "text/plain": [
       "[1] 36"
      ]
     },
     "execution_count": 79,
     "metadata": {},
     "output_type": "execute_result"
    }
   ],
   "source": [
    "svmPred = predict( svmModel, test.set )\n",
    "sum(svmPred==\"nonDS\")\n",
    "sum(svmPred==\"DS\")"
   ]
  },
  {
   "cell_type": "code",
   "execution_count": 80,
   "metadata": {
    "collapsed": false
   },
   "outputs": [],
   "source": [
    "write.table(svmPred, file = \"test_predictions.csv\", append =FALSE, quote = FALSE, sep = \",\",\n",
    "            eol = \"\\n\", na = \"\", dec = \".\", row.names = FALSE,\n",
    "            col.names=FALSE, qmethod = c(\"escape\", \"double\"),\n",
    "            fileEncoding = \"\")\n"
   ]
  },
  {
   "cell_type": "code",
   "execution_count": null,
   "metadata": {
    "collapsed": true
   },
   "outputs": [],
   "source": []
  }
 ],
 "metadata": {
  "kernelspec": {
   "display_name": "R",
   "language": "R",
   "name": "ir"
  },
  "language_info": {
   "codemirror_mode": "r",
   "file_extension": ".r",
   "mimetype": "text/x-r-source",
   "name": "R",
   "pygments_lexer": "r",
   "version": "3.2.4"
  }
 },
 "nbformat": 4,
 "nbformat_minor": 0
}
