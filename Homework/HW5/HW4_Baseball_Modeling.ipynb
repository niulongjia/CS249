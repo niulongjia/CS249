{
 "cells": [
  {
   "cell_type": "markdown",
   "metadata": {},
   "source": [
    "# HW4: Baseball Modeling\n",
    "\n",
    "For this problem please install the <i>Lahman</i> package, a comprehensive package about Baseball statistics,\n",
    "and use it to answer a few questions.\n",
    "\n",
    "Important information:\n",
    "<ul><li>\n",
    "project home page (with links to impressive graphics):  http://lahman.r-forge.r-project.org/\n",
    "</li><li>\n",
    "package documentation (html):  http://lahman.r-forge.r-project.org/doc/\n",
    "</li></ul>\n",
    "\n",
    "The documentation includes descriptions of the many tables in this package, such as the\n",
    "Salaries table: http://lahman.r-forge.r-project.org/doc/Salaries.html\n"
   ]
  },
  {
   "cell_type": "markdown",
   "metadata": {},
   "source": [
    "#  The Goal\n",
    "\n",
    "There are two problems for you to solve:\n",
    "<ul><li>\n",
    "Problem 1: construct a model that predicts a player's salary based on his baseball statistics.\n",
    "Your model should have better performance (higher R-squared) than the baseline model given.\n",
    "</li><li>\n",
    "Problem 2: construct a model that predicts whether a player will be inducted into the Hall of Fame.\n",
    "Your model should have better performance (higher Hall-of-Fame-Accuracy-Rate) than the baseline model given.\n",
    "</li></ul>\n",
    "Here, <i>Hall-of-Fame-Accuracy-Rate</i> is a weighted percentage of correct predictions\n",
    "for players in the Hall of Fame:  <u>correct prediction for players in the Hall of Fame\n",
    "is worth 100 times more than for players who are not in the Hall of Fame.</u>\n",
    "\n",
    "Then, as in HW3, upload a .csv file containing your models to CCLE.\n",
    "\n",
    "\n",
    "## Step 1: build the models\n",
    "\n",
    "Using the 'RelevantInformation' table, one model should predict a player's maximum salary,\n",
    "the other should predict whether or not they will get into the Hall of Fame.\n",
    "\n",
    "<b>YOU CAN USE ANY MODEL YOU LIKE.</b>\n",
    "The baseline models are a linear regression model and a logistic regression model ----------\n",
    "but you can choose <i>any</i> model.\n",
    "Please produce the most accurate models you can --\n",
    "more accurate models will get a higher score.\n",
    "\n",
    "<hr style=\"border-width:20px;\">\n",
    "\n",
    "## Step 2: generate a CSV file \"HW4_Baseball_Models.csv\" including your 2 models\n",
    "\n",
    "If these were your two models, then to complete the assignment you would create\n",
    "a CSV file <tt>HW4_Baseball_Models.csv</tt> containing two lines:\n",
    "\n",
    "<code>\n",
    "      0.8999,\"lm( log10(max_salary) ~ AB+R+H+X2B+X3B+HR+RBI+SB, data = RelevantInformation)\"\n",
    "      0.7888,\"glm( HallOfFame ~ AB+R+H+X2B+X3B+HR+SlugPct, data = RelevantInformation, family=binomial)\"\n",
    "</code>\n",
    "\n",
    "<b>Each line gives the accuracy of a model</b>,\n",
    "as well as <b>the exact command you used to generate the model</b>.\n",
    "There is no length restriction on the lines.\n",
    "\n",
    "<hr style=\"border-width:20px;\">\n",
    "\n",
    "## Step 3: upload your CSV file and notebook to CCLE\n",
    "\n",
    "Finally, go to CCLE and upload:\n",
    "<ul><li>\n",
    "your output CSV file <tt>HW4_Baseball_Models.csv</tt>\n",
    "</li><li>\n",
    "your notebook file <tt>HW4_Baseball_Modeling.ipynb</tt>\n",
    "</li></ul>\n",
    "\n",
    "We are not planning to run any of the uploaded notebooks.\n",
    "However, your notebook should have the commands you used in developing your models ---\n",
    "in order to show your work.\n",
    "As announced, all assignment grading in this course will be automated,\n",
    "and the notebook is needed in order to check results of the grading program."
   ]
  },
  {
   "cell_type": "markdown",
   "metadata": {},
   "source": [
    "# Get the Lahman package for R -- a database of Baseball Statistics"
   ]
  },
  {
   "cell_type": "markdown",
   "metadata": {},
   "source": [
    "<hr style=\"border-width:20px;\">\n",
    "\n",
    "### The safe way to install it, so it will work with Jupyter -- execute the command:\n",
    "\n",
    "<pre>\n",
    "         sudo conda install -c https://conda.anaconda.org/asmeurer r-lahman\n",
    "</pre>\n",
    "### (The 'sudo' is not necessary if your conda installation is not write-protected.)"
   ]
  },
  {
   "cell_type": "markdown",
   "metadata": {},
   "source": [
    "<hr style=\"border-width:20px;\">\n",
    "\n",
    "### Another way to install the Lahman package (if this works from within your Jupyter session):"
   ]
  },
  {
   "cell_type": "code",
   "execution_count": 1,
   "metadata": {
    "collapsed": false
   },
   "outputs": [],
   "source": [
    "if (!(is.element(\"Lahman\", installed.packages()))) install.packages(\"Lahman\", repos=\"http://cran.us.r-project.org\")"
   ]
  },
  {
   "cell_type": "markdown",
   "metadata": {},
   "source": [
    "### Load the Lahman baseball data"
   ]
  },
  {
   "cell_type": "code",
   "execution_count": 2,
   "metadata": {
    "collapsed": false
   },
   "outputs": [
    {
     "name": "stderr",
     "output_type": "stream",
     "text": [
      "Warning message:\n",
      ": package 'Lahman' was built under R version 3.2.5"
     ]
    }
   ],
   "source": [
    "library(Lahman)"
   ]
  },
  {
   "cell_type": "markdown",
   "metadata": {},
   "source": [
    "<hr style=\"border-width:20px;\">\n",
    "\n",
    "### Another way to get the data, if you cannot load the Lahman package:\n",
    "\n",
    "The files\n",
    "<tt>PlayersAndStats.csv</tt>\n",
    "and\n",
    "<tt>PlayersAndStatsAndSalary.csv</tt>\n",
    "are distributed with the homework assignment, and are used in the notebook below.\n",
    "\n",
    "You can use these fiels rather than recompute the tables using the Lahman package."
   ]
  },
  {
   "cell_type": "markdown",
   "metadata": {},
   "source": [
    "# Extract Tables of Relevant Information for your Models"
   ]
  },
  {
   "cell_type": "markdown",
   "metadata": {},
   "source": [
    "### Player information -- from the Master table\n",
    "http://lahman.r-forge.r-project.org/doc/Master.html"
   ]
  },
  {
   "cell_type": "code",
   "execution_count": 3,
   "metadata": {
    "collapsed": false
   },
   "outputs": [
    {
     "data": {
      "text/html": [
       "<table>\n",
       "<thead><tr><th></th><th scope=col>playerID</th><th scope=col>birthYear</th><th scope=col>birthMonth</th><th scope=col>birthDay</th><th scope=col>birthCountry</th><th scope=col>birthState</th><th scope=col>birthCity</th><th scope=col>deathYear</th><th scope=col>deathMonth</th><th scope=col>deathDay</th><th scope=col>ellip.h</th><th scope=col>weight</th><th scope=col>height</th><th scope=col>bats</th><th scope=col>throws</th><th scope=col>debut</th><th scope=col>finalGame</th><th scope=col>retroID</th><th scope=col>bbrefID</th><th scope=col>deathDate</th><th scope=col>birthDate</th></tr></thead>\n",
       "<tbody>\n",
       "\t<tr><th scope=row>1</th><td>aardsda01</td><td>1981</td><td>12</td><td>27</td><td>USA</td><td>CO</td><td>Denver</td><td>NA</td><td>NA</td><td>NA</td><td><e2><8b><af></td><td>205</td><td>75</td><td>R</td><td>R</td><td>4/6/2004</td><td>9/28/2013</td><td>aardd001</td><td>aardsda01</td><td>NA</td><td>1981-12-27</td></tr>\n",
       "\t<tr><th scope=row>2</th><td>aaronha01</td><td>1934</td><td>2</td><td>5</td><td>USA</td><td>AL</td><td>Mobile</td><td>NA</td><td>NA</td><td>NA</td><td><e2><8b><af></td><td>180</td><td>72</td><td>R</td><td>R</td><td>4/13/1954</td><td>10/3/1976</td><td>aaroh101</td><td>aaronha01</td><td>NA</td><td>1934-02-05</td></tr>\n",
       "\t<tr><th scope=row>3</th><td>aaronto01</td><td>1939</td><td>8</td><td>5</td><td>USA</td><td>AL</td><td>Mobile</td><td>1984</td><td>8</td><td>16</td><td><e2><8b><af></td><td>190</td><td>75</td><td>R</td><td>R</td><td>4/10/1962</td><td>9/26/1971</td><td>aarot101</td><td>aaronto01</td><td>1984-08-16</td><td>1939-08-05</td></tr>\n",
       "\t<tr><th scope=row>4</th><td>aasedo01</td><td>1954</td><td>9</td><td>8</td><td>USA</td><td>CA</td><td>Orange</td><td>NA</td><td>NA</td><td>NA</td><td><e2><8b><af></td><td>190</td><td>75</td><td>R</td><td>R</td><td>7/26/1977</td><td>10/3/1990</td><td>aased001</td><td>aasedo01</td><td>NA</td><td>1954-09-08</td></tr>\n",
       "\t<tr><th scope=row>5</th><td>abadan01</td><td>1972</td><td>8</td><td>25</td><td>USA</td><td>FL</td><td>Palm Beach</td><td>NA</td><td>NA</td><td>NA</td><td><e2><8b><af></td><td>184</td><td>73</td><td>L</td><td>L</td><td>9/10/2001</td><td>4/13/2006</td><td>abada001</td><td>abadan01</td><td>NA</td><td>1972-08-25</td></tr>\n",
       "\t<tr><th scope=row>6</th><td>abadfe01</td><td>1985</td><td>12</td><td>17</td><td>D.R.</td><td>La Romana</td><td>La Romana</td><td>NA</td><td>NA</td><td>NA</td><td><e2><8b><af></td><td>220</td><td>73</td><td>L</td><td>L</td><td>7/28/2010</td><td>9/27/2014</td><td>abadf001</td><td>abadfe01</td><td>NA</td><td>1985-12-17</td></tr>\n",
       "</tbody>\n",
       "</table>\n"
      ],
      "text/latex": [
       "\\begin{tabular}{r|llllllllllllllllllllllllll}\n",
       "  & playerID & birthYear & birthMonth & birthDay & birthCountry & birthState & birthCity & deathYear & deathMonth & deathDay & ellip.h & weight & height & bats & throws & debut & finalGame & retroID & bbrefID & deathDate & birthDate\\\\\n",
       "\\hline\n",
       "\t1 & aardsda01 & 1981 & 12 & 27 & USA & CO & Denver & NA & NA & NA & <e2><8b><af> & 205 & 75 & R & R & 4/6/2004 & 9/28/2013 & aardd001 & aardsda01 & NA & 1981-12-27\\\\\n",
       "\t2 & aaronha01 & 1934 & 2 & 5 & USA & AL & Mobile & NA & NA & NA & <e2><8b><af> & 180 & 72 & R & R & 4/13/1954 & 10/3/1976 & aaroh101 & aaronha01 & NA & 1934-02-05\\\\\n",
       "\t3 & aaronto01 & 1939 & 8 & 5 & USA & AL & Mobile & 1984 & 8 & 16 & <e2><8b><af> & 190 & 75 & R & R & 4/10/1962 & 9/26/1971 & aarot101 & aaronto01 & 1984-08-16 & 1939-08-05\\\\\n",
       "\t4 & aasedo01 & 1954 & 9 & 8 & USA & CA & Orange & NA & NA & NA & <e2><8b><af> & 190 & 75 & R & R & 7/26/1977 & 10/3/1990 & aased001 & aasedo01 & NA & 1954-09-08\\\\\n",
       "\t5 & abadan01 & 1972 & 8 & 25 & USA & FL & Palm Beach & NA & NA & NA & <e2><8b><af> & 184 & 73 & L & L & 9/10/2001 & 4/13/2006 & abada001 & abadan01 & NA & 1972-08-25\\\\\n",
       "\t6 & abadfe01 & 1985 & 12 & 17 & D.R. & La Romana & La Romana & NA & NA & NA & <e2><8b><af> & 220 & 73 & L & L & 7/28/2010 & 9/27/2014 & abadf001 & abadfe01 & NA & 1985-12-17\\\\\n",
       "\\end{tabular}\n"
      ],
      "text/plain": [
       "   playerID birthYear birthMonth birthDay birthCountry birthState  birthCity\n",
       "1 aardsda01      1981         12       27          USA         CO     Denver\n",
       "2 aaronha01      1934          2        5          USA         AL     Mobile\n",
       "3 aaronto01      1939          8        5          USA         AL     Mobile\n",
       "4  aasedo01      1954          9        8          USA         CA     Orange\n",
       "5  abadan01      1972          8       25          USA         FL Palm Beach\n",
       "6  abadfe01      1985         12       17         D.R.  La Romana  La Romana\n",
       "  deathYear deathMonth deathDay deathCountry deathState deathCity nameFirst\n",
       "1        NA         NA       NA         <NA>       <NA>      <NA>     David\n",
       "2        NA         NA       NA         <NA>       <NA>      <NA>      Hank\n",
       "3      1984          8       16          USA         GA   Atlanta    Tommie\n",
       "4        NA         NA       NA         <NA>       <NA>      <NA>       Don\n",
       "5        NA         NA       NA         <NA>       <NA>      <NA>      Andy\n",
       "6        NA         NA       NA         <NA>       <NA>      <NA>  Fernando\n",
       "  nameLast        nameGiven weight height bats throws     debut finalGame\n",
       "1  Aardsma      David Allan    205     75    R      R  4/6/2004 9/28/2013\n",
       "2    Aaron      Henry Louis    180     72    R      R 4/13/1954 10/3/1976\n",
       "3    Aaron       Tommie Lee    190     75    R      R 4/10/1962 9/26/1971\n",
       "4     Aase   Donald William    190     75    R      R 7/26/1977 10/3/1990\n",
       "5     Abad    Fausto Andres    184     73    L      L 9/10/2001 4/13/2006\n",
       "6     Abad Fernando Antonio    220     73    L      L 7/28/2010 9/27/2014\n",
       "   retroID   bbrefID  deathDate  birthDate\n",
       "1 aardd001 aardsda01       <NA> 1981-12-27\n",
       "2 aaroh101 aaronha01       <NA> 1934-02-05\n",
       "3 aarot101 aaronto01 1984-08-16 1939-08-05\n",
       "4 aased001  aasedo01       <NA> 1954-09-08\n",
       "5 abada001  abadan01       <NA> 1972-08-25\n",
       "6 abadf001  abadfe01       <NA> 1985-12-17"
      ]
     },
     "execution_count": 3,
     "metadata": {},
     "output_type": "execute_result"
    }
   ],
   "source": [
    "head(Master)"
   ]
  },
  {
   "cell_type": "code",
   "execution_count": 4,
   "metadata": {
    "collapsed": false
   },
   "outputs": [
    {
     "data": {
      "text/plain": [
       "   playerID          nameFirst           nameLast           birthYear   \n",
       " Length:17071       Length:17071       Length:17071       Min.   :1835  \n",
       " Class :character   Class :character   Class :character   1st Qu.:1902  \n",
       " Mode  :character   Mode  :character   Mode  :character   Median :1941  \n",
       "                                                          Mean   :1935  \n",
       "                                                          3rd Qu.:1969  \n",
       "                                                          Max.   :1994  \n",
       "     weight          height      bats      throws   \n",
       " Min.   : 65.0   Min.   :43.00   B: 1131   L: 3430  \n",
       " 1st Qu.:170.0   1st Qu.:71.00   L: 4721   R:13641  \n",
       " Median :185.0   Median :72.00   R:11219            \n",
       " Mean   :186.2   Mean   :72.34                      \n",
       " 3rd Qu.:200.0   3rd Qu.:74.00                      \n",
       " Max.   :320.0   Max.   :83.00                      "
      ]
     },
     "execution_count": 4,
     "metadata": {},
     "output_type": "execute_result"
    }
   ],
   "source": [
    "SelectedColumns = c(\"playerID\",\"nameFirst\",\"nameLast\",\"birthYear\", \"weight\",\"height\",\"bats\",\"throws\")\n",
    "Players = na.omit( Master[, SelectedColumns] )\n",
    "summary(Players)"
   ]
  },
  {
   "cell_type": "markdown",
   "metadata": {},
   "source": [
    "### Player Maximum Salary -- from the Salaries table\n",
    "http://lahman.r-forge.r-project.org/doc/Salaries.html"
   ]
  },
  {
   "cell_type": "code",
   "execution_count": 5,
   "metadata": {
    "collapsed": false
   },
   "outputs": [
    {
     "data": {
      "text/html": [
       "<table>\n",
       "<thead><tr><th></th><th scope=col>yearID</th><th scope=col>teamID</th><th scope=col>lgID</th><th scope=col>playerID</th><th scope=col>salary</th></tr></thead>\n",
       "<tbody>\n",
       "\t<tr><th scope=row>1</th><td>1985</td><td>ATL</td><td>NL</td><td>barkele01</td><td>870000</td></tr>\n",
       "\t<tr><th scope=row>2</th><td>1985</td><td>ATL</td><td>NL</td><td>bedrost01</td><td>550000</td></tr>\n",
       "\t<tr><th scope=row>3</th><td>1985</td><td>ATL</td><td>NL</td><td>benedbr01</td><td>545000</td></tr>\n",
       "\t<tr><th scope=row>4</th><td>1985</td><td>ATL</td><td>NL</td><td>campri01</td><td>633333</td></tr>\n",
       "\t<tr><th scope=row>5</th><td>1985</td><td>ATL</td><td>NL</td><td>ceronri01</td><td>625000</td></tr>\n",
       "\t<tr><th scope=row>6</th><td>1985</td><td>ATL</td><td>NL</td><td>chambch01</td><td>800000</td></tr>\n",
       "</tbody>\n",
       "</table>\n"
      ],
      "text/latex": [
       "\\begin{tabular}{r|lllll}\n",
       "  & yearID & teamID & lgID & playerID & salary\\\\\n",
       "\\hline\n",
       "\t1 & 1985 & ATL & NL & barkele01 & 870000\\\\\n",
       "\t2 & 1985 & ATL & NL & bedrost01 & 550000\\\\\n",
       "\t3 & 1985 & ATL & NL & benedbr01 & 545000\\\\\n",
       "\t4 & 1985 & ATL & NL & campri01 & 633333\\\\\n",
       "\t5 & 1985 & ATL & NL & ceronri01 & 625000\\\\\n",
       "\t6 & 1985 & ATL & NL & chambch01 & 800000\\\\\n",
       "\\end{tabular}\n"
      ],
      "text/plain": [
       "  yearID teamID lgID  playerID salary\n",
       "1   1985    ATL   NL barkele01 870000\n",
       "2   1985    ATL   NL bedrost01 550000\n",
       "3   1985    ATL   NL benedbr01 545000\n",
       "4   1985    ATL   NL  campri01 633333\n",
       "5   1985    ATL   NL ceronri01 625000\n",
       "6   1985    ATL   NL chambch01 800000"
      ]
     },
     "execution_count": 5,
     "metadata": {},
     "output_type": "execute_result"
    }
   ],
   "source": [
    "head(Salaries)"
   ]
  },
  {
   "cell_type": "code",
   "execution_count": 6,
   "metadata": {
    "collapsed": false
   },
   "outputs": [
    {
     "data": {
      "text/plain": [
       "     yearID         teamID      lgID         playerID        \n",
       " Min.   :1985   CLE    :  893   AL:12123   Length:24758      \n",
       " 1st Qu.:1993   LAN    :  893   NL:12635   Class :character  \n",
       " Median :2000   PHI    :  893              Mode  :character  \n",
       " Mean   :2000   SLN    :  886                                \n",
       " 3rd Qu.:2007   BAL    :  883                                \n",
       " Max.   :2014   BOS    :  883                                \n",
       "                (Other):19427                                \n",
       "     salary        \n",
       " Min.   :       0  \n",
       " 1st Qu.:  260000  \n",
       " Median :  525000  \n",
       " Mean   : 1932905  \n",
       " 3rd Qu.: 2199643  \n",
       " Max.   :33000000  \n",
       "                   "
      ]
     },
     "execution_count": 6,
     "metadata": {},
     "output_type": "execute_result"
    },
    {
     "data": {
      "text/html": [
       "<table>\n",
       "<thead><tr><th></th><th scope=col>playerID</th><th scope=col>salary</th></tr></thead>\n",
       "<tbody>\n",
       "\t<tr><th scope=row>1</th><td>aardsda01</td><td>4500000</td></tr>\n",
       "\t<tr><th scope=row>2</th><td>aasedo01</td><td>675000</td></tr>\n",
       "\t<tr><th scope=row>3</th><td>abadan01</td><td>327000</td></tr>\n",
       "\t<tr><th scope=row>4</th><td>abadfe01</td><td>525900</td></tr>\n",
       "\t<tr><th scope=row>5</th><td>abbotje01</td><td>300000</td></tr>\n",
       "\t<tr><th scope=row>6</th><td>abbotji01</td><td>2775000</td></tr>\n",
       "</tbody>\n",
       "</table>\n"
      ],
      "text/latex": [
       "\\begin{tabular}{r|ll}\n",
       "  & playerID & salary\\\\\n",
       "\\hline\n",
       "\t1 & aardsda01 & 4500000\\\\\n",
       "\t2 & aasedo01 & 675000\\\\\n",
       "\t3 & abadan01 & 327000\\\\\n",
       "\t4 & abadfe01 & 525900\\\\\n",
       "\t5 & abbotje01 & 300000\\\\\n",
       "\t6 & abbotji01 & 2775000\\\\\n",
       "\\end{tabular}\n"
      ],
      "text/plain": [
       "   playerID  salary\n",
       "1 aardsda01 4500000\n",
       "2  aasedo01  675000\n",
       "3  abadan01  327000\n",
       "4  abadfe01  525900\n",
       "5 abbotje01  300000\n",
       "6 abbotji01 2775000"
      ]
     },
     "execution_count": 6,
     "metadata": {},
     "output_type": "execute_result"
    },
    {
     "data": {
      "text/html": [
       "<table>\n",
       "<thead><tr><th></th><th scope=col>playerID</th><th scope=col>max_salary</th></tr></thead>\n",
       "<tbody>\n",
       "\t<tr><th scope=row>1</th><td>aardsda01</td><td>4500000</td></tr>\n",
       "\t<tr><th scope=row>2</th><td>aasedo01</td><td>675000</td></tr>\n",
       "\t<tr><th scope=row>3</th><td>abadan01</td><td>327000</td></tr>\n",
       "\t<tr><th scope=row>4</th><td>abadfe01</td><td>525900</td></tr>\n",
       "\t<tr><th scope=row>5</th><td>abbotje01</td><td>300000</td></tr>\n",
       "\t<tr><th scope=row>6</th><td>abbotji01</td><td>2775000</td></tr>\n",
       "</tbody>\n",
       "</table>\n"
      ],
      "text/latex": [
       "\\begin{tabular}{r|ll}\n",
       "  & playerID & max_salary\\\\\n",
       "\\hline\n",
       "\t1 & aardsda01 & 4500000\\\\\n",
       "\t2 & aasedo01 & 675000\\\\\n",
       "\t3 & abadan01 & 327000\\\\\n",
       "\t4 & abadfe01 & 525900\\\\\n",
       "\t5 & abbotje01 & 300000\\\\\n",
       "\t6 & abbotji01 & 2775000\\\\\n",
       "\\end{tabular}\n"
      ],
      "text/plain": [
       "   playerID max_salary\n",
       "1 aardsda01    4500000\n",
       "2  aasedo01     675000\n",
       "3  abadan01     327000\n",
       "4  abadfe01     525900\n",
       "5 abbotje01     300000\n",
       "6 abbotji01    2775000"
      ]
     },
     "execution_count": 6,
     "metadata": {},
     "output_type": "execute_result"
    }
   ],
   "source": [
    "summary(Salaries)\n",
    "\n",
    "# example(Salaries)  # see demos of results from the Salaries table\n",
    "\n",
    "PlayerMaxSalary = aggregate( salary ~ playerID, Salaries, max )\n",
    "head(PlayerMaxSalary)\n",
    "colnames(PlayerMaxSalary) = gsub( \"salary\", \"max_salary\", colnames(PlayerMaxSalary) )\n",
    "\n",
    "head(PlayerMaxSalary)"
   ]
  },
  {
   "cell_type": "code",
   "execution_count": 7,
   "metadata": {
    "collapsed": false
   },
   "outputs": [
    {
     "data": {
      "text/html": [
       "<table>\n",
       "<thead><tr><th></th><th scope=col>playerID</th><th scope=col>startYear</th></tr></thead>\n",
       "<tbody>\n",
       "\t<tr><th scope=row>1</th><td>aardsda01</td><td>2004</td></tr>\n",
       "\t<tr><th scope=row>2</th><td>aasedo01</td><td>1986</td></tr>\n",
       "\t<tr><th scope=row>3</th><td>abadan01</td><td>2006</td></tr>\n",
       "\t<tr><th scope=row>4</th><td>abadfe01</td><td>2011</td></tr>\n",
       "\t<tr><th scope=row>5</th><td>abbotje01</td><td>1998</td></tr>\n",
       "\t<tr><th scope=row>6</th><td>abbotji01</td><td>1989</td></tr>\n",
       "</tbody>\n",
       "</table>\n"
      ],
      "text/latex": [
       "\\begin{tabular}{r|ll}\n",
       "  & playerID & startYear\\\\\n",
       "\\hline\n",
       "\t1 & aardsda01 & 2004\\\\\n",
       "\t2 & aasedo01 & 1986\\\\\n",
       "\t3 & abadan01 & 2006\\\\\n",
       "\t4 & abadfe01 & 2011\\\\\n",
       "\t5 & abbotje01 & 1998\\\\\n",
       "\t6 & abbotji01 & 1989\\\\\n",
       "\\end{tabular}\n"
      ],
      "text/plain": [
       "   playerID startYear\n",
       "1 aardsda01      2004\n",
       "2  aasedo01      1986\n",
       "3  abadan01      2006\n",
       "4  abadfe01      2011\n",
       "5 abbotje01      1998\n",
       "6 abbotji01      1989"
      ]
     },
     "execution_count": 7,
     "metadata": {},
     "output_type": "execute_result"
    },
    {
     "data": {
      "text/html": [
       "<table>\n",
       "<thead><tr><th></th><th scope=col>playerID</th><th scope=col>endYear</th></tr></thead>\n",
       "<tbody>\n",
       "\t<tr><th scope=row>1</th><td>aardsda01</td><td>2012</td></tr>\n",
       "\t<tr><th scope=row>2</th><td>aasedo01</td><td>1989</td></tr>\n",
       "\t<tr><th scope=row>3</th><td>abadan01</td><td>2006</td></tr>\n",
       "\t<tr><th scope=row>4</th><td>abadfe01</td><td>2014</td></tr>\n",
       "\t<tr><th scope=row>5</th><td>abbotje01</td><td>2001</td></tr>\n",
       "\t<tr><th scope=row>6</th><td>abbotji01</td><td>1999</td></tr>\n",
       "</tbody>\n",
       "</table>\n"
      ],
      "text/latex": [
       "\\begin{tabular}{r|ll}\n",
       "  & playerID & endYear\\\\\n",
       "\\hline\n",
       "\t1 & aardsda01 & 2012\\\\\n",
       "\t2 & aasedo01 & 1989\\\\\n",
       "\t3 & abadan01 & 2006\\\\\n",
       "\t4 & abadfe01 & 2014\\\\\n",
       "\t5 & abbotje01 & 2001\\\\\n",
       "\t6 & abbotji01 & 1999\\\\\n",
       "\\end{tabular}\n"
      ],
      "text/plain": [
       "   playerID endYear\n",
       "1 aardsda01    2012\n",
       "2  aasedo01    1989\n",
       "3  abadan01    2006\n",
       "4  abadfe01    2014\n",
       "5 abbotje01    2001\n",
       "6 abbotji01    1999"
      ]
     },
     "execution_count": 7,
     "metadata": {},
     "output_type": "execute_result"
    }
   ],
   "source": [
    "PlayerStartYear = aggregate( yearID ~ playerID, Salaries, min )\n",
    "colnames(PlayerStartYear) = gsub( \"yearID\", \"startYear\", colnames(PlayerStartYear) )\n",
    "\n",
    "PlayerEndYear = aggregate( yearID ~ playerID, Salaries, max )\n",
    "colnames(PlayerEndYear) = gsub( \"yearID\", \"endYear\", colnames(PlayerEndYear) )\n",
    "\n",
    "head(PlayerStartYear)\n",
    "head(PlayerEndYear)"
   ]
  },
  {
   "cell_type": "markdown",
   "metadata": {},
   "source": [
    "### Batting Statistics -- from the BattingStats table\n",
    "http://lahman.r-forge.r-project.org/doc/battingStats.html\n",
    "   \n",
    "(See also the Batting table:\n",
    "http://lahman.r-forge.r-project.org/doc/Batting.html )\n",
    "\n",
    "A glossary for Baseball Statistics Acronyms is in\n",
    "   http://en.wikipedia.org/wiki/Baseball_statistics"
   ]
  },
  {
   "cell_type": "code",
   "execution_count": 8,
   "metadata": {
    "collapsed": true
   },
   "outputs": [],
   "source": [
    "BattingStats = battingStats()"
   ]
  },
  {
   "cell_type": "code",
   "execution_count": 9,
   "metadata": {
    "collapsed": false
   },
   "outputs": [
    {
     "data": {
      "text/html": [
       "<table>\n",
       "<thead><tr><th></th><th scope=col>playerID</th><th scope=col>yearID</th><th scope=col>stint</th><th scope=col>teamID</th><th scope=col>lgID</th><th scope=col>G</th><th scope=col>AB</th><th scope=col>R</th><th scope=col>H</th><th scope=col>X2B</th><th scope=col>ellip.h</th><th scope=col>SH</th><th scope=col>SF</th><th scope=col>GIDP</th><th scope=col>BA</th><th scope=col>PA</th><th scope=col>TB</th><th scope=col>SlugPct</th><th scope=col>OBP</th><th scope=col>OPS</th><th scope=col>BABIP</th></tr></thead>\n",
       "<tbody>\n",
       "\t<tr><th scope=row>1</th><td>abercda01</td><td>1871</td><td>1</td><td>TRO</td><td>NA</td><td>1</td><td>4</td><td>0</td><td>0</td><td>0</td><td><e2><8b><af></td><td>NA</td><td>NA</td><td>NA</td><td>0</td><td>4</td><td>0</td><td>0</td><td>0</td><td>0</td><td>0</td></tr>\n",
       "\t<tr><th scope=row>2</th><td>addybo01</td><td>1871</td><td>1</td><td>RC1</td><td>NA</td><td>25</td><td>118</td><td>30</td><td>32</td><td>6</td><td><e2><8b><af></td><td>NA</td><td>NA</td><td>NA</td><td>0.271</td><td>122</td><td>38</td><td>0.322</td><td>0.295</td><td>0.617</td><td>0.271</td></tr>\n",
       "\t<tr><th scope=row>3</th><td>allisar01</td><td>1871</td><td>1</td><td>CL1</td><td>NA</td><td>29</td><td>137</td><td>28</td><td>40</td><td>4</td><td><e2><8b><af></td><td>NA</td><td>NA</td><td>NA</td><td>0.292</td><td>139</td><td>54</td><td>0.394</td><td>0.302</td><td>0.696</td><td>0.303</td></tr>\n",
       "\t<tr><th scope=row>4</th><td>allisdo01</td><td>1871</td><td>1</td><td>WS3</td><td>NA</td><td>27</td><td>133</td><td>28</td><td>44</td><td>10</td><td><e2><8b><af></td><td>NA</td><td>NA</td><td>NA</td><td>0.331</td><td>133</td><td>64</td><td>0.481</td><td>0.331</td><td>0.812</td><td>0.326</td></tr>\n",
       "\t<tr><th scope=row>5</th><td>ansonca01</td><td>1871</td><td>1</td><td>RC1</td><td>NA</td><td>25</td><td>120</td><td>29</td><td>39</td><td>11</td><td><e2><8b><af></td><td>NA</td><td>NA</td><td>NA</td><td>0.325</td><td>122</td><td>56</td><td>0.467</td><td>0.336</td><td>0.803</td><td>0.328</td></tr>\n",
       "\t<tr><th scope=row>6</th><td>armstbo01</td><td>1871</td><td>1</td><td>FW1</td><td>NA</td><td>12</td><td>49</td><td>9</td><td>11</td><td>2</td><td><e2><8b><af></td><td>NA</td><td>NA</td><td>NA</td><td>0.224</td><td>49</td><td>15</td><td>0.306</td><td>0.224</td><td>0.53</td><td>0.229</td></tr>\n",
       "</tbody>\n",
       "</table>\n"
      ],
      "text/latex": [
       "\\begin{tabular}{r|lllllllllllllllllllllllllllll}\n",
       "  & playerID & yearID & stint & teamID & lgID & G & AB & R & H & X2B & ellip.h & SH & SF & GIDP & BA & PA & TB & SlugPct & OBP & OPS & BABIP\\\\\n",
       "\\hline\n",
       "\t1 & abercda01 & 1871 & 1 & TRO & NA & 1 & 4 & 0 & 0 & 0 & <e2><8b><af> & NA & NA & NA & 0 & 4 & 0 & 0 & 0 & 0 & 0\\\\\n",
       "\t2 & addybo01 & 1871 & 1 & RC1 & NA & 25 & 118 & 30 & 32 & 6 & <e2><8b><af> & NA & NA & NA & 0.271 & 122 & 38 & 0.322 & 0.295 & 0.617 & 0.271\\\\\n",
       "\t3 & allisar01 & 1871 & 1 & CL1 & NA & 29 & 137 & 28 & 40 & 4 & <e2><8b><af> & NA & NA & NA & 0.292 & 139 & 54 & 0.394 & 0.302 & 0.696 & 0.303\\\\\n",
       "\t4 & allisdo01 & 1871 & 1 & WS3 & NA & 27 & 133 & 28 & 44 & 10 & <e2><8b><af> & NA & NA & NA & 0.331 & 133 & 64 & 0.481 & 0.331 & 0.812 & 0.326\\\\\n",
       "\t5 & ansonca01 & 1871 & 1 & RC1 & NA & 25 & 120 & 29 & 39 & 11 & <e2><8b><af> & NA & NA & NA & 0.325 & 122 & 56 & 0.467 & 0.336 & 0.803 & 0.328\\\\\n",
       "\t6 & armstbo01 & 1871 & 1 & FW1 & NA & 12 & 49 & 9 & 11 & 2 & <e2><8b><af> & NA & NA & NA & 0.224 & 49 & 15 & 0.306 & 0.224 & 0.53 & 0.229\\\\\n",
       "\\end{tabular}\n"
      ],
      "text/plain": [
       "   playerID yearID stint teamID lgID  G  AB  R  H X2B X3B HR RBI SB CS BB SO\n",
       "1 abercda01   1871     1    TRO   NA  1   4  0  0   0   0  0   0  0  0  0  0\n",
       "2  addybo01   1871     1    RC1   NA 25 118 30 32   6   0  0  13  8  1  4  0\n",
       "3 allisar01   1871     1    CL1   NA 29 137 28 40   4   5  0  19  3  1  2  5\n",
       "4 allisdo01   1871     1    WS3   NA 27 133 28 44  10   2  2  27  1  1  0  2\n",
       "5 ansonca01   1871     1    RC1   NA 25 120 29 39  11   3  0  16  6  2  2  1\n",
       "6 armstbo01   1871     1    FW1   NA 12  49  9 11   2   1  0   5  0  1  0  1\n",
       "  IBB HBP SH SF GIDP    BA  PA TB SlugPct   OBP   OPS BABIP\n",
       "1  NA  NA NA NA   NA 0.000   4  0   0.000 0.000 0.000 0.000\n",
       "2  NA  NA NA NA   NA 0.271 122 38   0.322 0.295 0.617 0.271\n",
       "3  NA  NA NA NA   NA 0.292 139 54   0.394 0.302 0.696 0.303\n",
       "4  NA  NA NA NA   NA 0.331 133 64   0.481 0.331 0.812 0.326\n",
       "5  NA  NA NA NA   NA 0.325 122 56   0.467 0.336 0.803 0.328\n",
       "6  NA  NA NA NA   NA 0.224  49 15   0.306 0.224 0.530 0.229"
      ]
     },
     "execution_count": 9,
     "metadata": {},
     "output_type": "execute_result"
    }
   ],
   "source": [
    "head(BattingStats)"
   ]
  },
  {
   "cell_type": "markdown",
   "metadata": {},
   "source": [
    "### Aggregate Batting Stats -- cumulative, over a player's career"
   ]
  },
  {
   "cell_type": "code",
   "execution_count": 10,
   "metadata": {
    "collapsed": false
   },
   "outputs": [
    {
     "data": {
      "text/html": [
       "11933"
      ],
      "text/latex": [
       "11933"
      ],
      "text/markdown": [
       "11933"
      ],
      "text/plain": [
       "[1] 11933"
      ]
     },
     "execution_count": 10,
     "metadata": {},
     "output_type": "execute_result"
    },
    {
     "data": {
      "text/html": [
       "<table>\n",
       "<thead><tr><th></th><th scope=col>playerID</th><th scope=col>AB</th><th scope=col>R</th><th scope=col>H</th><th scope=col>X2B</th><th scope=col>X3B</th><th scope=col>HR</th><th scope=col>RBI</th><th scope=col>SB</th><th scope=col>CS</th><th scope=col>BB</th><th scope=col>BA</th><th scope=col>PA</th><th scope=col>TB</th></tr></thead>\n",
       "<tbody>\n",
       "\t<tr><th scope=row>1</th><td>aardsda01</td><td>3</td><td>0</td><td>0</td><td>0</td><td>0</td><td>0</td><td>0</td><td>0</td><td>0</td><td>0</td><td>0</td><td>4</td><td>0</td></tr>\n",
       "\t<tr><th scope=row>2</th><td>aaronha01</td><td>12364</td><td>2174</td><td>3771</td><td>624</td><td>98</td><td>755</td><td>2297</td><td>240</td><td>73</td><td>1402</td><td>6.927</td><td>13940</td><td>6856</td></tr>\n",
       "\t<tr><th scope=row>3</th><td>aaronto01</td><td>944</td><td>102</td><td>216</td><td>42</td><td>6</td><td>13</td><td>94</td><td>9</td><td>8</td><td>86</td><td>1.545</td><td>1045</td><td>309</td></tr>\n",
       "\t<tr><th scope=row>4</th><td>aasedo01</td><td>5</td><td>0</td><td>0</td><td>0</td><td>0</td><td>0</td><td>0</td><td>0</td><td>0</td><td>0</td><td>0</td><td>5</td><td>0</td></tr>\n",
       "\t<tr><th scope=row>5</th><td>abadan01</td><td>21</td><td>1</td><td>2</td><td>0</td><td>0</td><td>0</td><td>0</td><td>0</td><td>1</td><td>4</td><td>0.118</td><td>25</td><td>2</td></tr>\n",
       "\t<tr><th scope=row>6</th><td>abadfe01</td><td>8</td><td>0</td><td>1</td><td>0</td><td>0</td><td>0</td><td>0</td><td>0</td><td>0</td><td>0</td><td>0.143</td><td>8</td><td>1</td></tr>\n",
       "</tbody>\n",
       "</table>\n"
      ],
      "text/latex": [
       "\\begin{tabular}{r|llllllllllllll}\n",
       "  & playerID & AB & R & H & X2B & X3B & HR & RBI & SB & CS & BB & BA & PA & TB\\\\\n",
       "\\hline\n",
       "\t1 & aardsda01 & 3 & 0 & 0 & 0 & 0 & 0 & 0 & 0 & 0 & 0 & 0 & 4 & 0\\\\\n",
       "\t2 & aaronha01 & 12364 & 2174 & 3771 & 624 & 98 & 755 & 2297 & 240 & 73 & 1402 & 6.927 & 13940 & 6856\\\\\n",
       "\t3 & aaronto01 & 944 & 102 & 216 & 42 & 6 & 13 & 94 & 9 & 8 & 86 & 1.545 & 1045 & 309\\\\\n",
       "\t4 & aasedo01 & 5 & 0 & 0 & 0 & 0 & 0 & 0 & 0 & 0 & 0 & 0 & 5 & 0\\\\\n",
       "\t5 & abadan01 & 21 & 1 & 2 & 0 & 0 & 0 & 0 & 0 & 1 & 4 & 0.118 & 25 & 2\\\\\n",
       "\t6 & abadfe01 & 8 & 0 & 1 & 0 & 0 & 0 & 0 & 0 & 0 & 0 & 0.143 & 8 & 1\\\\\n",
       "\\end{tabular}\n"
      ],
      "text/plain": [
       "   playerID    AB    R    H X2B X3B  HR  RBI  SB CS   BB    BA    PA   TB\n",
       "1 aardsda01     3    0    0   0   0   0    0   0  0    0 0.000     4    0\n",
       "2 aaronha01 12364 2174 3771 624  98 755 2297 240 73 1402 6.927 13940 6856\n",
       "3 aaronto01   944  102  216  42   6  13   94   9  8   86 1.545  1045  309\n",
       "4  aasedo01     5    0    0   0   0   0    0   0  0    0 0.000     5    0\n",
       "5  abadan01    21    1    2   0   0   0    0   0  1    4 0.118    25    2\n",
       "6  abadfe01     8    0    1   0   0   0    0   0  0    0 0.143     8    1"
      ]
     },
     "execution_count": 10,
     "metadata": {},
     "output_type": "execute_result"
    },
    {
     "data": {
      "text/html": [
       "16037"
      ],
      "text/latex": [
       "16037"
      ],
      "text/markdown": [
       "16037"
      ],
      "text/plain": [
       "[1] 16037"
      ]
     },
     "execution_count": 10,
     "metadata": {},
     "output_type": "execute_result"
    },
    {
     "data": {
      "text/html": [
       "<table>\n",
       "<thead><tr><th></th><th scope=col>playerID</th><th scope=col>SlugPct</th><th scope=col>OBP</th><th scope=col>OPS</th><th scope=col>BABIP</th></tr></thead>\n",
       "<tbody>\n",
       "\t<tr><th scope=row>1</th><td>aardsda01</td><td>0</td><td>0</td><td>0</td><td>0</td></tr>\n",
       "\t<tr><th scope=row>2</th><td>aaronha01</td><td>0.669</td><td>0.41</td><td>1.079</td><td>0.338</td></tr>\n",
       "\t<tr><th scope=row>3</th><td>aaronto01</td><td>0.374</td><td>0.318</td><td>0.686</td><td>0.276</td></tr>\n",
       "\t<tr><th scope=row>4</th><td>aasedo01</td><td>0</td><td>0</td><td>0</td><td>0</td></tr>\n",
       "\t<tr><th scope=row>5</th><td>abadan01</td><td>0.118</td><td>0.4</td><td>0.4</td><td>0.167</td></tr>\n",
       "\t<tr><th scope=row>6</th><td>abadfe01</td><td>0.143</td><td>0.143</td><td>0.286</td><td>0.25</td></tr>\n",
       "</tbody>\n",
       "</table>\n"
      ],
      "text/latex": [
       "\\begin{tabular}{r|lllll}\n",
       "  & playerID & SlugPct & OBP & OPS & BABIP\\\\\n",
       "\\hline\n",
       "\t1 & aardsda01 & 0 & 0 & 0 & 0\\\\\n",
       "\t2 & aaronha01 & 0.669 & 0.41 & 1.079 & 0.338\\\\\n",
       "\t3 & aaronto01 & 0.374 & 0.318 & 0.686 & 0.276\\\\\n",
       "\t4 & aasedo01 & 0 & 0 & 0 & 0\\\\\n",
       "\t5 & abadan01 & 0.118 & 0.4 & 0.4 & 0.167\\\\\n",
       "\t6 & abadfe01 & 0.143 & 0.143 & 0.286 & 0.25\\\\\n",
       "\\end{tabular}\n"
      ],
      "text/plain": [
       "   playerID SlugPct   OBP   OPS BABIP\n",
       "1 aardsda01   0.000 0.000 0.000 0.000\n",
       "2 aaronha01   0.669 0.410 1.079 0.338\n",
       "3 aaronto01   0.374 0.318 0.686 0.276\n",
       "4  aasedo01   0.000 0.000 0.000 0.000\n",
       "5  abadan01   0.118 0.400 0.400 0.167\n",
       "6  abadfe01   0.143 0.143 0.286 0.250"
      ]
     },
     "execution_count": 10,
     "metadata": {},
     "output_type": "execute_result"
    },
    {
     "data": {
      "text/plain": [
       "   playerID               AB                R                H         \n",
       " Length:11532       Min.   :    1.0   Min.   :   0.0   Min.   :   0.0  \n",
       " Class :character   1st Qu.:   19.0   1st Qu.:   1.0   1st Qu.:   3.0  \n",
       " Mode  :character   Median :  136.5   Median :  12.0   Median :  25.0  \n",
       "                    Mean   :  896.7   Mean   : 117.6   Mean   : 234.8  \n",
       "                    3rd Qu.:  834.5   3rd Qu.:  95.0   3rd Qu.: 199.0  \n",
       "                    Max.   :14053.0   Max.   :2295.0   Max.   :4256.0  \n",
       "      X2B              X3B                HR             RBI        \n",
       " Min.   :  0.00   Min.   :  0.000   Min.   :  0.0   Min.   :   0.0  \n",
       " 1st Qu.:  0.00   1st Qu.:  0.000   1st Qu.:  0.0   1st Qu.:   1.0  \n",
       " Median :  4.00   Median :  0.000   Median :  1.0   Median :  10.0  \n",
       " Mean   : 41.29   Mean   :  6.723   Mean   : 21.4   Mean   : 109.6  \n",
       " 3rd Qu.: 33.00   3rd Qu.:  5.000   3rd Qu.: 10.0   3rd Qu.:  85.0  \n",
       " Max.   :746.00   Max.   :173.000   Max.   :762.0   Max.   :2297.0  \n",
       "       SB                CS                BB                BA       \n",
       " Min.   :   0.00   Min.   :  0.000   Min.   :   0.00   Min.   :0.000  \n",
       " 1st Qu.:   0.00   1st Qu.:  0.000   1st Qu.:   1.00   1st Qu.:0.230  \n",
       " Median :   0.00   Median :  0.000   Median :   8.00   Median :0.628  \n",
       " Mean   :  15.59   Mean   :  8.255   Mean   :  86.33   Mean   :1.116  \n",
       " 3rd Qu.:   7.00   3rd Qu.:  6.000   3rd Qu.:  64.00   3rd Qu.:1.596  \n",
       " Max.   :1406.00   Max.   :335.000   Max.   :2558.00   Max.   :7.804  \n",
       "       PA                TB            SlugPct           OBP        \n",
       " Min.   :    1.0   Min.   :   0.0   Min.   :0.000   Min.   :0.0000  \n",
       " 1st Qu.:   21.0   1st Qu.:   3.0   1st Qu.:0.250   1st Qu.:0.2500  \n",
       " Median :  153.0   Median :  33.0   Median :0.388   Median :0.3360  \n",
       " Mean   : 1007.6   Mean   : 353.8   Mean   :0.393   Mean   :0.3365  \n",
       " 3rd Qu.:  926.5   3rd Qu.: 282.2   3rd Qu.:0.500   3rd Qu.:0.4000  \n",
       " Max.   :15861.0   Max.   :6856.0   Max.   :3.000   Max.   :1.0000  \n",
       "      OPS             BABIP       \n",
       " Min.   :0.0000   Min.   :0.0000  \n",
       " 1st Qu.:0.5000   1st Qu.:0.2590  \n",
       " Median :0.7210   Median :0.3330  \n",
       " Mean   :0.7185   Mean   :0.3541  \n",
       " 3rd Qu.:0.8880   3rd Qu.:0.4000  \n",
       " Max.   :4.0000   Max.   :1.0000  "
      ]
     },
     "execution_count": 10,
     "metadata": {},
     "output_type": "execute_result"
    },
    {
     "data": {
      "text/html": [
       "11532"
      ],
      "text/latex": [
       "11532"
      ],
      "text/markdown": [
       "11532"
      ],
      "text/plain": [
       "[1] 11532"
      ]
     },
     "execution_count": 10,
     "metadata": {},
     "output_type": "execute_result"
    }
   ],
   "source": [
    "TotalBattingCounts = aggregate( cbind(AB,R,H,X2B,X3B,HR,RBI,SB,CS,BB,BA,PA,TB) ~ playerID,\n",
    "                                     BattingStats, sum)\n",
    "nrow(TotalBattingCounts)\n",
    "head(TotalBattingCounts)\n",
    "MaxBattingPcts = aggregate( cbind(SlugPct,OBP,OPS,BABIP) ~ playerID,\n",
    "                                 BattingStats, max )\n",
    "nrow(MaxBattingPcts)\n",
    "head(MaxBattingPcts)\n",
    "\n",
    "AggregateBattingStats = merge(TotalBattingCounts,MaxBattingPcts, by=\"playerID\")\n",
    "summary(AggregateBattingStats)\n",
    "nrow(AggregateBattingStats)"
   ]
  },
  {
   "cell_type": "markdown",
   "metadata": {},
   "source": [
    "### Inducted into the Hall of Fame?  -- from the HallOfFame table\n",
    "http://lahman.r-forge.r-project.org/doc/HallOfFame.html"
   ]
  },
  {
   "cell_type": "code",
   "execution_count": 11,
   "metadata": {
    "collapsed": false
   },
   "outputs": [
    {
     "data": {
      "text/html": [
       "<table>\n",
       "<thead><tr><th></th><th scope=col>playerID</th><th scope=col>yearID</th><th scope=col>votedBy</th><th scope=col>ballots</th><th scope=col>needed</th><th scope=col>votes</th><th scope=col>inducted</th><th scope=col>category</th><th scope=col>needed_note</th></tr></thead>\n",
       "<tbody>\n",
       "\t<tr><th scope=row>1</th><td>cobbty01</td><td>1936</td><td>BBWAA</td><td>226</td><td>170</td><td>222</td><td>Y</td><td>Player</td><td>NA</td></tr>\n",
       "\t<tr><th scope=row>2</th><td>ruthba01</td><td>1936</td><td>BBWAA</td><td>226</td><td>170</td><td>215</td><td>Y</td><td>Player</td><td>NA</td></tr>\n",
       "\t<tr><th scope=row>3</th><td>wagneho01</td><td>1936</td><td>BBWAA</td><td>226</td><td>170</td><td>215</td><td>Y</td><td>Player</td><td>NA</td></tr>\n",
       "\t<tr><th scope=row>4</th><td>mathech01</td><td>1936</td><td>BBWAA</td><td>226</td><td>170</td><td>205</td><td>Y</td><td>Player</td><td>NA</td></tr>\n",
       "\t<tr><th scope=row>5</th><td>johnswa01</td><td>1936</td><td>BBWAA</td><td>226</td><td>170</td><td>189</td><td>Y</td><td>Player</td><td>NA</td></tr>\n",
       "\t<tr><th scope=row>6</th><td>lajoina01</td><td>1936</td><td>BBWAA</td><td>226</td><td>170</td><td>146</td><td>N</td><td>Player</td><td>NA</td></tr>\n",
       "</tbody>\n",
       "</table>\n"
      ],
      "text/latex": [
       "\\begin{tabular}{r|lllllllll}\n",
       "  & playerID & yearID & votedBy & ballots & needed & votes & inducted & category & needed_note\\\\\n",
       "\\hline\n",
       "\t1 & cobbty01 & 1936 & BBWAA & 226 & 170 & 222 & Y & Player & NA\\\\\n",
       "\t2 & ruthba01 & 1936 & BBWAA & 226 & 170 & 215 & Y & Player & NA\\\\\n",
       "\t3 & wagneho01 & 1936 & BBWAA & 226 & 170 & 215 & Y & Player & NA\\\\\n",
       "\t4 & mathech01 & 1936 & BBWAA & 226 & 170 & 205 & Y & Player & NA\\\\\n",
       "\t5 & johnswa01 & 1936 & BBWAA & 226 & 170 & 189 & Y & Player & NA\\\\\n",
       "\t6 & lajoina01 & 1936 & BBWAA & 226 & 170 & 146 & N & Player & NA\\\\\n",
       "\\end{tabular}\n"
      ],
      "text/plain": [
       "   playerID yearID votedBy ballots needed votes inducted category needed_note\n",
       "1  cobbty01   1936   BBWAA     226    170   222        Y   Player        <NA>\n",
       "2  ruthba01   1936   BBWAA     226    170   215        Y   Player        <NA>\n",
       "3 wagneho01   1936   BBWAA     226    170   215        Y   Player        <NA>\n",
       "4 mathech01   1936   BBWAA     226    170   205        Y   Player        <NA>\n",
       "5 johnswa01   1936   BBWAA     226    170   189        Y   Player        <NA>\n",
       "6 lajoina01   1936   BBWAA     226    170   146        N   Player        <NA>"
      ]
     },
     "execution_count": 11,
     "metadata": {},
     "output_type": "execute_result"
    },
    {
     "data": {
      "text/html": [
       "4088"
      ],
      "text/latex": [
       "4088"
      ],
      "text/markdown": [
       "4088"
      ],
      "text/plain": [
       "[1] 4088"
      ]
     },
     "execution_count": 11,
     "metadata": {},
     "output_type": "execute_result"
    },
    {
     "data": {
      "text/html": [
       "<table>\n",
       "<thead><tr><th></th><th scope=col>playerID</th><th scope=col>yearID</th></tr></thead>\n",
       "<tbody>\n",
       "\t<tr><th scope=row>1</th><td>cobbty01</td><td>1936</td></tr>\n",
       "\t<tr><th scope=row>2</th><td>ruthba01</td><td>1936</td></tr>\n",
       "\t<tr><th scope=row>3</th><td>wagneho01</td><td>1936</td></tr>\n",
       "\t<tr><th scope=row>4</th><td>mathech01</td><td>1936</td></tr>\n",
       "\t<tr><th scope=row>5</th><td>johnswa01</td><td>1936</td></tr>\n",
       "\t<tr><th scope=row>111</th><td>lajoina01</td><td>1937</td></tr>\n",
       "</tbody>\n",
       "</table>\n"
      ],
      "text/latex": [
       "\\begin{tabular}{r|ll}\n",
       "  & playerID & yearID\\\\\n",
       "\\hline\n",
       "\t1 & cobbty01 & 1936\\\\\n",
       "\t2 & ruthba01 & 1936\\\\\n",
       "\t3 & wagneho01 & 1936\\\\\n",
       "\t4 & mathech01 & 1936\\\\\n",
       "\t5 & johnswa01 & 1936\\\\\n",
       "\t111 & lajoina01 & 1937\\\\\n",
       "\\end{tabular}\n"
      ],
      "text/plain": [
       "     playerID yearID\n",
       "1    cobbty01   1936\n",
       "2    ruthba01   1936\n",
       "3   wagneho01   1936\n",
       "4   mathech01   1936\n",
       "5   johnswa01   1936\n",
       "111 lajoina01   1937"
      ]
     },
     "execution_count": 11,
     "metadata": {},
     "output_type": "execute_result"
    },
    {
     "data": {
      "text/html": [
       "310"
      ],
      "text/latex": [
       "310"
      ],
      "text/markdown": [
       "310"
      ],
      "text/plain": [
       "[1] 310"
      ]
     },
     "execution_count": 11,
     "metadata": {},
     "output_type": "execute_result"
    }
   ],
   "source": [
    "data(HallOfFame)\n",
    "head(HallOfFame)\n",
    "nrow(HallOfFame)\n",
    "InductedIntoHallOfFame = subset(HallOfFame, inducted == 'Y')[ , 1:2]\n",
    "\n",
    "head(InductedIntoHallOfFame)\n",
    "nrow(InductedIntoHallOfFame)"
   ]
  },
  {
   "cell_type": "markdown",
   "metadata": {},
   "source": [
    "### Include HallOfFame information in the Players table"
   ]
  },
  {
   "cell_type": "code",
   "execution_count": 12,
   "metadata": {
    "collapsed": false
   },
   "outputs": [
    {
     "data": {
      "text/html": [
       "<table>\n",
       "<thead><tr><th></th><th scope=col>playerID</th><th scope=col>nameFirst</th><th scope=col>nameLast</th><th scope=col>birthYear</th><th scope=col>weight</th><th scope=col>height</th><th scope=col>bats</th><th scope=col>throws</th><th scope=col>HallOfFameYear</th><th scope=col>HallOfFame</th></tr></thead>\n",
       "<tbody>\n",
       "\t<tr><th scope=row>1</th><td>aardsda01</td><td>David</td><td>Aardsma</td><td>1981</td><td>205</td><td>75</td><td>R</td><td>R</td><td>0</td><td>0</td></tr>\n",
       "\t<tr><th scope=row>2</th><td>aaronha01</td><td>Hank</td><td>Aaron</td><td>1934</td><td>180</td><td>72</td><td>R</td><td>R</td><td>1982</td><td>1</td></tr>\n",
       "\t<tr><th scope=row>3</th><td>aaronto01</td><td>Tommie</td><td>Aaron</td><td>1939</td><td>190</td><td>75</td><td>R</td><td>R</td><td>0</td><td>0</td></tr>\n",
       "\t<tr><th scope=row>4</th><td>aasedo01</td><td>Don</td><td>Aase</td><td>1954</td><td>190</td><td>75</td><td>R</td><td>R</td><td>0</td><td>0</td></tr>\n",
       "\t<tr><th scope=row>5</th><td>abadan01</td><td>Andy</td><td>Abad</td><td>1972</td><td>184</td><td>73</td><td>L</td><td>L</td><td>0</td><td>0</td></tr>\n",
       "\t<tr><th scope=row>6</th><td>abadfe01</td><td>Fernando</td><td>Abad</td><td>1985</td><td>220</td><td>73</td><td>L</td><td>L</td><td>0</td><td>0</td></tr>\n",
       "\t<tr><th scope=row>7</th><td>abadijo01</td><td>John</td><td>Abadie</td><td>1854</td><td>192</td><td>72</td><td>R</td><td>R</td><td>0</td><td>0</td></tr>\n",
       "\t<tr><th scope=row>8</th><td>abbated01</td><td>Ed</td><td>Abbaticchio</td><td>1877</td><td>170</td><td>71</td><td>R</td><td>R</td><td>0</td><td>0</td></tr>\n",
       "\t<tr><th scope=row>9</th><td>abbeybe01</td><td>Bert</td><td>Abbey</td><td>1869</td><td>175</td><td>71</td><td>R</td><td>R</td><td>0</td><td>0</td></tr>\n",
       "\t<tr><th scope=row>10</th><td>abbeych01</td><td>Charlie</td><td>Abbey</td><td>1866</td><td>169</td><td>68</td><td>L</td><td>L</td><td>0</td><td>0</td></tr>\n",
       "\t<tr><th scope=row>11</th><td>abbotda01</td><td>Dan</td><td>Abbott</td><td>1862</td><td>190</td><td>71</td><td>R</td><td>R</td><td>0</td><td>0</td></tr>\n",
       "\t<tr><th scope=row>12</th><td>abbotfr01</td><td>Fred</td><td>Abbott</td><td>1874</td><td>180</td><td>70</td><td>R</td><td>R</td><td>0</td><td>0</td></tr>\n",
       "\t<tr><th scope=row>13</th><td>abbotgl01</td><td>Glenn</td><td>Abbott</td><td>1951</td><td>200</td><td>78</td><td>R</td><td>R</td><td>0</td><td>0</td></tr>\n",
       "\t<tr><th scope=row>14</th><td>abbotje01</td><td>Jeff</td><td>Abbott</td><td>1972</td><td>190</td><td>74</td><td>R</td><td>L</td><td>0</td><td>0</td></tr>\n",
       "\t<tr><th scope=row>15</th><td>abbotji01</td><td>Jim</td><td>Abbott</td><td>1967</td><td>200</td><td>75</td><td>L</td><td>L</td><td>0</td><td>0</td></tr>\n",
       "\t<tr><th scope=row>16</th><td>abbotku01</td><td>Kurt</td><td>Abbott</td><td>1969</td><td>180</td><td>71</td><td>R</td><td>R</td><td>0</td><td>0</td></tr>\n",
       "\t<tr><th scope=row>17</th><td>abbotky01</td><td>Kyle</td><td>Abbott</td><td>1968</td><td>200</td><td>76</td><td>L</td><td>L</td><td>0</td><td>0</td></tr>\n",
       "\t<tr><th scope=row>18</th><td>abbotod01</td><td>Ody</td><td>Abbott</td><td>1888</td><td>180</td><td>74</td><td>R</td><td>R</td><td>0</td><td>0</td></tr>\n",
       "\t<tr><th scope=row>19</th><td>abbotpa01</td><td>Paul</td><td>Abbott</td><td>1967</td><td>185</td><td>75</td><td>R</td><td>R</td><td>0</td><td>0</td></tr>\n",
       "\t<tr><th scope=row>20</th><td>aberal01</td><td>Al</td><td>Aber</td><td>1927</td><td>195</td><td>74</td><td>L</td><td>L</td><td>0</td><td>0</td></tr>\n",
       "</tbody>\n",
       "</table>\n"
      ],
      "text/latex": [
       "\\begin{tabular}{r|llllllllll}\n",
       "  & playerID & nameFirst & nameLast & birthYear & weight & height & bats & throws & HallOfFameYear & HallOfFame\\\\\n",
       "\\hline\n",
       "\t1 & aardsda01 & David & Aardsma & 1981 & 205 & 75 & R & R & 0 & 0\\\\\n",
       "\t2 & aaronha01 & Hank & Aaron & 1934 & 180 & 72 & R & R & 1982 & 1\\\\\n",
       "\t3 & aaronto01 & Tommie & Aaron & 1939 & 190 & 75 & R & R & 0 & 0\\\\\n",
       "\t4 & aasedo01 & Don & Aase & 1954 & 190 & 75 & R & R & 0 & 0\\\\\n",
       "\t5 & abadan01 & Andy & Abad & 1972 & 184 & 73 & L & L & 0 & 0\\\\\n",
       "\t6 & abadfe01 & Fernando & Abad & 1985 & 220 & 73 & L & L & 0 & 0\\\\\n",
       "\t7 & abadijo01 & John & Abadie & 1854 & 192 & 72 & R & R & 0 & 0\\\\\n",
       "\t8 & abbated01 & Ed & Abbaticchio & 1877 & 170 & 71 & R & R & 0 & 0\\\\\n",
       "\t9 & abbeybe01 & Bert & Abbey & 1869 & 175 & 71 & R & R & 0 & 0\\\\\n",
       "\t10 & abbeych01 & Charlie & Abbey & 1866 & 169 & 68 & L & L & 0 & 0\\\\\n",
       "\t11 & abbotda01 & Dan & Abbott & 1862 & 190 & 71 & R & R & 0 & 0\\\\\n",
       "\t12 & abbotfr01 & Fred & Abbott & 1874 & 180 & 70 & R & R & 0 & 0\\\\\n",
       "\t13 & abbotgl01 & Glenn & Abbott & 1951 & 200 & 78 & R & R & 0 & 0\\\\\n",
       "\t14 & abbotje01 & Jeff & Abbott & 1972 & 190 & 74 & R & L & 0 & 0\\\\\n",
       "\t15 & abbotji01 & Jim & Abbott & 1967 & 200 & 75 & L & L & 0 & 0\\\\\n",
       "\t16 & abbotku01 & Kurt & Abbott & 1969 & 180 & 71 & R & R & 0 & 0\\\\\n",
       "\t17 & abbotky01 & Kyle & Abbott & 1968 & 200 & 76 & L & L & 0 & 0\\\\\n",
       "\t18 & abbotod01 & Ody & Abbott & 1888 & 180 & 74 & R & R & 0 & 0\\\\\n",
       "\t19 & abbotpa01 & Paul & Abbott & 1967 & 185 & 75 & R & R & 0 & 0\\\\\n",
       "\t20 & aberal01 & Al & Aber & 1927 & 195 & 74 & L & L & 0 & 0\\\\\n",
       "\\end{tabular}\n"
      ],
      "text/plain": [
       "    playerID nameFirst    nameLast birthYear weight height bats throws\n",
       "1  aardsda01     David     Aardsma      1981    205     75    R      R\n",
       "2  aaronha01      Hank       Aaron      1934    180     72    R      R\n",
       "3  aaronto01    Tommie       Aaron      1939    190     75    R      R\n",
       "4   aasedo01       Don        Aase      1954    190     75    R      R\n",
       "5   abadan01      Andy        Abad      1972    184     73    L      L\n",
       "6   abadfe01  Fernando        Abad      1985    220     73    L      L\n",
       "7  abadijo01      John      Abadie      1854    192     72    R      R\n",
       "8  abbated01        Ed Abbaticchio      1877    170     71    R      R\n",
       "9  abbeybe01      Bert       Abbey      1869    175     71    R      R\n",
       "10 abbeych01   Charlie       Abbey      1866    169     68    L      L\n",
       "11 abbotda01       Dan      Abbott      1862    190     71    R      R\n",
       "12 abbotfr01      Fred      Abbott      1874    180     70    R      R\n",
       "13 abbotgl01     Glenn      Abbott      1951    200     78    R      R\n",
       "14 abbotje01      Jeff      Abbott      1972    190     74    R      L\n",
       "15 abbotji01       Jim      Abbott      1967    200     75    L      L\n",
       "16 abbotku01      Kurt      Abbott      1969    180     71    R      R\n",
       "17 abbotky01      Kyle      Abbott      1968    200     76    L      L\n",
       "18 abbotod01       Ody      Abbott      1888    180     74    R      R\n",
       "19 abbotpa01      Paul      Abbott      1967    185     75    R      R\n",
       "20  aberal01        Al        Aber      1927    195     74    L      L\n",
       "   HallOfFameYear HallOfFame\n",
       "1               0          0\n",
       "2            1982          1\n",
       "3               0          0\n",
       "4               0          0\n",
       "5               0          0\n",
       "6               0          0\n",
       "7               0          0\n",
       "8               0          0\n",
       "9               0          0\n",
       "10              0          0\n",
       "11              0          0\n",
       "12              0          0\n",
       "13              0          0\n",
       "14              0          0\n",
       "15              0          0\n",
       "16              0          0\n",
       "17              0          0\n",
       "18              0          0\n",
       "19              0          0\n",
       "20              0          0"
      ]
     },
     "execution_count": 12,
     "metadata": {},
     "output_type": "execute_result"
    }
   ],
   "source": [
    "PlayersWithHallOfFame = transform( merge( Players, InductedIntoHallOfFame, all.x=TRUE, by=\"playerID\"),\n",
    "                                        HallOfFame = ifelse( is.na(yearID), 0, 1 ),\n",
    "                                        yearID = ifelse( is.na(yearID), 0, yearID )\n",
    "                                        )\n",
    "colnames(PlayersWithHallOfFame) = gsub( \"yearID\", \"HallOfFameYear\", colnames(PlayersWithHallOfFame) )\n",
    "head(PlayersWithHallOfFame, 20)"
   ]
  },
  {
   "cell_type": "code",
   "execution_count": 13,
   "metadata": {
    "collapsed": false
   },
   "outputs": [
    {
     "data": {
      "text/html": [
       "17071"
      ],
      "text/latex": [
       "17071"
      ],
      "text/markdown": [
       "17071"
      ],
      "text/plain": [
       "[1] 17071"
      ]
     },
     "execution_count": 13,
     "metadata": {},
     "output_type": "execute_result"
    },
    {
     "data": {
      "text/html": [
       "277"
      ],
      "text/latex": [
       "277"
      ],
      "text/markdown": [
       "277"
      ],
      "text/plain": [
       "[1] 277"
      ]
     },
     "execution_count": 13,
     "metadata": {},
     "output_type": "execute_result"
    }
   ],
   "source": [
    "nrow(PlayersWithHallOfFame)\n",
    "nrow(subset(PlayersWithHallOfFame, HallOfFame == 1))"
   ]
  },
  {
   "cell_type": "code",
   "execution_count": 14,
   "metadata": {
    "collapsed": false
   },
   "outputs": [
    {
     "data": {
      "text/html": [
       "11299"
      ],
      "text/latex": [
       "11299"
      ],
      "text/markdown": [
       "11299"
      ],
      "text/plain": [
       "[1] 11299"
      ]
     },
     "execution_count": 14,
     "metadata": {},
     "output_type": "execute_result"
    },
    {
     "data": {
      "text/html": [
       "194"
      ],
      "text/latex": [
       "194"
      ],
      "text/markdown": [
       "194"
      ],
      "text/plain": [
       "[1] 194"
      ]
     },
     "execution_count": 14,
     "metadata": {},
     "output_type": "execute_result"
    },
    {
     "data": {
      "text/html": [
       "<table>\n",
       "<thead><tr><th></th><th scope=col>playerID</th><th scope=col>nameFirst</th><th scope=col>nameLast</th><th scope=col>birthYear</th><th scope=col>weight</th><th scope=col>height</th><th scope=col>bats</th><th scope=col>throws</th><th scope=col>HallOfFameYear</th><th scope=col>HallOfFame</th><th scope=col>ellip.h</th><th scope=col>SB</th><th scope=col>CS</th><th scope=col>BB</th><th scope=col>BA</th><th scope=col>PA</th><th scope=col>TB</th><th scope=col>SlugPct</th><th scope=col>OBP</th><th scope=col>OPS</th><th scope=col>BABIP</th></tr></thead>\n",
       "<tbody>\n",
       "\t<tr><th scope=row>1</th><td>aardsda01</td><td>David</td><td>Aardsma</td><td>1981</td><td>205</td><td>75</td><td>R</td><td>R</td><td>0</td><td>0</td><td><e2><8b><af></td><td>0</td><td>0</td><td>0</td><td>0</td><td>4</td><td>0</td><td>0</td><td>0</td><td>0</td><td>0</td></tr>\n",
       "\t<tr><th scope=row>2</th><td>aaronha01</td><td>Hank</td><td>Aaron</td><td>1934</td><td>180</td><td>72</td><td>R</td><td>R</td><td>1982</td><td>1</td><td><e2><8b><af></td><td>240</td><td>73</td><td>1402</td><td>6.927</td><td>13940</td><td>6856</td><td>0.669</td><td>0.41</td><td>1.079</td><td>0.338</td></tr>\n",
       "\t<tr><th scope=row>3</th><td>aaronto01</td><td>Tommie</td><td>Aaron</td><td>1939</td><td>190</td><td>75</td><td>R</td><td>R</td><td>0</td><td>0</td><td><e2><8b><af></td><td>9</td><td>8</td><td>86</td><td>1.545</td><td>1045</td><td>309</td><td>0.374</td><td>0.318</td><td>0.686</td><td>0.276</td></tr>\n",
       "\t<tr><th scope=row>4</th><td>aasedo01</td><td>Don</td><td>Aase</td><td>1954</td><td>190</td><td>75</td><td>R</td><td>R</td><td>0</td><td>0</td><td><e2><8b><af></td><td>0</td><td>0</td><td>0</td><td>0</td><td>5</td><td>0</td><td>0</td><td>0</td><td>0</td><td>0</td></tr>\n",
       "\t<tr><th scope=row>5</th><td>abadan01</td><td>Andy</td><td>Abad</td><td>1972</td><td>184</td><td>73</td><td>L</td><td>L</td><td>0</td><td>0</td><td><e2><8b><af></td><td>0</td><td>1</td><td>4</td><td>0.118</td><td>25</td><td>2</td><td>0.118</td><td>0.4</td><td>0.4</td><td>0.167</td></tr>\n",
       "\t<tr><th scope=row>6</th><td>abadfe01</td><td>Fernando</td><td>Abad</td><td>1985</td><td>220</td><td>73</td><td>L</td><td>L</td><td>0</td><td>0</td><td><e2><8b><af></td><td>0</td><td>0</td><td>0</td><td>0.143</td><td>8</td><td>1</td><td>0.143</td><td>0.143</td><td>0.286</td><td>0.25</td></tr>\n",
       "</tbody>\n",
       "</table>\n"
      ],
      "text/latex": [
       "\\begin{tabular}{r|lllllllllllllllllllllllllll}\n",
       "  & playerID & nameFirst & nameLast & birthYear & weight & height & bats & throws & HallOfFameYear & HallOfFame & ellip.h & SB & CS & BB & BA & PA & TB & SlugPct & OBP & OPS & BABIP\\\\\n",
       "\\hline\n",
       "\t1 & aardsda01 & David & Aardsma & 1981 & 205 & 75 & R & R & 0 & 0 & <e2><8b><af> & 0 & 0 & 0 & 0 & 4 & 0 & 0 & 0 & 0 & 0\\\\\n",
       "\t2 & aaronha01 & Hank & Aaron & 1934 & 180 & 72 & R & R & 1982 & 1 & <e2><8b><af> & 240 & 73 & 1402 & 6.927 & 13940 & 6856 & 0.669 & 0.41 & 1.079 & 0.338\\\\\n",
       "\t3 & aaronto01 & Tommie & Aaron & 1939 & 190 & 75 & R & R & 0 & 0 & <e2><8b><af> & 9 & 8 & 86 & 1.545 & 1045 & 309 & 0.374 & 0.318 & 0.686 & 0.276\\\\\n",
       "\t4 & aasedo01 & Don & Aase & 1954 & 190 & 75 & R & R & 0 & 0 & <e2><8b><af> & 0 & 0 & 0 & 0 & 5 & 0 & 0 & 0 & 0 & 0\\\\\n",
       "\t5 & abadan01 & Andy & Abad & 1972 & 184 & 73 & L & L & 0 & 0 & <e2><8b><af> & 0 & 1 & 4 & 0.118 & 25 & 2 & 0.118 & 0.4 & 0.4 & 0.167\\\\\n",
       "\t6 & abadfe01 & Fernando & Abad & 1985 & 220 & 73 & L & L & 0 & 0 & <e2><8b><af> & 0 & 0 & 0 & 0.143 & 8 & 1 & 0.143 & 0.143 & 0.286 & 0.25\\\\\n",
       "\\end{tabular}\n"
      ],
      "text/plain": [
       "   playerID nameFirst nameLast birthYear weight height bats throws\n",
       "1 aardsda01     David  Aardsma      1981    205     75    R      R\n",
       "2 aaronha01      Hank    Aaron      1934    180     72    R      R\n",
       "3 aaronto01    Tommie    Aaron      1939    190     75    R      R\n",
       "4  aasedo01       Don     Aase      1954    190     75    R      R\n",
       "5  abadan01      Andy     Abad      1972    184     73    L      L\n",
       "6  abadfe01  Fernando     Abad      1985    220     73    L      L\n",
       "  HallOfFameYear HallOfFame    AB    R    H X2B X3B  HR  RBI  SB CS   BB    BA\n",
       "1              0          0     3    0    0   0   0   0    0   0  0    0 0.000\n",
       "2           1982          1 12364 2174 3771 624  98 755 2297 240 73 1402 6.927\n",
       "3              0          0   944  102  216  42   6  13   94   9  8   86 1.545\n",
       "4              0          0     5    0    0   0   0   0    0   0  0    0 0.000\n",
       "5              0          0    21    1    2   0   0   0    0   0  1    4 0.118\n",
       "6              0          0     8    0    1   0   0   0    0   0  0    0 0.143\n",
       "     PA   TB SlugPct   OBP   OPS BABIP\n",
       "1     4    0   0.000 0.000 0.000 0.000\n",
       "2 13940 6856   0.669 0.410 1.079 0.338\n",
       "3  1045  309   0.374 0.318 0.686 0.276\n",
       "4     5    0   0.000 0.000 0.000 0.000\n",
       "5    25    2   0.118 0.400 0.400 0.167\n",
       "6     8    1   0.143 0.143 0.286 0.250"
      ]
     },
     "execution_count": 14,
     "metadata": {},
     "output_type": "execute_result"
    },
    {
     "data": {
      "text/plain": [
       "   playerID          nameFirst           nameLast           birthYear   \n",
       " Length:11299       Length:11299       Length:11299       Min.   :1835  \n",
       " Class :character   Class :character   Class :character   1st Qu.:1921  \n",
       " Mode  :character   Mode  :character   Mode  :character   Median :1951  \n",
       "                                                          Mean   :1945  \n",
       "                                                          3rd Qu.:1972  \n",
       "                                                          Max.   :1994  \n",
       "     weight          height      bats     throws   HallOfFameYear   \n",
       " Min.   :120.0   Min.   :63.00   B: 854   L:2179   Min.   :   0.00  \n",
       " 1st Qu.:175.0   1st Qu.:71.00   L:3181   R:9120   1st Qu.:   0.00  \n",
       " Median :185.0   Median :73.00   R:7264            Median :   0.00  \n",
       " Mean   :188.5   Mean   :72.59                     Mean   :  33.95  \n",
       " 3rd Qu.:200.0   3rd Qu.:74.00                     3rd Qu.:   0.00  \n",
       " Max.   :320.0   Max.   :83.00                     Max.   :2015.00  \n",
       "   HallOfFame            AB                R                H       \n",
       " Min.   :0.00000   Min.   :    1.0   Min.   :   0.0   Min.   :   0  \n",
       " 1st Qu.:0.00000   1st Qu.:   19.0   1st Qu.:   1.0   1st Qu.:   3  \n",
       " Median :0.00000   Median :  142.0   Median :  12.0   Median :  26  \n",
       " Mean   :0.01717   Mean   :  912.6   Mean   : 119.5   Mean   : 239  \n",
       " 3rd Qu.:0.00000   3rd Qu.:  869.5   3rd Qu.:  97.0   3rd Qu.: 207  \n",
       " Max.   :1.00000   Max.   :14053.0   Max.   :2295.0   Max.   :4256  \n",
       "      X2B              X3B                HR              RBI        \n",
       " Min.   :  0.00   Min.   :  0.000   Min.   :  0.00   Min.   :   0.0  \n",
       " 1st Qu.:  0.00   1st Qu.:  0.000   1st Qu.:  0.00   1st Qu.:   1.0  \n",
       " Median :  4.00   Median :  0.000   Median :  1.00   Median :  10.0  \n",
       " Mean   : 42.06   Mean   :  6.835   Mean   : 21.84   Mean   : 111.6  \n",
       " 3rd Qu.: 35.00   3rd Qu.:  5.000   3rd Qu.: 11.00   3rd Qu.:  88.0  \n",
       " Max.   :746.00   Max.   :173.000   Max.   :762.00   Max.   :2297.0  \n",
       "       SB                CS                BB                BA       \n",
       " Min.   :   0.00   Min.   :  0.000   Min.   :   0.00   Min.   :0.000  \n",
       " 1st Qu.:   0.00   1st Qu.:  0.000   1st Qu.:   1.00   1st Qu.:0.233  \n",
       " Median :   0.00   Median :  0.000   Median :   8.00   Median :0.648  \n",
       " Mean   :  15.87   Mean   :  8.405   Mean   :  88.07   Mean   :1.131  \n",
       " 3rd Qu.:   7.00   3rd Qu.:  6.000   3rd Qu.:  67.00   3rd Qu.:1.633  \n",
       " Max.   :1406.00   Max.   :335.000   Max.   :2558.00   Max.   :7.804  \n",
       "       PA                TB            SlugPct            OBP        \n",
       " Min.   :    1.0   Min.   :   0.0   Min.   :0.0000   Min.   :0.0000  \n",
       " 1st Qu.:   21.0   1st Qu.:   3.0   1st Qu.:0.2500   1st Qu.:0.2515  \n",
       " Median :  159.0   Median :  35.0   Median :0.3910   Median :0.3380  \n",
       " Mean   : 1025.6   Mean   : 360.3   Mean   :0.3953   Mean   :0.3384  \n",
       " 3rd Qu.:  962.5   3rd Qu.: 295.0   3rd Qu.:0.5000   3rd Qu.:0.4000  \n",
       " Max.   :15861.0   Max.   :6856.0   Max.   :3.0000   Max.   :1.0000  \n",
       "      OPS             BABIP       \n",
       " Min.   :0.0000   Min.   :0.0000  \n",
       " 1st Qu.:0.5000   1st Qu.:0.2630  \n",
       " Median :0.7260   Median :0.3330  \n",
       " Mean   :0.7225   Mean   :0.3565  \n",
       " 3rd Qu.:0.8900   3rd Qu.:0.4000  \n",
       " Max.   :4.0000   Max.   :1.0000  "
      ]
     },
     "execution_count": 14,
     "metadata": {},
     "output_type": "execute_result"
    }
   ],
   "source": [
    "PlayersAndStats = merge( PlayersWithHallOfFame, AggregateBattingStats )\n",
    "\n",
    "nrow(PlayersAndStats)\n",
    "nrow(subset(PlayersAndStats, HallOfFame == 1))\n",
    "\n",
    "head(PlayersAndStats)\n",
    "summary(PlayersAndStats)\n",
    "# write.csv(PlayersAndStats, file=\"PlayersAndStats.csv\", quote=FALSE, row.names=FALSE)"
   ]
  },
  {
   "cell_type": "markdown",
   "metadata": {},
   "source": [
    "# Join Information for your Baseball Salary model into one Table"
   ]
  },
  {
   "cell_type": "markdown",
   "metadata": {},
   "source": [
    "### Merge Aggregate Batting Statistics and Maximum Salary into the Relevant Information table"
   ]
  },
  {
   "cell_type": "code",
   "execution_count": 15,
   "metadata": {
    "collapsed": false
   },
   "outputs": [
    {
     "data": {
      "text/html": [
       "<table>\n",
       "<thead><tr><th></th><th scope=col>playerID</th><th scope=col>nameFirst</th><th scope=col>nameLast</th><th scope=col>birthYear</th><th scope=col>weight</th><th scope=col>height</th><th scope=col>bats</th><th scope=col>throws</th><th scope=col>HallOfFameYear</th><th scope=col>HallOfFame</th><th scope=col>ellip.h</th><th scope=col>PA</th><th scope=col>TB</th><th scope=col>SlugPct</th><th scope=col>OBP</th><th scope=col>OPS</th><th scope=col>BABIP</th><th scope=col>max_salary</th><th scope=col>startYear</th><th scope=col>endYear</th><th scope=col>totalYears</th></tr></thead>\n",
       "<tbody>\n",
       "\t<tr><th scope=row>1</th><td>aardsda01</td><td>David</td><td>Aardsma</td><td>1981</td><td>205</td><td>75</td><td>R</td><td>R</td><td>0</td><td>0</td><td><e2><8b><af></td><td>4</td><td>0</td><td>0</td><td>0</td><td>0</td><td>0</td><td>4500000</td><td>2004</td><td>2012</td><td>9</td></tr>\n",
       "\t<tr><th scope=row>2</th><td>aasedo01</td><td>Don</td><td>Aase</td><td>1954</td><td>190</td><td>75</td><td>R</td><td>R</td><td>0</td><td>0</td><td><e2><8b><af></td><td>5</td><td>0</td><td>0</td><td>0</td><td>0</td><td>0</td><td>675000</td><td>1986</td><td>1989</td><td>4</td></tr>\n",
       "\t<tr><th scope=row>3</th><td>abadan01</td><td>Andy</td><td>Abad</td><td>1972</td><td>184</td><td>73</td><td>L</td><td>L</td><td>0</td><td>0</td><td><e2><8b><af></td><td>25</td><td>2</td><td>0.118</td><td>0.4</td><td>0.4</td><td>0.167</td><td>327000</td><td>2006</td><td>2006</td><td>1</td></tr>\n",
       "\t<tr><th scope=row>4</th><td>abadfe01</td><td>Fernando</td><td>Abad</td><td>1985</td><td>220</td><td>73</td><td>L</td><td>L</td><td>0</td><td>0</td><td><e2><8b><af></td><td>8</td><td>1</td><td>0.143</td><td>0.143</td><td>0.286</td><td>0.25</td><td>525900</td><td>2011</td><td>2014</td><td>4</td></tr>\n",
       "\t<tr><th scope=row>5</th><td>abbotje01</td><td>Jeff</td><td>Abbott</td><td>1972</td><td>190</td><td>74</td><td>R</td><td>L</td><td>0</td><td>0</td><td><e2><8b><af></td><td>649</td><td>248</td><td>0.492</td><td>0.343</td><td>0.79</td><td>0.32</td><td>300000</td><td>1998</td><td>2001</td><td>4</td></tr>\n",
       "\t<tr><th scope=row>6</th><td>abbotji01</td><td>Jim</td><td>Abbott</td><td>1967</td><td>200</td><td>75</td><td>L</td><td>L</td><td>0</td><td>0</td><td><e2><8b><af></td><td>24</td><td>2</td><td>0.095</td><td>0.095</td><td>0.19</td><td>0.182</td><td>2775000</td><td>1989</td><td>1999</td><td>11</td></tr>\n",
       "</tbody>\n",
       "</table>\n"
      ],
      "text/latex": [
       "\\begin{tabular}{r|lllllllllllllllllllllllllllllll}\n",
       "  & playerID & nameFirst & nameLast & birthYear & weight & height & bats & throws & HallOfFameYear & HallOfFame & ellip.h & PA & TB & SlugPct & OBP & OPS & BABIP & max_salary & startYear & endYear & totalYears\\\\\n",
       "\\hline\n",
       "\t1 & aardsda01 & David & Aardsma & 1981 & 205 & 75 & R & R & 0 & 0 & <e2><8b><af> & 4 & 0 & 0 & 0 & 0 & 0 & 4500000 & 2004 & 2012 & 9\\\\\n",
       "\t2 & aasedo01 & Don & Aase & 1954 & 190 & 75 & R & R & 0 & 0 & <e2><8b><af> & 5 & 0 & 0 & 0 & 0 & 0 & 675000 & 1986 & 1989 & 4\\\\\n",
       "\t3 & abadan01 & Andy & Abad & 1972 & 184 & 73 & L & L & 0 & 0 & <e2><8b><af> & 25 & 2 & 0.118 & 0.4 & 0.4 & 0.167 & 327000 & 2006 & 2006 & 1\\\\\n",
       "\t4 & abadfe01 & Fernando & Abad & 1985 & 220 & 73 & L & L & 0 & 0 & <e2><8b><af> & 8 & 1 & 0.143 & 0.143 & 0.286 & 0.25 & 525900 & 2011 & 2014 & 4\\\\\n",
       "\t5 & abbotje01 & Jeff & Abbott & 1972 & 190 & 74 & R & L & 0 & 0 & <e2><8b><af> & 649 & 248 & 0.492 & 0.343 & 0.79 & 0.32 & 300000 & 1998 & 2001 & 4\\\\\n",
       "\t6 & abbotji01 & Jim & Abbott & 1967 & 200 & 75 & L & L & 0 & 0 & <e2><8b><af> & 24 & 2 & 0.095 & 0.095 & 0.19 & 0.182 & 2775000 & 1989 & 1999 & 11\\\\\n",
       "\\end{tabular}\n"
      ],
      "text/plain": [
       "   playerID nameFirst nameLast birthYear weight height bats throws\n",
       "1 aardsda01     David  Aardsma      1981    205     75    R      R\n",
       "2  aasedo01       Don     Aase      1954    190     75    R      R\n",
       "3  abadan01      Andy     Abad      1972    184     73    L      L\n",
       "4  abadfe01  Fernando     Abad      1985    220     73    L      L\n",
       "5 abbotje01      Jeff   Abbott      1972    190     74    R      L\n",
       "6 abbotji01       Jim   Abbott      1967    200     75    L      L\n",
       "  HallOfFameYear HallOfFame  AB  R   H X2B X3B HR RBI SB CS BB    BA  PA  TB\n",
       "1              0          0   3  0   0   0   0  0   0  0  0  0 0.000   4   0\n",
       "2              0          0   5  0   0   0   0  0   0  0  0  0 0.000   5   0\n",
       "3              0          0  21  1   2   0   0  0   0  0  1  4 0.118  25   2\n",
       "4              0          0   8  0   1   0   0  0   0  0  0  0 0.143   8   1\n",
       "5              0          0 596 82 157  33   2 18  83  6  5 38 1.236 649 248\n",
       "6              0          0  21  0   2   0   0  0   3  0  0  0 0.095  24   2\n",
       "  SlugPct   OBP   OPS BABIP max_salary startYear endYear totalYears\n",
       "1   0.000 0.000 0.000 0.000    4500000      2004    2012          9\n",
       "2   0.000 0.000 0.000 0.000     675000      1986    1989          4\n",
       "3   0.118 0.400 0.400 0.167     327000      2006    2006          1\n",
       "4   0.143 0.143 0.286 0.250     525900      2011    2014          4\n",
       "5   0.492 0.343 0.790 0.320     300000      1998    2001          4\n",
       "6   0.095 0.095 0.190 0.182    2775000      1989    1999         11"
      ]
     },
     "execution_count": 15,
     "metadata": {},
     "output_type": "execute_result"
    },
    {
     "data": {
      "text/html": [
       "4090"
      ],
      "text/latex": [
       "4090"
      ],
      "text/markdown": [
       "4090"
      ],
      "text/plain": [
       "[1] 4090"
      ]
     },
     "execution_count": 15,
     "metadata": {},
     "output_type": "execute_result"
    },
    {
     "data": {
      "text/html": [
       "<table>\n",
       "<thead><tr><th></th><th scope=col>playerID</th><th scope=col>nameFirst</th><th scope=col>nameLast</th><th scope=col>birthYear</th><th scope=col>weight</th><th scope=col>height</th><th scope=col>bats</th><th scope=col>throws</th><th scope=col>HallOfFameYear</th><th scope=col>HallOfFame</th><th scope=col>ellip.h</th><th scope=col>PA</th><th scope=col>TB</th><th scope=col>SlugPct</th><th scope=col>OBP</th><th scope=col>OPS</th><th scope=col>BABIP</th><th scope=col>max_salary</th><th scope=col>startYear</th><th scope=col>endYear</th><th scope=col>totalYears</th></tr></thead>\n",
       "<tbody>\n",
       "\t<tr><th scope=row>61</th><td>alomaro01</td><td>Roberto</td><td>Alomar</td><td>1968</td><td>184</td><td>72</td><td>B</td><td>R</td><td>2011</td><td>1</td><td><e2><8b><af></td><td>10400</td><td>4018</td><td>0.541</td><td>0.422</td><td>0.956</td><td>0.351</td><td>8000000</td><td>1989</td><td>2004</td><td>16</td></tr>\n",
       "\t<tr><th scope=row>317</th><td>biggicr01</td><td>Craig</td><td>Biggio</td><td>1965</td><td>185</td><td>71</td><td>R</td><td>R</td><td>2015</td><td>1</td><td><e2><8b><af></td><td>12503</td><td>4711</td><td>0.503</td><td>0.415</td><td>0.916</td><td>0.368</td><td>9750000</td><td>1989</td><td>2007</td><td>19</td></tr>\n",
       "\t<tr><th scope=row>347</th><td>blylebe01</td><td>Bert</td><td>Blyleven</td><td>1951</td><td>200</td><td>75</td><td>R</td><td>R</td><td>2011</td><td>1</td><td><e2><8b><af></td><td>514</td><td>66</td><td>0.181</td><td>0.177</td><td>0.358</td><td>0.28</td><td>2000000</td><td>1985</td><td>1992</td><td>8</td></tr>\n",
       "\t<tr><th scope=row>359</th><td>boggswa01</td><td>Wade</td><td>Boggs</td><td>1958</td><td>190</td><td>74</td><td>L</td><td>R</td><td>2005</td><td>1</td><td><e2><8b><af></td><td>10740</td><td>4064</td><td>0.588</td><td>0.476</td><td>1.049</td><td>0.396</td><td>4724316</td><td>1985</td><td>1999</td><td>15</td></tr>\n",
       "\t<tr><th scope=row>432</th><td>brettge01</td><td>George</td><td>Brett</td><td>1953</td><td>185</td><td>72</td><td>L</td><td>R</td><td>1999</td><td>1</td><td><e2><8b><af></td><td>11624</td><td>5044</td><td>0.664</td><td>0.454</td><td>1.118</td><td>0.368</td><td>3105000</td><td>1985</td><td>1993</td><td>9</td></tr>\n",
       "\t<tr><th scope=row>593</th><td>carewro01</td><td>Rod</td><td>Carew</td><td>1945</td><td>170</td><td>72</td><td>L</td><td>R</td><td>1991</td><td>1</td><td><e2><8b><af></td><td>10550</td><td>3998</td><td>0.57</td><td>0.449</td><td>1.019</td><td>0.415</td><td>875000</td><td>1985</td><td>1985</td><td>1</td></tr>\n",
       "</tbody>\n",
       "</table>\n"
      ],
      "text/latex": [
       "\\begin{tabular}{r|lllllllllllllllllllllllllllllll}\n",
       "  & playerID & nameFirst & nameLast & birthYear & weight & height & bats & throws & HallOfFameYear & HallOfFame & ellip.h & PA & TB & SlugPct & OBP & OPS & BABIP & max_salary & startYear & endYear & totalYears\\\\\n",
       "\\hline\n",
       "\t61 & alomaro01 & Roberto & Alomar & 1968 & 184 & 72 & B & R & 2011 & 1 & <e2><8b><af> & 10400 & 4018 & 0.541 & 0.422 & 0.956 & 0.351 & 8000000 & 1989 & 2004 & 16\\\\\n",
       "\t317 & biggicr01 & Craig & Biggio & 1965 & 185 & 71 & R & R & 2015 & 1 & <e2><8b><af> & 12503 & 4711 & 0.503 & 0.415 & 0.916 & 0.368 & 9750000 & 1989 & 2007 & 19\\\\\n",
       "\t347 & blylebe01 & Bert & Blyleven & 1951 & 200 & 75 & R & R & 2011 & 1 & <e2><8b><af> & 514 & 66 & 0.181 & 0.177 & 0.358 & 0.28 & 2000000 & 1985 & 1992 & 8\\\\\n",
       "\t359 & boggswa01 & Wade & Boggs & 1958 & 190 & 74 & L & R & 2005 & 1 & <e2><8b><af> & 10740 & 4064 & 0.588 & 0.476 & 1.049 & 0.396 & 4724316 & 1985 & 1999 & 15\\\\\n",
       "\t432 & brettge01 & George & Brett & 1953 & 185 & 72 & L & R & 1999 & 1 & <e2><8b><af> & 11624 & 5044 & 0.664 & 0.454 & 1.118 & 0.368 & 3105000 & 1985 & 1993 & 9\\\\\n",
       "\t593 & carewro01 & Rod & Carew & 1945 & 170 & 72 & L & R & 1991 & 1 & <e2><8b><af> & 10550 & 3998 & 0.57 & 0.449 & 1.019 & 0.415 & 875000 & 1985 & 1985 & 1\\\\\n",
       "\\end{tabular}\n"
      ],
      "text/plain": [
       "     playerID nameFirst nameLast birthYear weight height bats throws\n",
       "61  alomaro01   Roberto   Alomar      1968    184     72    B      R\n",
       "317 biggicr01     Craig   Biggio      1965    185     71    R      R\n",
       "347 blylebe01      Bert Blyleven      1951    200     75    R      R\n",
       "359 boggswa01      Wade    Boggs      1958    190     74    L      R\n",
       "432 brettge01    George    Brett      1953    185     72    L      R\n",
       "593 carewro01       Rod    Carew      1945    170     72    L      R\n",
       "    HallOfFameYear HallOfFame    AB    R    H X2B X3B  HR  RBI  SB  CS   BB\n",
       "61            2011          1  9073 1508 2724 504  80 210 1134 474 114 1032\n",
       "317           2015          1 10876 1844 3060 668  55 291 1175 414 124 1160\n",
       "347           2011          1   451   19   59   7   0   0   25   0   0    5\n",
       "359           2005          1  9180 1513 3010 578  61 118 1014  24  35 1412\n",
       "432           1999          1 10349 1583 3154 665 137 317 1595 201  97 1096\n",
       "593           1991          1  9315 1424 3053 445 112  92 1015 353 187 1018\n",
       "       BA    PA   TB SlugPct   OBP   OPS BABIP max_salary startYear endYear\n",
       "61  5.567 10400 4018   0.541 0.422 0.956 0.351    8000000      1989    2004\n",
       "317 5.558 12503 4711   0.503 0.415 0.916 0.368    9750000      1989    2007\n",
       "347 0.772   514   66   0.181 0.177 0.358 0.280    2000000      1985    1992\n",
       "359 5.864 10740 4064   0.588 0.476 1.049 0.396    4724316      1985    1999\n",
       "432 6.220 11624 5044   0.664 0.454 1.118 0.368    3105000      1985    1993\n",
       "593 6.200 10550 3998   0.570 0.449 1.019 0.415     875000      1985    1985\n",
       "    totalYears\n",
       "61          16\n",
       "317         19\n",
       "347          8\n",
       "359         15\n",
       "432          9\n",
       "593          1"
      ]
     },
     "execution_count": 15,
     "metadata": {},
     "output_type": "execute_result"
    },
    {
     "data": {
      "text/html": [
       "38"
      ],
      "text/latex": [
       "38"
      ],
      "text/markdown": [
       "38"
      ],
      "text/plain": [
       "[1] 38"
      ]
     },
     "execution_count": 15,
     "metadata": {},
     "output_type": "execute_result"
    }
   ],
   "source": [
    "PlayersAndStatsAndSalary = transform(\n",
    "    merge( merge( merge( PlayersAndStats, PlayerMaxSalary ), PlayerStartYear), PlayerEndYear ),\n",
    "    totalYears = endYear - startYear + 1\n",
    "    )\n",
    "head(PlayersAndStatsAndSalary)\n",
    "nrow(PlayersAndStatsAndSalary)\n",
    "\n",
    "PlayersAndStatsAndSalaryAndFame=subset(PlayersAndStatsAndSalary, HallOfFame == 1)\n",
    "head(PlayersAndStatsAndSalaryAndFame)\n",
    "nrow(PlayersAndStatsAndSalaryAndFame)\n",
    "# write.csv(PlayersAndStatsAndSalary, file=\"PlayersAndStatsAndSalary.csv\", quote=FALSE, row.names=FALSE)"
   ]
  },
  {
   "cell_type": "markdown",
   "metadata": {},
   "source": [
    "# Problem 1: construct a model with better performance  (higher R-squared) than this Baseline Salary Model"
   ]
  },
  {
   "cell_type": "markdown",
   "metadata": {},
   "source": [
    "### For this salary model, consider only those players who started playing after 2000:"
   ]
  },
  {
   "cell_type": "code",
   "execution_count": 16,
   "metadata": {
    "collapsed": false
   },
   "outputs": [
    {
     "data": {
      "text/html": [
       "1720"
      ],
      "text/latex": [
       "1720"
      ],
      "text/markdown": [
       "1720"
      ],
      "text/plain": [
       "[1] 1720"
      ]
     },
     "execution_count": 16,
     "metadata": {},
     "output_type": "execute_result"
    }
   ],
   "source": [
    "RecentPlayersAndStatsAndSalary = subset( PlayersAndStatsAndSalary, startYear >= 2000 )\n",
    "nrow(RecentPlayersAndStatsAndSalary)"
   ]
  },
  {
   "cell_type": "code",
   "execution_count": 17,
   "metadata": {
    "collapsed": false
   },
   "outputs": [],
   "source": [
    "#summary(PlayersAndStatsAndSalary)\n",
    "#head(PlayersAndStatsAndSalary)"
   ]
  },
  {
   "cell_type": "code",
   "execution_count": 18,
   "metadata": {
    "collapsed": false
   },
   "outputs": [
    {
     "data": {
      "text/plain": [
       "\n",
       "Call:\n",
       "lm(formula = log10(max_salary) ~ AB + R + H + X2B + X3B + HR + \n",
       "    RBI + SB + CS + BB + BA + PA + SlugPct + OBP + BABIP + startYear + \n",
       "    totalYears, data = PlayersAndStatsAndSalary)\n",
       "\n",
       "Residuals:\n",
       "    Min      1Q  Median      3Q     Max \n",
       "-1.9378 -0.2139 -0.0706  0.2238  1.5111 \n",
       "\n",
       "Coefficients:\n",
       "              Estimate Std. Error t value Pr(>|t|)    \n",
       "(Intercept) -4.752e+01  1.247e+00 -38.122  < 2e-16 ***\n",
       "AB          -2.826e-03  2.860e-04  -9.881  < 2e-16 ***\n",
       "R           -1.949e-03  2.633e-04  -7.400 1.64e-13 ***\n",
       "H            4.363e-04  1.886e-04   2.314 0.020727 *  \n",
       "X2B          5.930e-04  3.455e-04   1.716 0.086173 .  \n",
       "X3B          3.191e-03  8.454e-04   3.774 0.000163 ***\n",
       "HR           2.807e-03  5.168e-04   5.432 5.89e-08 ***\n",
       "RBI         -5.176e-04  2.389e-04  -2.167 0.030328 *  \n",
       "SB           6.342e-04  2.307e-04   2.749 0.006005 ** \n",
       "CS          -6.031e-04  7.514e-04  -0.803 0.422225    \n",
       "BB          -2.548e-03  2.635e-04  -9.672  < 2e-16 ***\n",
       "BA          -9.005e-02  1.061e-02  -8.486  < 2e-16 ***\n",
       "PA           2.924e-03  2.680e-04  10.908  < 2e-16 ***\n",
       "SlugPct     -1.775e-02  3.243e-02  -0.547 0.584078    \n",
       "OBP         -9.577e-02  5.729e-02  -1.672 0.094671 .  \n",
       "BABIP        2.555e-01  3.618e-02   7.062 1.92e-12 ***\n",
       "startYear    2.642e-02  6.224e-04  42.451  < 2e-16 ***\n",
       "totalYears   9.980e-02  1.423e-03  70.126  < 2e-16 ***\n",
       "---\n",
       "Signif. codes:  0 '***' 0.001 '**' 0.01 '*' 0.05 '.' 0.1 ' ' 1\n",
       "\n",
       "Residual standard error: 0.3229 on 4072 degrees of freedom\n",
       "Multiple R-squared:  0.7198,\tAdjusted R-squared:  0.7186 \n",
       "F-statistic: 615.2 on 17 and 4072 DF,  p-value: < 2.2e-16\n"
      ]
     },
     "execution_count": 18,
     "metadata": {},
     "output_type": "execute_result"
    }
   ],
   "source": [
    "BaselineSalaryModel = lm( log10(max_salary) ~\n",
    "                         AB+R+H+X2B+X3B+HR+RBI+SB+CS+BB+BA+PA+SlugPct+OBP+BABIP + startYear + totalYears,\n",
    "                         data = PlayersAndStatsAndSalary)\n",
    "summary(BaselineSalaryModel)"
   ]
  },
  {
   "cell_type": "code",
   "execution_count": 19,
   "metadata": {
    "collapsed": true
   },
   "outputs": [],
   "source": [
    "trans.PlayersAndStatsAndSalary  =  transform(\n",
    "                                            PlayersAndStatsAndSalary,\n",
    "                                            log10_max_salary=log10(max_salary),\n",
    "                                            log10_AB = log10(1+AB),\n",
    "                                            log10_R = log10(1+R),\n",
    "                                            log10_H = log10(1+H),\n",
    "                                            log10_X2B = log10(1+X2B),\n",
    "                                            log10_X3B = log10(1+X3B),\n",
    "                                            log10_HR= log10(1+HR) ,\n",
    "                                            log10_RBI = log10(1+RBI),\n",
    "                                            log10_SB = log10(1+SB), \n",
    "                                            log10_CS = log10(1+CS),\n",
    "                                            log10_BB = log10(1+BB),\n",
    "                                            log10_BA = log10(1+BA),\n",
    "                                            log10_PA = log10(1+PA),\n",
    "                                            log10_SlugPct = log10(1+SlugPct),\n",
    "                                            log10_OBP= log10(1+OBP) ,\n",
    "                                            log10_BABIP = log10(1+BABIP),\n",
    "                                            log10_startYear = log10(startYear),\n",
    "                                            log10_totalYears= log10(totalYears)\n",
    "                                            )"
   ]
  },
  {
   "cell_type": "code",
   "execution_count": 20,
   "metadata": {
    "collapsed": false
   },
   "outputs": [
    {
     "data": {
      "text/html": [
       "<table>\n",
       "<thead><tr><th></th><th scope=col>playerID</th><th scope=col>nameFirst</th><th scope=col>nameLast</th><th scope=col>birthYear</th><th scope=col>weight</th><th scope=col>height</th><th scope=col>bats</th><th scope=col>throws</th><th scope=col>HallOfFameYear</th><th scope=col>HallOfFame</th><th scope=col>ellip.h</th><th scope=col>log10_SB</th><th scope=col>log10_CS</th><th scope=col>log10_BB</th><th scope=col>log10_BA</th><th scope=col>log10_PA</th><th scope=col>log10_SlugPct</th><th scope=col>log10_OBP</th><th scope=col>log10_BABIP</th><th scope=col>log10_startYear</th><th scope=col>log10_totalYears</th></tr></thead>\n",
       "<tbody>\n",
       "\t<tr><th scope=row>1</th><td>aardsda01</td><td>David</td><td>Aardsma</td><td>1981</td><td>205</td><td>75</td><td>R</td><td>R</td><td>0</td><td>0</td><td><e2><8b><af></td><td>0</td><td>0</td><td>0</td><td>0</td><td>0.69897</td><td>0</td><td>0</td><td>0</td><td>3.301898</td><td>0.9542425</td></tr>\n",
       "\t<tr><th scope=row>2</th><td>aasedo01</td><td>Don</td><td>Aase</td><td>1954</td><td>190</td><td>75</td><td>R</td><td>R</td><td>0</td><td>0</td><td><e2><8b><af></td><td>0</td><td>0</td><td>0</td><td>0</td><td>0.7781513</td><td>0</td><td>0</td><td>0</td><td>3.297979</td><td>0.60206</td></tr>\n",
       "\t<tr><th scope=row>3</th><td>abadan01</td><td>Andy</td><td>Abad</td><td>1972</td><td>184</td><td>73</td><td>L</td><td>L</td><td>0</td><td>0</td><td><e2><8b><af></td><td>0</td><td>0.30103</td><td>0.69897</td><td>0.0484418</td><td>1.414973</td><td>0.0484418</td><td>0.146128</td><td>0.06707086</td><td>3.302331</td><td>0</td></tr>\n",
       "\t<tr><th scope=row>4</th><td>abadfe01</td><td>Fernando</td><td>Abad</td><td>1985</td><td>220</td><td>73</td><td>L</td><td>L</td><td>0</td><td>0</td><td><e2><8b><af></td><td>0</td><td>0</td><td>0</td><td>0.05804623</td><td>0.9542425</td><td>0.05804623</td><td>0.05804623</td><td>0.09691001</td><td>3.303412</td><td>0.60206</td></tr>\n",
       "\t<tr><th scope=row>5</th><td>abbotje01</td><td>Jeff</td><td>Abbott</td><td>1972</td><td>190</td><td>74</td><td>R</td><td>L</td><td>0</td><td>0</td><td><e2><8b><af></td><td>0.845098</td><td>0.7781513</td><td>1.591065</td><td>0.3494718</td><td>2.812913</td><td>0.1737688</td><td>0.128076</td><td>0.1205739</td><td>3.300595</td><td>0.60206</td></tr>\n",
       "\t<tr><th scope=row>6</th><td>abbotji01</td><td>Jim</td><td>Abbott</td><td>1967</td><td>200</td><td>75</td><td>L</td><td>L</td><td>0</td><td>0</td><td><e2><8b><af></td><td>0</td><td>0</td><td>0</td><td>0.03941412</td><td>1.39794</td><td>0.03941412</td><td>0.03941412</td><td>0.07261748</td><td>3.298635</td><td>1.041393</td></tr>\n",
       "</tbody>\n",
       "</table>\n"
      ],
      "text/latex": [
       "\\begin{tabular}{r|lllllllllllllllllllllllllllllllllllllllllllllllll}\n",
       "  & playerID & nameFirst & nameLast & birthYear & weight & height & bats & throws & HallOfFameYear & HallOfFame & ellip.h & log10_SB & log10_CS & log10_BB & log10_BA & log10_PA & log10_SlugPct & log10_OBP & log10_BABIP & log10_startYear & log10_totalYears\\\\\n",
       "\\hline\n",
       "\t1 & aardsda01 & David & Aardsma & 1981 & 205 & 75 & R & R & 0 & 0 & <e2><8b><af> & 0 & 0 & 0 & 0 & 0.69897 & 0 & 0 & 0 & 3.301898 & 0.9542425\\\\\n",
       "\t2 & aasedo01 & Don & Aase & 1954 & 190 & 75 & R & R & 0 & 0 & <e2><8b><af> & 0 & 0 & 0 & 0 & 0.7781513 & 0 & 0 & 0 & 3.297979 & 0.60206\\\\\n",
       "\t3 & abadan01 & Andy & Abad & 1972 & 184 & 73 & L & L & 0 & 0 & <e2><8b><af> & 0 & 0.30103 & 0.69897 & 0.0484418 & 1.414973 & 0.0484418 & 0.146128 & 0.06707086 & 3.302331 & 0\\\\\n",
       "\t4 & abadfe01 & Fernando & Abad & 1985 & 220 & 73 & L & L & 0 & 0 & <e2><8b><af> & 0 & 0 & 0 & 0.05804623 & 0.9542425 & 0.05804623 & 0.05804623 & 0.09691001 & 3.303412 & 0.60206\\\\\n",
       "\t5 & abbotje01 & Jeff & Abbott & 1972 & 190 & 74 & R & L & 0 & 0 & <e2><8b><af> & 0.845098 & 0.7781513 & 1.591065 & 0.3494718 & 2.812913 & 0.1737688 & 0.128076 & 0.1205739 & 3.300595 & 0.60206\\\\\n",
       "\t6 & abbotji01 & Jim & Abbott & 1967 & 200 & 75 & L & L & 0 & 0 & <e2><8b><af> & 0 & 0 & 0 & 0.03941412 & 1.39794 & 0.03941412 & 0.03941412 & 0.07261748 & 3.298635 & 1.041393\\\\\n",
       "\\end{tabular}\n"
      ],
      "text/plain": [
       "   playerID nameFirst nameLast birthYear weight height bats throws\n",
       "1 aardsda01     David  Aardsma      1981    205     75    R      R\n",
       "2  aasedo01       Don     Aase      1954    190     75    R      R\n",
       "3  abadan01      Andy     Abad      1972    184     73    L      L\n",
       "4  abadfe01  Fernando     Abad      1985    220     73    L      L\n",
       "5 abbotje01      Jeff   Abbott      1972    190     74    R      L\n",
       "6 abbotji01       Jim   Abbott      1967    200     75    L      L\n",
       "  HallOfFameYear HallOfFame  AB  R   H X2B X3B HR RBI SB CS BB    BA  PA  TB\n",
       "1              0          0   3  0   0   0   0  0   0  0  0  0 0.000   4   0\n",
       "2              0          0   5  0   0   0   0  0   0  0  0  0 0.000   5   0\n",
       "3              0          0  21  1   2   0   0  0   0  0  1  4 0.118  25   2\n",
       "4              0          0   8  0   1   0   0  0   0  0  0  0 0.143   8   1\n",
       "5              0          0 596 82 157  33   2 18  83  6  5 38 1.236 649 248\n",
       "6              0          0  21  0   2   0   0  0   3  0  0  0 0.095  24   2\n",
       "  SlugPct   OBP   OPS BABIP max_salary startYear endYear totalYears\n",
       "1   0.000 0.000 0.000 0.000    4500000      2004    2012          9\n",
       "2   0.000 0.000 0.000 0.000     675000      1986    1989          4\n",
       "3   0.118 0.400 0.400 0.167     327000      2006    2006          1\n",
       "4   0.143 0.143 0.286 0.250     525900      2011    2014          4\n",
       "5   0.492 0.343 0.790 0.320     300000      1998    2001          4\n",
       "6   0.095 0.095 0.190 0.182    2775000      1989    1999         11\n",
       "  log10_max_salary  log10_AB  log10_R   log10_H log10_X2B log10_X3B log10_HR\n",
       "1         6.653213 0.6020600 0.000000 0.0000000  0.000000 0.0000000 0.000000\n",
       "2         5.829304 0.7781513 0.000000 0.0000000  0.000000 0.0000000 0.000000\n",
       "3         5.514548 1.3424227 0.301030 0.4771213  0.000000 0.0000000 0.000000\n",
       "4         5.720903 0.9542425 0.000000 0.3010300  0.000000 0.0000000 0.000000\n",
       "5         5.477121 2.7759743 1.919078 2.1986571  1.531479 0.4771213 1.278754\n",
       "6         6.443263 1.3424227 0.000000 0.4771213  0.000000 0.0000000 0.000000\n",
       "  log10_RBI log10_SB  log10_CS log10_BB   log10_BA  log10_PA log10_SlugPct\n",
       "1  0.000000 0.000000 0.0000000 0.000000 0.00000000 0.6989700    0.00000000\n",
       "2  0.000000 0.000000 0.0000000 0.000000 0.00000000 0.7781513    0.00000000\n",
       "3  0.000000 0.000000 0.3010300 0.698970 0.04844180 1.4149733    0.04844180\n",
       "4  0.000000 0.000000 0.0000000 0.000000 0.05804623 0.9542425    0.05804623\n",
       "5  1.924279 0.845098 0.7781513 1.591065 0.34947180 2.8129134    0.17376882\n",
       "6  0.602060 0.000000 0.0000000 0.000000 0.03941412 1.3979400    0.03941412\n",
       "   log10_OBP log10_BABIP log10_startYear log10_totalYears\n",
       "1 0.00000000  0.00000000        3.301898        0.9542425\n",
       "2 0.00000000  0.00000000        3.297979        0.6020600\n",
       "3 0.14612804  0.06707086        3.302331        0.0000000\n",
       "4 0.05804623  0.09691001        3.303412        0.6020600\n",
       "5 0.12807601  0.12057393        3.300595        0.6020600\n",
       "6 0.03941412  0.07261748        3.298635        1.0413927"
      ]
     },
     "execution_count": 20,
     "metadata": {},
     "output_type": "execute_result"
    }
   ],
   "source": [
    "head(trans.PlayersAndStatsAndSalary)\n",
    "#summary(trans.PlayersAndStatsAndSalary)"
   ]
  },
  {
   "cell_type": "code",
   "execution_count": 41,
   "metadata": {
    "collapsed": false
   },
   "outputs": [
    {
     "data": {
      "text/plain": [
       "\n",
       "Call:\n",
       "lm(formula = log10(max_salary) ~ AB + R + H + X2B + X3B + HR + \n",
       "    RBI + SB + CS + BB + BA + PA + SlugPct + OBP + BABIP + startYear + \n",
       "    totalYears + weight + height + bats + throws, data = PlayersAndStatsAndSalary)\n",
       "\n",
       "Residuals:\n",
       "     Min       1Q   Median       3Q      Max \n",
       "-1.82865 -0.21440 -0.06089  0.21559  1.52102 \n",
       "\n",
       "Coefficients:\n",
       "              Estimate Std. Error t value Pr(>|t|)    \n",
       "(Intercept) -4.721e+01  1.411e+00 -33.461  < 2e-16 ***\n",
       "AB          -2.755e-03  2.852e-04  -9.661  < 2e-16 ***\n",
       "R           -1.616e-03  2.630e-04  -6.145 8.77e-10 ***\n",
       "H            2.737e-04  1.880e-04   1.456 0.145489    \n",
       "X2B          5.793e-04  3.417e-04   1.695 0.090080 .  \n",
       "X3B          2.987e-03  8.431e-04   3.543 0.000401 ***\n",
       "HR           2.358e-03  5.154e-04   4.575 4.91e-06 ***\n",
       "RBI         -5.559e-04  2.366e-04  -2.349 0.018869 *  \n",
       "SB           4.857e-04  2.283e-04   2.127 0.033458 *  \n",
       "CS          -3.692e-04  7.436e-04  -0.496 0.619599    \n",
       "BB          -2.585e-03  2.649e-04  -9.758  < 2e-16 ***\n",
       "BA          -7.840e-02  1.056e-02  -7.422 1.40e-13 ***\n",
       "PA           2.882e-03  2.672e-04  10.783  < 2e-16 ***\n",
       "SlugPct     -3.031e-02  3.207e-02  -0.945 0.344601    \n",
       "OBP         -4.094e-02  5.692e-02  -0.719 0.472016    \n",
       "BABIP        2.131e-01  3.605e-02   5.912 3.65e-09 ***\n",
       "startYear    2.556e-02  6.870e-04  37.198  < 2e-16 ***\n",
       "totalYears   9.753e-02  1.424e-03  68.462  < 2e-16 ***\n",
       "weight       1.115e-03  3.244e-04   3.439 0.000590 ***\n",
       "height       1.681e-02  2.878e-03   5.841 5.60e-09 ***\n",
       "batsL       -1.281e-02  2.077e-02  -0.617 0.537487    \n",
       "batsR        5.511e-03  1.835e-02   0.300 0.763911    \n",
       "throwsR     -4.915e-02  1.629e-02  -3.018 0.002564 ** \n",
       "---\n",
       "Signif. codes:  0 '***' 0.001 '**' 0.01 '*' 0.05 '.' 0.1 ' ' 1\n",
       "\n",
       "Residual standard error: 0.3188 on 4067 degrees of freedom\n",
       "Multiple R-squared:  0.7271,\tAdjusted R-squared:  0.7256 \n",
       "F-statistic: 492.5 on 22 and 4067 DF,  p-value: < 2.2e-16\n"
      ]
     },
     "execution_count": 41,
     "metadata": {},
     "output_type": "execute_result"
    }
   ],
   "source": [
    "ImprovedSalaryModel = lm( log10(max_salary) ~ \n",
    "                         AB + R + H + X2B + X3B + HR + RBI + SB + CS + BB + BA + PA \n",
    "                         + SlugPct + OBP + BABIP + startYear + totalYears\n",
    "                         + weight + height + bats + throws,\n",
    "                         data = PlayersAndStatsAndSalary)\n",
    "test.salary.set = read.csv( file(\"HW4_Baseball_test/HW4_Baseball_Salary_test.csv\"), header = TRUE )\n",
    "salaryPred = 10^(predict(ImprovedSalaryModel,test.salary.set))\n",
    "summary(ImprovedSalaryModel) "
   ]
  },
  {
   "cell_type": "code",
   "execution_count": 38,
   "metadata": {
    "collapsed": false
   },
   "outputs": [
    {
     "data": {
      "text/html": [
       "<dl class=dl-horizontal>\n",
       "\t<dt>1</dt>\n",
       "\t\t<dd>6.12702100873566</dd>\n",
       "\t<dt>2</dt>\n",
       "\t\t<dd>6.12606352001588</dd>\n",
       "\t<dt>3</dt>\n",
       "\t\t<dd>6.11153054520444</dd>\n",
       "\t<dt>4</dt>\n",
       "\t\t<dd>6.39237386971768</dd>\n",
       "\t<dt>5</dt>\n",
       "\t\t<dd>6.38572425102977</dd>\n",
       "\t<dt>6</dt>\n",
       "\t\t<dd>6.36621496162179</dd>\n",
       "</dl>\n"
      ],
      "text/latex": [
       "\\begin{description*}\n",
       "\\item[1] 6.12702100873566\n",
       "\\item[2] 6.12606352001588\n",
       "\\item[3] 6.11153054520444\n",
       "\\item[4] 6.39237386971768\n",
       "\\item[5] 6.38572425102977\n",
       "\\item[6] 6.36621496162179\n",
       "\\end{description*}\n"
      ],
      "text/markdown": [
       "1\n",
       ":   6.127021008735662\n",
       ":   6.126063520015883\n",
       ":   6.111530545204444\n",
       ":   6.392373869717685\n",
       ":   6.385724251029776\n",
       ":   6.36621496162179\n",
       "\n"
      ],
      "text/plain": [
       "       1        2        3        4        5        6 \n",
       "6.127021 6.126064 6.111531 6.392374 6.385724 6.366215 "
      ]
     },
     "execution_count": 38,
     "metadata": {},
     "output_type": "execute_result"
    },
    {
     "data": {
      "text/html": [
       "<dl class=dl-horizontal>\n",
       "\t<dt>1</dt>\n",
       "\t\t<dd>1339741.49505146</dd>\n",
       "\t<dt>2</dt>\n",
       "\t\t<dd>1336791.02162666</dd>\n",
       "\t<dt>3</dt>\n",
       "\t\t<dd>1292797.62385717</dd>\n",
       "\t<dt>4</dt>\n",
       "\t\t<dd>2468163.18276548</dd>\n",
       "\t<dt>5</dt>\n",
       "\t\t<dd>2430660.20664174</dd>\n",
       "\t<dt>6</dt>\n",
       "\t\t<dd>2323886.75998401</dd>\n",
       "</dl>\n"
      ],
      "text/latex": [
       "\\begin{description*}\n",
       "\\item[1] 1339741.49505146\n",
       "\\item[2] 1336791.02162666\n",
       "\\item[3] 1292797.62385717\n",
       "\\item[4] 2468163.18276548\n",
       "\\item[5] 2430660.20664174\n",
       "\\item[6] 2323886.75998401\n",
       "\\end{description*}\n"
      ],
      "text/markdown": [
       "1\n",
       ":   1339741.495051462\n",
       ":   1336791.021626663\n",
       ":   1292797.623857174\n",
       ":   2468163.182765485\n",
       ":   2430660.206641746\n",
       ":   2323886.75998401\n",
       "\n"
      ],
      "text/plain": [
       "      1       2       3       4       5       6 \n",
       "1339741 1336791 1292798 2468163 2430660 2323887 "
      ]
     },
     "execution_count": 38,
     "metadata": {},
     "output_type": "execute_result"
    }
   ],
   "source": [
    "head(salaryPred)\n",
    "10^head(salaryPred)"
   ]
  },
  {
   "cell_type": "markdown",
   "metadata": {},
   "source": [
    "# Problem 2: construct a model with better performance  (higher accuracy) than this Baseline Hall of Fame Model"
   ]
  },
  {
   "cell_type": "markdown",
   "metadata": {},
   "source": [
    "###  Hall of Fame election rules:\n",
    "\n",
    "\n",
    "A. A baseball player must have been active as a player in the Major Leagues at some time during a period beginning fifteen (15) years before and ending five (5) years prior to election.\n",
    "\n",
    "B. Player must have played in each of ten (10) Major League championship seasons, some part of which must have been within the period described in 3(A).\n",
    "\n",
    "C. Player shall have ceased to be an active player in the Major Leagues at least five (5) calendar years preceding the election but may be otherwise connected with baseball.\n",
    "\n",
    "### Consequently:   only consider players born before 1970\n",
    "(They must start around 20 years of age, play at least 10 years, have stopped playing at least 5 years earlier, and take perhaps 10 years to win the ballot -- so born at least 45 years ago.)"
   ]
  },
  {
   "cell_type": "code",
   "execution_count": 23,
   "metadata": {
    "collapsed": false,
    "scrolled": true
   },
   "outputs": [
    {
     "data": {
      "text/html": [
       "<table>\n",
       "<thead><tr><th></th><th scope=col>playerID</th><th scope=col>nameFirst</th><th scope=col>nameLast</th><th scope=col>birthYear</th><th scope=col>weight</th><th scope=col>height</th><th scope=col>bats</th><th scope=col>throws</th><th scope=col>HallOfFameYear</th><th scope=col>HallOfFame</th><th scope=col>ellip.h</th><th scope=col>SB</th><th scope=col>CS</th><th scope=col>BB</th><th scope=col>BA</th><th scope=col>PA</th><th scope=col>TB</th><th scope=col>SlugPct</th><th scope=col>OBP</th><th scope=col>OPS</th><th scope=col>BABIP</th></tr></thead>\n",
       "<tbody>\n",
       "\t<tr><th scope=row>2</th><td>aaronha01</td><td>Hank</td><td>Aaron</td><td>1934</td><td>180</td><td>72</td><td>R</td><td>R</td><td>1982</td><td>1</td><td><e2><8b><af></td><td>240</td><td>73</td><td>1402</td><td>6.927</td><td>13940</td><td>6856</td><td>0.669</td><td>0.41</td><td>1.079</td><td>0.338</td></tr>\n",
       "\t<tr><th scope=row>3</th><td>aaronto01</td><td>Tommie</td><td>Aaron</td><td>1939</td><td>190</td><td>75</td><td>R</td><td>R</td><td>0</td><td>0</td><td><e2><8b><af></td><td>9</td><td>8</td><td>86</td><td>1.545</td><td>1045</td><td>309</td><td>0.374</td><td>0.318</td><td>0.686</td><td>0.276</td></tr>\n",
       "\t<tr><th scope=row>4</th><td>aasedo01</td><td>Don</td><td>Aase</td><td>1954</td><td>190</td><td>75</td><td>R</td><td>R</td><td>0</td><td>0</td><td><e2><8b><af></td><td>0</td><td>0</td><td>0</td><td>0</td><td>5</td><td>0</td><td>0</td><td>0</td><td>0</td><td>0</td></tr>\n",
       "\t<tr><th scope=row>7</th><td>abadijo01</td><td>John</td><td>Abadie</td><td>1854</td><td>192</td><td>72</td><td>R</td><td>R</td><td>0</td><td>0</td><td><e2><8b><af></td><td>1</td><td>0</td><td>0</td><td>0.472</td><td>49</td><td>11</td><td>0.25</td><td>0.25</td><td>0.5</td><td>0.25</td></tr>\n",
       "\t<tr><th scope=row>9</th><td>abbotji01</td><td>Jim</td><td>Abbott</td><td>1967</td><td>200</td><td>75</td><td>L</td><td>L</td><td>0</td><td>0</td><td><e2><8b><af></td><td>0</td><td>0</td><td>0</td><td>0.095</td><td>24</td><td>2</td><td>0.095</td><td>0.095</td><td>0.19</td><td>0.182</td></tr>\n",
       "\t<tr><th scope=row>10</th><td>abbotku01</td><td>Kurt</td><td>Abbott</td><td>1969</td><td>180</td><td>71</td><td>R</td><td>R</td><td>0</td><td>0</td><td><e2><8b><af></td><td>22</td><td>11</td><td>133</td><td>2.511</td><td>2227</td><td>864</td><td>0.465</td><td>0.326</td><td>0.77</td><td>0.354</td></tr>\n",
       "</tbody>\n",
       "</table>\n"
      ],
      "text/latex": [
       "\\begin{tabular}{r|lllllllllllllllllllllllllll}\n",
       "  & playerID & nameFirst & nameLast & birthYear & weight & height & bats & throws & HallOfFameYear & HallOfFame & ellip.h & SB & CS & BB & BA & PA & TB & SlugPct & OBP & OPS & BABIP\\\\\n",
       "\\hline\n",
       "\t2 & aaronha01 & Hank & Aaron & 1934 & 180 & 72 & R & R & 1982 & 1 & <e2><8b><af> & 240 & 73 & 1402 & 6.927 & 13940 & 6856 & 0.669 & 0.41 & 1.079 & 0.338\\\\\n",
       "\t3 & aaronto01 & Tommie & Aaron & 1939 & 190 & 75 & R & R & 0 & 0 & <e2><8b><af> & 9 & 8 & 86 & 1.545 & 1045 & 309 & 0.374 & 0.318 & 0.686 & 0.276\\\\\n",
       "\t4 & aasedo01 & Don & Aase & 1954 & 190 & 75 & R & R & 0 & 0 & <e2><8b><af> & 0 & 0 & 0 & 0 & 5 & 0 & 0 & 0 & 0 & 0\\\\\n",
       "\t7 & abadijo01 & John & Abadie & 1854 & 192 & 72 & R & R & 0 & 0 & <e2><8b><af> & 1 & 0 & 0 & 0.472 & 49 & 11 & 0.25 & 0.25 & 0.5 & 0.25\\\\\n",
       "\t9 & abbotji01 & Jim & Abbott & 1967 & 200 & 75 & L & L & 0 & 0 & <e2><8b><af> & 0 & 0 & 0 & 0.095 & 24 & 2 & 0.095 & 0.095 & 0.19 & 0.182\\\\\n",
       "\t10 & abbotku01 & Kurt & Abbott & 1969 & 180 & 71 & R & R & 0 & 0 & <e2><8b><af> & 22 & 11 & 133 & 2.511 & 2227 & 864 & 0.465 & 0.326 & 0.77 & 0.354\\\\\n",
       "\\end{tabular}\n"
      ],
      "text/plain": [
       "    playerID nameFirst nameLast birthYear weight height bats throws\n",
       "2  aaronha01      Hank    Aaron      1934    180     72    R      R\n",
       "3  aaronto01    Tommie    Aaron      1939    190     75    R      R\n",
       "4   aasedo01       Don     Aase      1954    190     75    R      R\n",
       "7  abadijo01      John   Abadie      1854    192     72    R      R\n",
       "9  abbotji01       Jim   Abbott      1967    200     75    L      L\n",
       "10 abbotku01      Kurt   Abbott      1969    180     71    R      R\n",
       "   HallOfFameYear HallOfFame    AB    R    H X2B X3B  HR  RBI  SB CS   BB    BA\n",
       "2            1982          1 12364 2174 3771 624  98 755 2297 240 73 1402 6.927\n",
       "3               0          0   944  102  216  42   6  13   94   9  8   86 1.545\n",
       "4               0          0     5    0    0   0   0   0    0   0  0    0 0.000\n",
       "7               0          0    49    4   11   0   0   0    5   1  0    0 0.472\n",
       "9               0          0    21    0    2   0   0   0    3   0  0    0 0.095\n",
       "10              0          0  2044  273  523 109  23  62  242  22 11  133 2.511\n",
       "      PA   TB SlugPct   OBP   OPS BABIP\n",
       "2  13940 6856   0.669 0.410 1.079 0.338\n",
       "3   1045  309   0.374 0.318 0.686 0.276\n",
       "4      5    0   0.000 0.000 0.000 0.000\n",
       "7     49   11   0.250 0.250 0.500 0.250\n",
       "9     24    2   0.095 0.095 0.190 0.182\n",
       "10  2227  864   0.465 0.326 0.770 0.354"
      ]
     },
     "execution_count": 23,
     "metadata": {},
     "output_type": "execute_result"
    },
    {
     "data": {
      "text/html": [
       "8111"
      ],
      "text/latex": [
       "8111"
      ],
      "text/markdown": [
       "8111"
      ],
      "text/plain": [
       "[1] 8111"
      ]
     },
     "execution_count": 23,
     "metadata": {},
     "output_type": "execute_result"
    }
   ],
   "source": [
    "HallOfFameContenders = subset( PlayersAndStats, birthYear < 1970 )\n",
    "head(HallOfFameContenders)\n",
    "nrow(HallOfFameContenders)"
   ]
  },
  {
   "cell_type": "code",
   "execution_count": 24,
   "metadata": {
    "collapsed": false
   },
   "outputs": [
    {
     "data": {
      "text/plain": [
       "   \n",
       "       0    1\n",
       "  0 7899  155\n",
       "  1   19   38"
      ]
     },
     "execution_count": 24,
     "metadata": {},
     "output_type": "execute_result"
    }
   ],
   "source": [
    "BaselineHallOfFameModel = glm( HallOfFame ~ AB + R + H + X2B + X3B + HR + RBI + SB + CS + BB + BA + PA + SlugPct + OBP + BABIP,\n",
    "                         data = HallOfFameContenders, family=binomial)\n",
    "\n",
    "#summary(BaselineHallOfFameModel)\n",
    "baselineConfusionMatrix = table( round(predict(BaselineHallOfFameModel, type=\"response\")), HallOfFameContenders$HallOfFame )\n",
    "baselineConfusionMatrix"
   ]
  },
  {
   "cell_type": "code",
   "execution_count": 25,
   "metadata": {
    "collapsed": false
   },
   "outputs": [
    {
     "data": {
      "text/html": [
       "57"
      ],
      "text/latex": [
       "57"
      ],
      "text/markdown": [
       "57"
      ],
      "text/plain": [
       "[1] 57"
      ]
     },
     "execution_count": 25,
     "metadata": {},
     "output_type": "execute_result"
    }
   ],
   "source": [
    "sum(round(predict(BaselineHallOfFameModel, type=\"response\")))"
   ]
  },
  {
   "cell_type": "code",
   "execution_count": 26,
   "metadata": {
    "collapsed": false
   },
   "outputs": [
    {
     "name": "stderr",
     "output_type": "stream",
     "text": [
      "Warning message:\n",
      ": package 'e1071' was built under R version 3.2.5"
     ]
    }
   ],
   "source": [
    "# we need the ggplot2 package to get the \"diamonds\" dataset\n",
    "not.installed <- function(pkg) !is.element(pkg, installed.packages()[,1])\n",
    "\n",
    "if (not.installed(\"e1071\")) install.packages(\"e1071\", repos = \"http://cran.r-project.org\")\n",
    "library(e1071)\n",
    "svmModel = svm( \n",
    "                 HallOfFame~ AB + R + H + X2B + X3B + HR + RBI + SB + CS + BB + BA + PA + SlugPct + OBP + BABIP + weight + height + bats + throws + birthYear, \n",
    "                data=HallOfFameContenders, \n",
    "                type = \"C\", \n",
    "                kernel = \"radial\", gamma = 0.5,\n",
    "                cost = 62.5,  tolerance = 0.001, epsilon = 0.001,\n",
    "                na.action = na.omit\n",
    "              )\n",
    "test.hallOfFame.set = read.csv( file(\"HW4_Baseball_test/HW4_Baseball_HallOfFame_test.csv\"), header = TRUE )\n",
    "hallOfFamePred = predict(svmModel,test.hallOfFame.set)\n",
    "#summary(svmModel)"
   ]
  },
  {
   "cell_type": "code",
   "execution_count": 43,
   "metadata": {
    "collapsed": false
   },
   "outputs": [
    {
     "data": {
      "text/html": [
       "19"
      ],
      "text/latex": [
       "19"
      ],
      "text/markdown": [
       "19"
      ],
      "text/plain": [
       "[1] 19"
      ]
     },
     "execution_count": 43,
     "metadata": {},
     "output_type": "execute_result"
    }
   ],
   "source": [
    "sum(hallOfFamePred==1)"
   ]
  },
  {
   "cell_type": "code",
   "execution_count": 32,
   "metadata": {
    "collapsed": false
   },
   "outputs": [
    {
     "data": {
      "text/plain": [
       "   \n",
       "       0    1\n",
       "  0 7918    3\n",
       "  1    0  190"
      ]
     },
     "execution_count": 32,
     "metadata": {},
     "output_type": "execute_result"
    }
   ],
   "source": [
    "svmPred = predict(svmModel, HallOfFameContenders)\n",
    "svmConfusionMatrix=table( predict(svmModel, type=\"response\"), HallOfFameContenders$HallOfFame )\n",
    "svmConfusionMatrix"
   ]
  },
  {
   "cell_type": "code",
   "execution_count": 33,
   "metadata": {
    "collapsed": false
   },
   "outputs": [],
   "source": [
    "svmWeightedAccuracy = \n",
    "                    (svmConfusionMatrix[1]+svmConfusionMatrix[4]*100)/\n",
    "                    (svmConfusionMatrix[1]+svmConfusionMatrix[2] +svmConfusionMatrix[3]*100+svmConfusionMatrix[4]*100)\n"
   ]
  },
  {
   "cell_type": "code",
   "execution_count": 34,
   "metadata": {
    "collapsed": false
   },
   "outputs": [
    {
     "data": {
      "text/html": [
       "0.988977882283783"
      ],
      "text/latex": [
       "0.988977882283783"
      ],
      "text/markdown": [
       "0.988977882283783"
      ],
      "text/plain": [
       "[1] 0.9889779"
      ]
     },
     "execution_count": 34,
     "metadata": {},
     "output_type": "execute_result"
    }
   ],
   "source": [
    "svmWeightedAccuracy"
   ]
  },
  {
   "cell_type": "code",
   "execution_count": 40,
   "metadata": {
    "collapsed": false
   },
   "outputs": [],
   "source": [
    "IAccuracy = summary(ImprovedSalaryModel)$r.squared\n",
    "vecLine1=c( IAccuracy, \"lm( log10(max_salary) ~ AB + R + H + X2B + X3B + HR + RBI + SB + CS + BB + BA + PA + SlugPct + OBP + BABIP + startYear + totalYears+ weight + height + bats + throws,data = PlayersAndStatsAndSalary)\" )  \n",
    "vecLine2=c( svmWeightedAccuracy, \"svmModel = svm( HallOfFame~AB + R + H + X2B + X3B + HR + RBI + SB + CS + BB + BA + PA + SlugPct + OBP + BABIP + weight + height + bats + throws + birthYear, ,data=HallOfFameContenders, type = \\\"C\\\", kernel = \\\"radial\\\", gamma = 0.5,cost = 62.5,  tolerance = 0.001, epsilon = 0.001,na.action = na.omit)\")\n",
    "DF = rbind(vecLine1,vecLine2)\n",
    "write.table(DF, file = \"HW4_Baseball_Models.csv\", append =FALSE, quote = FALSE, sep = \",\",\n",
    "            eol = \"\\n\", na = \"\", dec = \".\", row.names = FALSE,\n",
    "            col.names = FALSE, qmethod = c(\"escape\", \"double\"),\n",
    "            fileEncoding = \"\")\n",
    "write.table(salaryPred, file = \"HW4_Baseball_Salary_predictions.csv\", append =FALSE, quote = FALSE, sep = \",\",\n",
    "            eol = \"\\n\", na = \"\", dec = \".\", row.names = FALSE,\n",
    "            col.names = FALSE, qmethod = c(\"escape\", \"double\"),\n",
    "            fileEncoding = \"\")\n",
    "write.table(hallOfFamePred, file = \"HW4_Baseball_HallOfFame_predictions.csv\", append =FALSE, quote = FALSE, sep = \",\",\n",
    "            eol = \"\\n\", na = \"\", dec = \".\", row.names = FALSE,\n",
    "            col.names = FALSE, qmethod = c(\"escape\", \"double\"),\n",
    "            fileEncoding = \"\")"
   ]
  },
  {
   "cell_type": "markdown",
   "metadata": {},
   "source": [
    "##  Warning!  This dataset is severely imbalanced.  Read Ch.16 of [APM]\n",
    "\n",
    "Only about 1% or 2% of all players are inducted into the Hall of Fame:"
   ]
  },
  {
   "cell_type": "code",
   "execution_count": null,
   "metadata": {
    "collapsed": false
   },
   "outputs": [],
   "source": [
    "( FameTally = table( HallOfFameContenders$HallOfFame ) )"
   ]
  },
  {
   "cell_type": "code",
   "execution_count": null,
   "metadata": {
    "collapsed": false
   },
   "outputs": [],
   "source": [
    "data.frame( percentageOfHallOfFamers = FameTally[2] / sum(FameTally) )"
   ]
  },
  {
   "cell_type": "markdown",
   "metadata": {},
   "source": [
    "##  The measure of accuracy will heavily emphasize correct prediction of Hall-of-Fame players\n",
    "\n",
    "(i.e., the measurement of accuracy will focus on correct prediction of Hall-of-Fame players)\n",
    "\n",
    "Even though classifying everybody as a NON-Hall-of-Fame player is right\n",
    "for about 98% of the players, predictions for Hall-of-Fame players will be weighted heavily in this assignment.\n",
    "Ignoring these players will get a very low score on this assignment.\n",
    "\n",
    "Specifically, your model will be evaluated by its <b>Hall-of-Fame-Accuracy-Rate</b>:\n",
    "<blockquote>\n",
    "This rate is a weighted percentage of correct predictions\n",
    "for players in the Hall of Fame:  <u>correct prediction for players in the Hall of Fame\n",
    "is worth 100 times more than for players who are not in the Hall of Fame.</u>\n",
    "</blockquote>\n"
   ]
  },
  {
   "cell_type": "code",
   "execution_count": null,
   "metadata": {
    "collapsed": true
   },
   "outputs": [],
   "source": [
    "#  Create your model here ..."
   ]
  },
  {
   "cell_type": "code",
   "execution_count": null,
   "metadata": {
    "collapsed": true
   },
   "outputs": [],
   "source": []
  }
 ],
 "metadata": {
  "kernelspec": {
   "display_name": "R",
   "language": "R",
   "name": "ir"
  },
  "language_info": {
   "codemirror_mode": "r",
   "file_extension": ".r",
   "mimetype": "text/x-r-source",
   "name": "R",
   "pygments_lexer": "r",
   "version": "3.2.4"
  }
 },
 "nbformat": 4,
 "nbformat_minor": 0
}
