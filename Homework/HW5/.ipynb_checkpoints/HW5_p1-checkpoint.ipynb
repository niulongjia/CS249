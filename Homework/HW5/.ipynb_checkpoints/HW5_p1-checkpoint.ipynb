{
 "cells": [
  {
   "cell_type": "markdown",
   "metadata": {},
   "source": [
    "# HW5 Problem 1: Analyzing Data Science Job Descriptions\n",
    "\n",
    "This assignment is based on the job descriptions obtained from stackoverflow.com\n",
    "obtained using a notebook like the one discussed in class several weeks ago\n",
    "(Data_Science_Job_Descriptions.ipynb, from May 16, in\n",
    "Some Jupyter Notebooks -- Data Science in Python).\n",
    "\n",
    "Download your HW5 data from:\n",
    "\n",
    "     http://datamining.cs.ucla.edu/cs249/hw5/___your_nine_digit_UID___.zip\n",
    "\n",
    "Problem 1  (75 points):\n",
    "The Training data    train_data.csv \n",
    "has job classifications for about 800 job postings on careers.stackoverflow.com.  \n",
    "In the last column, about 20% of these are classified as \"data science\" jobs ('DS'); \n",
    "the remainder are \"non-data science\" ('nonDS').\n",
    "Develop the most accurate classifier for data science jobs that you can.\n",
    "Use your classifier to make predictions for the 1-column dataset\n",
    "        test_data.csv\n",
    "and upload your predictions to CCLE in a 1-column dataset\n",
    "        test_predictions.csv\n",
    "The file test_data.csv has about 20% DS jobs, and 80% nonDS jobs.\n",
    "Your score on this problem will be your classification accuracy for the test data ---\n",
    "so if your classifier always predicts 'nonDS' you could get about 80%.\n",
    "\n",
    "\n",
    "\n",
    "Summary:\n",
    "\n",
    "for this (short) assignment, based on the data that you download\n",
    "from the URL above,  you should upload two .csv files to CCLE:\n",
    "\n",
    "test_predictions.csv  and  top_10_features.csv ."
   ]
  },
  {
   "cell_type": "markdown",
   "metadata": {},
   "source": [
    "The results of a contest for building classifiers for this dataset are reported in:\n",
    "<blockquote>\n",
    "http://duch.mimuw.edu.pl/~mwojnars/papers/ismis-2011-contest.pdf\n",
    "</blockquote>\n",
    "This paper offers some ideas about models to consider."
   ]
  },
  {
   "cell_type": "markdown",
   "metadata": {
    "collapsed": true
   },
   "source": [
    "#  The Goal\n",
    "\n",
    "In this assignment you are to generate the genre predictions you can for a set of test data:\n",
    "<ul><li>\n",
    "Given the file <tt>MusicGenres.csv</tt>, develop a classifier that is as accurate as possible.\n",
    "</li><li>\n",
    "Use your classifier to predict genre classifications for each row of data in <tt>MusicFeatures.csv</tt>.\n",
    "</li><li>\n",
    "Put your predictions in a .csv file called  <tt>HW4_predictions.csv</tt> and upload it to CCLE.\n",
    "</li></ul>\n",
    "\n",
    "## Step 1: download your data, using your UID\n",
    "\n",
    "<blockquote>\n",
    "\n",
    "Download the music data at:\n",
    "<br/>\n",
    "http://datamining.cs.ucla.edu/cs249/hw4/music/___PUT_YOUR_UID_HERE___.zip\n",
    "\n",
    "<br/>\n",
    "<br/>\n",
    "<i>For example, if your UID is  123456789, download the file</i>\n",
    "    http://datamining.cs.ucla.edu/cs249/hw4/music/123456789.zip\n",
    "    \n",
    "</blockquote>\n",
    "    \n",
    "This zip file has two csv data files:  a training set and a test set.\n",
    "\n",
    "## Step 2: construct a model from <tt>training_set.csv</tt>\n",
    "\n",
    "Using the <tt>training_set.csv</tt> data, construct a classifier.\n",
    "\n",
    "<br/>\n",
    "<b>YOU CAN USE ANY ENVIRONMENT YOU LIKE TO BUILD A CLASSIFIER.</b>\n",
    "Please construct the most accurate models you can.\n",
    "\n",
    "<hr style=\"border-width:20px;\">\n",
    "\n",
    "## Step 3: generate predictions from <tt>test_set.csv</tt>\n",
    "    \n",
    "The rows of file <tt>test_set.csv</tt> have input features for a number of music clips.\n",
    "Using your classifer, produce class predictions for each of them.\n",
    "\n",
    "<br/>\n",
    "Put one predicted class name per line in a CSV file <tt>HW4_Music_Predictions.csv</tt>.\n",
    "This file should also have the header line \"<tt>GENRE</tt>\".\n",
    "\n",
    "<br/>\n",
    "<i>Your score on this problem will be the accuracy of these predictions.</i>\n",
    "<br/>\n",
    "\n",
    "<hr style=\"border-width:20px;\">\n",
    "\n",
    "## Step 4: upload <tt>HW4_Music_Predictions.csv</tt> and your notebook to CCLE\n",
    "\n",
    "Finally, go to CCLE and upload:\n",
    "<ul><li>\n",
    "your output CSV file <tt>HW4_Music_Predictions.csv</tt>\n",
    "</li><li>\n",
    "your notebook file <tt>HW4_Music_Genres.ipynb</tt>\n",
    "</li></ul>\n",
    "\n",
    "We are not planning to run any of the uploaded notebooks.\n",
    "However, your notebook should have the commands you used in developing your models ---\n",
    "in order to show your work.\n",
    "As announced, all assignment grading in this course will be automated,\n",
    "and the notebook is needed in order to check results of the grading program."
   ]
  },
  {
   "cell_type": "code",
   "execution_count": 1,
   "metadata": {
    "collapsed": true
   },
   "outputs": [],
   "source": [
    "training.set = read.csv( file(\"HW4_Music_Genres/training_set.csv\"), header = TRUE )\n",
    "test.set = read.csv( file(\"HW4_Music_Genres/test_set.csv\"), header = TRUE )"
   ]
  },
  {
   "cell_type": "code",
   "execution_count": 2,
   "metadata": {
    "collapsed": false
   },
   "outputs": [
    {
     "data": {
      "text/html": [
       "11245"
      ],
      "text/latex": [
       "11245"
      ],
      "text/markdown": [
       "11245"
      ],
      "text/plain": [
       "[1] 11245"
      ]
     },
     "execution_count": 2,
     "metadata": {},
     "output_type": "execute_result"
    },
    {
     "data": {
      "text/html": [
       "<table>\n",
       "<thead><tr><th></th><th scope=col>PAR_TC</th><th scope=col>PAR_SC</th><th scope=col>PAR_SC_V</th><th scope=col>PAR_ASE1</th><th scope=col>PAR_ASE2</th><th scope=col>PAR_ASE3</th><th scope=col>PAR_ASE4</th><th scope=col>PAR_ASE5</th><th scope=col>PAR_ASE6</th><th scope=col>PAR_ASE7</th><th scope=col>ellip.h</th><th scope=col>PAR_3RMS_TCD</th><th scope=col>PAR_ZCD_10FR_MEAN</th><th scope=col>PAR_ZCD_10FR_VAR</th><th scope=col>PAR_1RMS_TCD_10FR_MEAN</th><th scope=col>PAR_1RMS_TCD_10FR_VAR</th><th scope=col>PAR_2RMS_TCD_10FR_MEAN</th><th scope=col>PAR_2RMS_TCD_10FR_VAR</th><th scope=col>PAR_3RMS_TCD_10FR_MEAN</th><th scope=col>PAR_3RMS_TCD_10FR_VAR</th><th scope=col>GENRE</th></tr></thead>\n",
       "<tbody>\n",
       "\t<tr><th scope=row>1</th><td>2.541496</td><td>834.9988</td><td>114069.8</td><td>-0.1565698</td><td>-0.1485298</td><td>-0.1244398</td><td>-0.1117298</td><td>-0.1064399</td><td>-0.1054898</td><td>-0.1137898</td><td><e2><8b><af></td><td>0.001850297</td><td>0.05067193</td><td>6.341191e-05</td><td>0.05589092</td><td>0.0002219497</td><td>0.01312698</td><td>7.29379e-05</td><td>0.001828597</td><td>4.832993e-06</td><td>Classical_Jazz_Rock</td></tr>\n",
       "\t<tr><th scope=row>2</th><td>2.474496</td><td>822.8188</td><td>250849.6</td><td>-0.1305198</td><td>-0.1222498</td><td>-0.1161598</td><td>-0.1124398</td><td>-0.1098198</td><td>-0.1109198</td><td>-0.1137598</td><td><e2><8b><af></td><td>0.002476197</td><td>0.06572491</td><td>0.0004681193</td><td>0.07599489</td><td>0.000725599</td><td>0.01621798</td><td>4.089194e-05</td><td>0.002514296</td><td>1.177998e-06</td><td>Classical_Jazz_Rock</td></tr>\n",
       "\t<tr><th scope=row>3</th><td>2.521896</td><td>1336.898</td><td>636329.1</td><td>-0.1550198</td><td>-0.1473498</td><td>-0.1336298</td><td>-0.1245498</td><td>-0.1203498</td><td>-0.1228198</td><td>-0.1285598</td><td><e2><8b><af></td><td>0.002947796</td><td>0.09478087</td><td>0.0006666791</td><td>0.1032799</td><td>0.0008682388</td><td>0.02059297</td><td>5.205493e-05</td><td>0.003025896</td><td>3.996394e-07</td><td>Classical_Jazz_Rock</td></tr>\n",
       "\t<tr><th scope=row>4</th><td>2.588196</td><td>816.9088</td><td>1008099</td><td>-0.1208998</td><td>-0.1135198</td><td>-0.1177298</td><td>-0.1187898</td><td>-0.1263098</td><td>-0.1290498</td><td>-0.1285598</td><td><e2><8b><af></td><td>0.004045394</td><td>0.06162191</td><td>0.000695049</td><td>0.04850593</td><td>0.0002702696</td><td>0.01365998</td><td>6.391891e-05</td><td>0.004038094</td><td>1.670798e-05</td><td>Metal_Pop_Blues</td></tr>\n",
       "\t<tr><th scope=row>5</th><td>2.331997</td><td>476.3793</td><td>118379.8</td><td>-0.1173398</td><td>-0.1105698</td><td>-0.1042599</td><td>-0.09812786</td><td>-0.09847586</td><td>-0.1086298</td><td>-0.1218398</td><td><e2><8b><af></td><td>0.002956896</td><td>0.04488694</td><td>0.0001916097</td><td>0.04537694</td><td>0.0002006997</td><td>0.01081898</td><td>5.143493e-05</td><td>0.003058496</td><td>5.629792e-06</td><td>Classical_Jazz_Rock</td></tr>\n",
       "\t<tr><th scope=row>6</th><td>2.414897</td><td>1353.098</td><td>151939.8</td><td>-0.1676698</td><td>-0.1626398</td><td>-0.1551098</td><td>-0.1429898</td><td>-0.1387098</td><td>-0.1395298</td><td>-0.1469198</td><td><e2><8b><af></td><td>0.002766396</td><td>0.08473988</td><td>5.273192e-05</td><td>0.09445987</td><td>0.0003433795</td><td>0.02244397</td><td>0.0001376198</td><td>0.002786396</td><td>3.515095e-06</td><td>Metal_Pop_Blues</td></tr>\n",
       "</tbody>\n",
       "</table>\n"
      ],
      "text/latex": [
       "\\begin{tabular}{r|llllllllllllllllllllllllllllllllllllllllllllllllllllllllllllllllllllllllllllllllllllllllllllllllllllllllllllllllllllllllllllllllllllllllllllllllllllllllllllllllllllllllllllllllllllllllllllllll}\n",
       "  & PAR_TC & PAR_SC & PAR_SC_V & PAR_ASE1 & PAR_ASE2 & PAR_ASE3 & PAR_ASE4 & PAR_ASE5 & PAR_ASE6 & PAR_ASE7 & ellip.h & PAR_3RMS_TCD & PAR_ZCD_10FR_MEAN & PAR_ZCD_10FR_VAR & PAR_1RMS_TCD_10FR_MEAN & PAR_1RMS_TCD_10FR_VAR & PAR_2RMS_TCD_10FR_MEAN & PAR_2RMS_TCD_10FR_VAR & PAR_3RMS_TCD_10FR_MEAN & PAR_3RMS_TCD_10FR_VAR & GENRE\\\\\n",
       "\\hline\n",
       "\t1 & 2.541496 & 834.9988 & 114069.8 & -0.1565698 & -0.1485298 & -0.1244398 & -0.1117298 & -0.1064399 & -0.1054898 & -0.1137898 & <e2><8b><af> & 0.001850297 & 0.05067193 & 6.341191e-05 & 0.05589092 & 0.0002219497 & 0.01312698 & 7.29379e-05 & 0.001828597 & 4.832993e-06 & Classical_Jazz_Rock\\\\\n",
       "\t2 & 2.474496 & 822.8188 & 250849.6 & -0.1305198 & -0.1222498 & -0.1161598 & -0.1124398 & -0.1098198 & -0.1109198 & -0.1137598 & <e2><8b><af> & 0.002476197 & 0.06572491 & 0.0004681193 & 0.07599489 & 0.000725599 & 0.01621798 & 4.089194e-05 & 0.002514296 & 1.177998e-06 & Classical_Jazz_Rock\\\\\n",
       "\t3 & 2.521896 & 1336.898 & 636329.1 & -0.1550198 & -0.1473498 & -0.1336298 & -0.1245498 & -0.1203498 & -0.1228198 & -0.1285598 & <e2><8b><af> & 0.002947796 & 0.09478087 & 0.0006666791 & 0.1032799 & 0.0008682388 & 0.02059297 & 5.205493e-05 & 0.003025896 & 3.996394e-07 & Classical_Jazz_Rock\\\\\n",
       "\t4 & 2.588196 & 816.9088 & 1008099 & -0.1208998 & -0.1135198 & -0.1177298 & -0.1187898 & -0.1263098 & -0.1290498 & -0.1285598 & <e2><8b><af> & 0.004045394 & 0.06162191 & 0.000695049 & 0.04850593 & 0.0002702696 & 0.01365998 & 6.391891e-05 & 0.004038094 & 1.670798e-05 & Metal_Pop_Blues\\\\\n",
       "\t5 & 2.331997 & 476.3793 & 118379.8 & -0.1173398 & -0.1105698 & -0.1042599 & -0.09812786 & -0.09847586 & -0.1086298 & -0.1218398 & <e2><8b><af> & 0.002956896 & 0.04488694 & 0.0001916097 & 0.04537694 & 0.0002006997 & 0.01081898 & 5.143493e-05 & 0.003058496 & 5.629792e-06 & Classical_Jazz_Rock\\\\\n",
       "\t6 & 2.414897 & 1353.098 & 151939.8 & -0.1676698 & -0.1626398 & -0.1551098 & -0.1429898 & -0.1387098 & -0.1395298 & -0.1469198 & <e2><8b><af> & 0.002766396 & 0.08473988 & 5.273192e-05 & 0.09445987 & 0.0003433795 & 0.02244397 & 0.0001376198 & 0.002786396 & 3.515095e-06 & Metal_Pop_Blues\\\\\n",
       "\\end{tabular}\n"
      ],
      "text/plain": [
       "    PAR_TC    PAR_SC  PAR_SC_V   PAR_ASE1   PAR_ASE2   PAR_ASE3    PAR_ASE4\n",
       "1 2.541496  834.9988  114069.8 -0.1565698 -0.1485298 -0.1244398 -0.11172984\n",
       "2 2.474496  822.8188  250849.6 -0.1305198 -0.1222498 -0.1161598 -0.11243984\n",
       "3 2.521896 1336.8981  636329.1 -0.1550198 -0.1473498 -0.1336298 -0.12454982\n",
       "4 2.588196  816.9088 1008098.6 -0.1208998 -0.1135198 -0.1177298 -0.11878983\n",
       "5 2.331997  476.3793  118379.8 -0.1173398 -0.1105698 -0.1042599 -0.09812786\n",
       "6 2.414897 1353.0981  151939.8 -0.1676698 -0.1626398 -0.1551098 -0.14298980\n",
       "     PAR_ASE5   PAR_ASE6   PAR_ASE7   PAR_ASE8   PAR_ASE9  PAR_ASE10  PAR_ASE11\n",
       "1 -0.10643985 -0.1054898 -0.1137898 -0.1240498 -0.1305898 -0.1453798 -0.1447298\n",
       "2 -0.10981984 -0.1109198 -0.1137598 -0.1213898 -0.1309098 -0.1456998 -0.1624598\n",
       "3 -0.12034983 -0.1228198 -0.1285598 -0.1352298 -0.1395998 -0.1457098 -0.1556498\n",
       "4 -0.12630982 -0.1290498 -0.1285598 -0.1309198 -0.1331198 -0.1268398 -0.1233898\n",
       "5 -0.09847586 -0.1086298 -0.1218398 -0.1116198 -0.1181398 -0.1323198 -0.1425098\n",
       "6 -0.13870980 -0.1395298 -0.1469198 -0.1406298 -0.1349298 -0.1445698 -0.1469298\n",
       "   PAR_ASE12  PAR_ASE13  PAR_ASE14  PAR_ASE15  PAR_ASE16  PAR_ASE17  PAR_ASE18\n",
       "1 -0.1467298 -0.1461298 -0.1546698 -0.1575798 -0.1575898 -0.1402598 -0.1381198\n",
       "2 -0.1760097 -0.1604798 -0.1743298 -0.1683298 -0.1643798 -0.1652098 -0.1699798\n",
       "3 -0.1541498 -0.1524698 -0.1578598 -0.1603998 -0.1689598 -0.1733997 -0.1732198\n",
       "4 -0.1265498 -0.1442298 -0.1487398 -0.1664798 -0.1526398 -0.1519798 -0.1693298\n",
       "5 -0.1487798 -0.1504598 -0.1525898 -0.1615898 -0.1544298 -0.1741197 -0.1681998\n",
       "6 -0.1461398 -0.1426598 -0.1450998 -0.1416598 -0.1304698 -0.1218398 -0.1330498\n",
       "   PAR_ASE19  PAR_ASE20  PAR_ASE21  PAR_ASE22  PAR_ASE23  PAR_ASE24  PAR_ASE25\n",
       "1 -0.1126198 -0.1437298 -0.1559898 -0.1573198 -0.1403398 -0.1640498 -0.1772597\n",
       "2 -0.1689498 -0.1619298 -0.1665398 -0.1652198 -0.1598698 -0.1611698 -0.1602198\n",
       "3 -0.1719597 -0.1721497 -0.1621698 -0.1657398 -0.1526898 -0.1587998 -0.1608798\n",
       "4 -0.1700398 -0.1720298 -0.1755997 -0.1742897 -0.1727397 -0.1706698 -0.1744597\n",
       "5 -0.1675398 -0.1600598 -0.1597798 -0.1470798 -0.1541898 -0.1668098 -0.1722097\n",
       "6 -0.1535098 -0.1452698 -0.1484098 -0.1500998 -0.1399898 -0.1478498 -0.1509098\n",
       "   PAR_ASE26  PAR_ASE27  PAR_ASE28  PAR_ASE29  PAR_ASE30  PAR_ASE31  PAR_ASE32\n",
       "1 -0.1908097 -0.1978297 -0.2044997 -0.2031897 -0.2059397 -0.2063897 -0.2270197\n",
       "2 -0.1669798 -0.1692998 -0.1844597 -0.1929297 -0.2091597 -0.2235297 -0.2353597\n",
       "3 -0.1662798 -0.1681998 -0.1792897 -0.1782698 -0.1984697 -0.2185697 -0.2330797\n",
       "4 -0.1803997 -0.2026697 -0.2199497 -0.1852997 -0.1999297 -0.2061597 -0.2165597\n",
       "5 -0.1934197 -0.1899497 -0.1889397 -0.1941697 -0.2058597 -0.2092197 -0.2396597\n",
       "6 -0.1707798 -0.1699698 -0.1719597 -0.1812597 -0.1895897 -0.1975797 -0.2105497\n",
       "   PAR_ASE33  PAR_ASE34  PAR_ASE_M    PAR_ASEV1    PAR_ASEV2    PAR_ASEV3\n",
       "1 -0.3092796 -0.3066696 -0.1633998 0.0005715892 0.0007202990 0.0004328694\n",
       "2 -0.2570396 -0.2892096 -0.1654998 0.0004271294 0.0005406592 0.0004561893\n",
       "3 -0.2539796 -0.2808596 -0.1667698 0.0009127887 0.0010185985 0.0006945490\n",
       "4 -0.2443897 -0.2899996 -0.1642398 0.0009035387 0.0010565985 0.0012020983\n",
       "5 -0.2910496 -0.3214095 -0.1627998 0.0010524985 0.0010650985 0.0003957494\n",
       "6 -0.3167296 -0.3460495 -0.1638798 0.0005803492 0.0007657789 0.0007035590\n",
       "     PAR_ASEV4    PAR_ASEV5    PAR_ASEV6    PAR_ASEV7    PAR_ASEV8    PAR_ASEV9\n",
       "1 0.0003914794 0.0004270594 0.0004147394 0.0003071096 0.0002463596 0.0003239495\n",
       "2 0.0003823595 0.0003330695 0.0003639995 0.0003452595 0.0002725896 0.0003632895\n",
       "3 0.0004911393 0.0003792395 0.0003456195 0.0003146295 0.0002732896 0.0003237395\n",
       "4 0.0011780983 0.0012376982 0.0011773983 0.0012517982 0.0007172490 0.0003320795\n",
       "5 0.0002320497 0.0001820297 0.0001858697 0.0002576996 0.0002551296 0.0002931196\n",
       "6 0.0006125991 0.0007069190 0.0006849590 0.0004727593 0.0003387495 0.0004048794\n",
       "    PAR_ASEV10   PAR_ASEV11   PAR_ASEV12   PAR_ASEV13   PAR_ASEV14   PAR_ASEV15\n",
       "1 0.0003333795 0.0002966196 0.0002981496 0.0004470594 0.0003792995 0.0002361097\n",
       "2 0.0002891996 0.0002911796 0.0004674793 0.0007915589 0.0004357494 0.0005374192\n",
       "3 0.0002922296 0.0002294697 0.0002021897 0.0004970493 0.0003196795 0.0003825194\n",
       "4 0.0002856396 0.0004778693 0.0003002596 0.0006549991 0.0008990987 0.0006314291\n",
       "5 0.0002927096 0.0003071096 0.0004143694 0.0007126690 0.0008757288 0.0002171497\n",
       "6 0.0003511895 0.0003949194 0.0004972693 0.0004977593 0.0003232195 0.0003185095\n",
       "    PAR_ASEV16   PAR_ASEV17   PAR_ASEV18   PAR_ASEV19   PAR_ASEV20   PAR_ASEV21\n",
       "1 0.0004105494 0.0007115490 0.0008837987 0.0008465588 0.0007082890 0.0008237688\n",
       "2 0.0004778893 0.0005754392 0.0003246695 0.0003616895 0.0005232093 0.0004224294\n",
       "3 0.0003755495 0.0003862695 0.0004691993 0.0005724392 0.0005450692 0.0005104493\n",
       "4 0.0005520992 0.0005175093 0.0005145393 0.0008447588 0.0005699992 0.0007465489\n",
       "5 0.0002977896 0.0001932397 0.0001650498 0.0002451697 0.0002630296 0.0002307897\n",
       "6 0.0002173397 0.0003897894 0.0005731692 0.0002694496 0.0003229495 0.0002227897\n",
       "    PAR_ASEV22   PAR_ASEV23   PAR_ASEV24   PAR_ASEV25   PAR_ASEV26   PAR_ASEV27\n",
       "1 0.0006457791 0.0004688793 0.0004142794 3.233495e-04 2.191897e-04 0.0001898197\n",
       "2 0.0004992193 0.0003705695 0.0003689295 2.392597e-04 1.864897e-04 0.0001285098\n",
       "3 0.0001432598 0.0001163098 0.0001017399 9.466186e-05 8.463488e-05 0.0001116398\n",
       "4 0.0009236487 0.0011176984 0.0004767293 9.012887e-04 4.283594e-04 0.0002737096\n",
       "5 0.0003135696 0.0001797597 0.0001804497 1.585398e-04 3.093596e-04 0.0002934796\n",
       "6 0.0002556096 0.0003709595 0.0002576696 2.527096e-04 1.562798e-04 0.0001364198\n",
       "    PAR_ASEV28   PAR_ASEV29   PAR_ASEV30   PAR_ASEV31   PAR_ASEV32   PAR_ASEV33\n",
       "1 0.0002612596 2.097797e-04 2.431197e-04 0.0002635096 0.0006463191 0.0004349294\n",
       "2 0.0001197998 1.912697e-04 2.597796e-04 0.0002985296 0.0006764890 0.0003067296\n",
       "3 0.0001602298 2.908096e-04 2.899596e-04 0.0005128293 0.0006059691 0.0005522892\n",
       "4 0.0011026984 4.531193e-04 3.048996e-04 0.0002820696 0.0004660893 0.0021797969\n",
       "5 0.0003462295 3.244395e-04 3.206595e-04 0.0003955494 0.0018379974 0.0021015970\n",
       "6 0.0001192498 9.772286e-05 8.928587e-05 0.0001216398 0.0002696196 0.0022148968\n",
       "    PAR_ASEV34   PAR_ASE_MV    PAR_ASC PAR_ASC_V  PAR_ASS PAR_ASS_V  PAR_SFM1\n",
       "1 0.0004498094 0.0004406094 -1.2113983 0.8597088 1.544598 0.1206798 0.1691198\n",
       "2 0.0001999697 0.0003772895 -2.0913970 0.8349088 1.864097 0.2453197 0.1712598\n",
       "3 0.0005706192 0.0003873694 -1.3148981 1.0839985 2.043197 0.1106998 0.1847197\n",
       "4 0.0039183944 0.0008494088 -2.1171970 1.3408981 1.638498 0.2180897 0.1717697\n",
       "5 0.0008440088 0.0004629293 -2.7013961 0.6770690 1.616498 0.1234598 0.1764197\n",
       "6 0.0004830193 0.0004257094 -0.4865493 0.5827492 1.576998 0.1007199 0.1708298\n",
       "     PAR_SFM2   PAR_SFM3   PAR_SFM4   PAR_SFM5   PAR_SFM6   PAR_SFM7   PAR_SFM8\n",
       "1 0.005633192 0.09923686 0.09837886 0.07655589 0.06464491 0.04441294 0.03044196\n",
       "2 0.004288994 0.08871987 0.07961689 0.05518492 0.05269792 0.03999294 0.03419395\n",
       "3 0.005825192 0.10245985 0.10547985 0.07081990 0.05673292 0.05252593 0.04047494\n",
       "4 0.005129393 0.08045489 0.06151591 0.04733093 0.03778595 0.02904396 0.02196697\n",
       "5 0.004879293 0.09944986 0.08596688 0.06225491 0.05803592 0.04399894 0.03798195\n",
       "6 0.005641992 0.10430985 0.10646985 0.06936190 0.05918692 0.05105793 0.03420795\n",
       "    PAR_SFM9  PAR_SFM10  PAR_SFM11  PAR_SFM12  PAR_SFM13  PAR_SFM14  PAR_SFM15\n",
       "1 0.04677193 0.03384995 0.01974497 0.03076596 0.06342191 0.03686195 0.03485395\n",
       "2 0.07061490 0.06011291 0.04674293 0.04164194 0.09520586 0.07671689 0.07092290\n",
       "3 0.07643689 0.06556891 0.04730693 0.04266794 0.09552486 0.08335788 0.07632389\n",
       "4 0.03861394 0.02729996 0.02403097 0.02205897 0.05417492 0.04032894 0.03542295\n",
       "5 0.07240390 0.06262891 0.04133294 0.02669796 0.06413691 0.05423992 0.05432092\n",
       "6 0.05731192 0.06464291 0.05184793 0.04337494 0.08765388 0.06330791 0.05691892\n",
       "   PAR_SFM16  PAR_SFM17  PAR_SFM18  PAR_SFM19  PAR_SFM20  PAR_SFM21  PAR_SFM22\n",
       "1 0.03399395 0.07943089 0.08100388 0.06251091 0.04568693 0.10418985 0.08636188\n",
       "2 0.05837892 0.11774983 0.09722286 0.07740489 0.05959092 0.11185984 0.09612686\n",
       "3 0.05953791 0.11641983 0.09731286 0.07965389 0.06129991 0.09788486 0.09402187\n",
       "4 0.03268395 0.06962490 0.04799993 0.03328695 0.02680496 0.09735086 0.05649492\n",
       "5 0.04210794 0.10040986 0.09256887 0.07628789 0.05668492 0.08222888 0.06465191\n",
       "6 0.04474494 0.10984984 0.10211985 0.07883189 0.06401391 0.11976983 0.07696789\n",
       "   PAR_SFM23  PAR_SFM24  PAR_SFM_M   PAR_SFMV1    PAR_SFMV2   PAR_SFMV3\n",
       "1 0.01754397 0.08265288 0.06033691 0.002596896 2.488796e-06 0.001215898\n",
       "2 0.07293690 0.04517294 0.07184790 0.002676496 3.573995e-06 0.001700298\n",
       "3 0.07591489 0.05514092 0.07680889 0.002015897 2.216997e-06 0.001159798\n",
       "4 0.03172495 0.02249997 0.04647493 0.002640596 2.704996e-06 0.001454498\n",
       "5 0.02951796 0.04515994 0.06393191 0.002108097 3.115396e-06 0.001608498\n",
       "6 0.01176598 0.03782195 0.06966690 0.003040696 2.958296e-06 0.001148698\n",
       "     PAR_SFMV4    PAR_SFMV5    PAR_SFMV6    PAR_SFMV7    PAR_SFMV8    PAR_SFMV9\n",
       "1 0.0012091983 0.0004706593 0.0004801693 0.0004235994 0.0003207695 0.0009123487\n",
       "2 0.0017913974 0.0009642286 0.0006153991 0.0004214794 0.0002482797 0.0006326791\n",
       "3 0.0009591386 0.0004787493 0.0004890393 0.0002022097 0.0001552698 0.0004459794\n",
       "4 0.0014664979 0.0007215990 0.0005656692 0.0003274995 0.0002267497 0.0004660293\n",
       "5 0.0017911974 0.0008143088 0.0004714993 0.0002929596 0.0002281197 0.0004783793\n",
       "6 0.0008671688 0.0006435491 0.0005115793 0.0002463097 0.0001754297 0.0007724589\n",
       "    PAR_SFMV10   PAR_SFMV11   PAR_SFMV12   PAR_SFMV13   PAR_SFMV14   PAR_SFMV15\n",
       "1 0.0006538791 0.0003349295 0.0003108496 0.0014334980 0.0005905392 5.216593e-04\n",
       "2 0.0004701193 0.0003217895 0.0001842597 0.0006198191 0.0002667596 1.852797e-04\n",
       "3 0.0004302494 0.0003888194 0.0001850697 0.0003924894 0.0001352398 8.406688e-05\n",
       "4 0.0004797493 0.0003607695 0.0002631396 0.0014576979 0.0007787389 5.485392e-04\n",
       "5 0.0003962094 0.0003028496 0.0002218397 0.0009412787 0.0004979993 4.219894e-04\n",
       "6 0.0004487494 0.0002348897 0.0001483398 0.0008220288 0.0003736095 3.000396e-04\n",
       "    PAR_SFMV16   PAR_SFMV17   PAR_SFMV18   PAR_SFMV19   PAR_SFMV20   PAR_SFMV21\n",
       "1 3.952194e-04 0.0013310981 0.0006368891 4.380494e-04 2.857196e-04 0.0006894290\n",
       "2 9.990886e-05 0.0001510798 0.0001493798 8.885687e-05 8.897387e-05 0.0004314394\n",
       "3 5.966391e-05 0.0001581998 0.0001371898 1.092698e-04 7.360190e-05 0.0007111690\n",
       "4 3.701395e-04 0.0012914982 0.0009624486 7.169990e-04 4.375394e-04 0.0008115588\n",
       "5 3.256395e-04 0.0007771989 0.0004845393 2.075997e-04 2.947396e-04 0.0013470981\n",
       "6 3.712795e-04 0.0004457394 0.0001766498 9.621386e-05 8.754488e-05 0.0002455897\n",
       "    PAR_SFMV22   PAR_SFMV23   PAR_SFMV24   PAR_SFM_MV  PAR_MFCC1   PAR_MFCC2\n",
       "1 0.0005993991 0.0004926793 3.542395e-07 0.0006810890  0.4709693 -1.28519820\n",
       "2 0.0003202695 0.0001681598 2.721396e-04 0.0005363392 -1.0542985  0.11936983\n",
       "3 0.0003062696 0.0001232198 1.485898e-04 0.0003896394 -1.2699982  0.19084973\n",
       "4 0.0011843983 0.0006796890 6.322991e-04 0.0007852889  0.4707193 -0.03952794\n",
       "5 0.0012506982 0.0008151088 1.341398e-03 0.0007259390 -0.3059596 -0.16672976\n",
       "6 0.0008122488 0.0001845997 1.394898e-03 0.0005646292 -0.6141491 -0.38464945\n",
       "   PAR_MFCC3    PAR_MFCC4   PAR_MFCC5    PAR_MFCC6   PAR_MFCC7    PAR_MFCC8\n",
       "1 -0.1024199  0.044442937  0.54405922  0.595369150 -0.23585966 -0.155859780\n",
       "2  0.3111396 -0.017804975  0.18588973 -0.004265094  0.11279984  0.167379760\n",
       "3  0.4525293 -0.003766495  0.02859296  0.016028977 -0.01356198 -0.029006959\n",
       "4  0.5989191 -0.363699480  0.33147953 -0.176109750  0.27371961  0.007576889\n",
       "5  0.6770190  0.320249540 -0.19203973  0.181559740 -0.02734296  0.137259800\n",
       "6 -0.1555398 -0.454809350 -0.23905966  0.219419690  0.01965097  0.125499820\n",
       "    PAR_MFCC9  PAR_MFCC10  PAR_MFCC11  PAR_MFCC12  PAR_MFCC13   PAR_MFCC14\n",
       "1  0.37366947  0.07868489 -0.08495088  0.08843687 -0.06213291 -0.003403395\n",
       "2  0.27072961  0.04336494  0.04772093  0.03428695  0.13352981 -0.019933972\n",
       "3  0.10087986 -0.04696893  0.03084396  0.08405888  0.04634093 -0.053832923\n",
       "4 -0.06297991  0.02819696  0.02677296 -0.05477092  0.02252597 -0.048384931\n",
       "5 -0.00737199  0.09509886  0.08761288 -0.06443991  0.13725980  0.014251980\n",
       "6  0.02087797 -0.07166190 -0.04413294 -0.02910496  0.10984984 -0.048000931\n",
       "    PAR_MFCC15    PAR_MFCC16  PAR_MFCC17  PAR_MFCC18  PAR_MFCC19   PAR_MFCC20\n",
       "1  0.232019670 -0.0961608630  0.01166998  0.02307697 -0.12272982 -0.006090891\n",
       "2  0.038073946  0.0718088980 -0.03002596 -0.04931093 -0.06593991 -0.003205095\n",
       "3  0.077459889  0.0732328950 -0.09515486 -0.05575192 -0.06867990 -0.013193981\n",
       "4 -0.027762960  0.1288198200 -0.03169095 -0.14858979 -0.04331494 -0.085971877\n",
       "5  0.008453488  0.0353139500 -0.03868594  0.01700998 -0.12789982 -0.055039921\n",
       "6  0.011385984  0.0009742886 -0.09859286 -0.02079997 -0.07502689 -0.073393895\n",
       "  PAR_MFCCV1  PAR_MFCCV2 PAR_MFCCV3   PAR_MFCCV4  PAR_MFCCV5   PAR_MFCCV6\n",
       "1  0.4709693 -1.28519820 -0.1024199  0.044442937  0.54405922  0.595369150\n",
       "2 -1.0542985  0.11936983  0.3111396 -0.017804975  0.18588973 -0.004265094\n",
       "3 -1.2699982  0.19084973  0.4525293 -0.003766495  0.02859296  0.016028977\n",
       "4  0.4707193 -0.03952794  0.5989191 -0.363699480  0.33147953 -0.176109750\n",
       "5 -0.3059596 -0.16672976  0.6770190  0.320249540 -0.19203973  0.181559740\n",
       "6 -0.6141491 -0.38464945 -0.1555398 -0.454809350 -0.23905966  0.219419690\n",
       "   PAR_MFCCV7   PAR_MFCCV8  PAR_MFCCV9 PAR_MFCCV10 PAR_MFCCV11 PAR_MFCCV12\n",
       "1 -0.23585966 -0.155859780  0.37366947  0.07868489 -0.08495088  0.08843687\n",
       "2  0.11279984  0.167379760  0.27072961  0.04336494  0.04772093  0.03428695\n",
       "3 -0.01356198 -0.029006959  0.10087986 -0.04696893  0.03084396  0.08405888\n",
       "4  0.27371961  0.007576889 -0.06297991  0.02819696  0.02677296 -0.05477092\n",
       "5 -0.02734296  0.137259800 -0.00737199  0.09509886  0.08761288 -0.06443991\n",
       "6  0.01965097  0.125499820  0.02087797 -0.07166190 -0.04413294 -0.02910496\n",
       "  PAR_MFCCV13  PAR_MFCCV14  PAR_MFCCV15   PAR_MFCCV16 PAR_MFCCV17 PAR_MFCCV18\n",
       "1 -0.06213291 -0.003403395  0.232019670 -0.0961608630  0.01166998  0.02307697\n",
       "2  0.13352981 -0.019933972  0.038073946  0.0718088980 -0.03002596 -0.04931093\n",
       "3  0.04634093 -0.053832923  0.077459889  0.0732328950 -0.09515486 -0.05575192\n",
       "4  0.02252597 -0.048384931 -0.027762960  0.1288198200 -0.03169095 -0.14858979\n",
       "5  0.13725980  0.014251980  0.008453488  0.0353139500 -0.03868594  0.01700998\n",
       "6  0.10984984 -0.048000931  0.011385984  0.0009742886 -0.09859286 -0.02079997\n",
       "  PAR_MFCCV19  PAR_MFCCV20 PAR_THR_1RMS_TOT PAR_THR_2RMS_TOT PAR_THR_3RMS_TOT\n",
       "1 -0.12272982 -0.006090891        0.1476198       0.02290197      0.002906996\n",
       "2 -0.06593991 -0.003205095        0.1469498       0.02204497      0.003287995\n",
       "3 -0.06867990 -0.013193981        0.1394498       0.02279397      0.005210893\n",
       "4 -0.04331494 -0.085971877        0.1277398       0.02752396      0.005859392\n",
       "5 -0.12789982 -0.055039921        0.1220498       0.02961896      0.007904789\n",
       "6 -0.07502689 -0.073393895        0.1493498       0.02492496      0.002879796\n",
       "  PAR_THR_1RMS_10FR_MEAN PAR_THR_1RMS_10FR_VAR PAR_THR_2RMS_10FR_MEAN\n",
       "1              0.1538698          5.160993e-05             0.02382597\n",
       "2              0.1485398          1.239798e-04             0.02167097\n",
       "3              0.1418698          4.600493e-05             0.02258997\n",
       "4              0.1348598          4.018294e-04             0.02459897\n",
       "5              0.1335898          3.197195e-04             0.02830996\n",
       "6              0.1540998          9.766886e-05             0.02358097\n",
       "  PAR_THR_2RMS_10FR_VAR PAR_THR_3RMS_10FR_MEAN PAR_THR_3RMS_10FR_VAR\n",
       "1          9.822286e-06            0.001659898          2.378797e-06\n",
       "2          1.748498e-05            0.002525196          3.374495e-06\n",
       "3          7.039990e-06            0.004810893          3.412695e-06\n",
       "4          2.730796e-05            0.004511594          2.541896e-05\n",
       "5          3.747895e-05            0.005512892          1.047699e-05\n",
       "6          1.177598e-05            0.002525196          2.082597e-06\n",
       "  PAR_PEAK_RMS_TOT PAR_PEAK_RMS10FR_MEAN PAR_PEAK_RMS10FR_VAR    PAR_ZCD\n",
       "1         5.639592              5.870492            0.8950887 0.05088893\n",
       "2         5.643592              5.687292            0.1989197 0.06465791\n",
       "3         5.813192              5.804892            0.0697869 0.09350587\n",
       "4         4.440494              4.776093            1.7335975 0.06280691\n",
       "5         4.245494              4.396294            0.9010487 0.04375994\n",
       "6         4.791493              4.952693            0.7277690 0.08746888\n",
       "  PAR_1RMS_TCD PAR_2RMS_TCD PAR_3RMS_TCD PAR_ZCD_10FR_MEAN PAR_ZCD_10FR_VAR\n",
       "1   0.05550992   0.01313398  0.001850297        0.05067193     6.341191e-05\n",
       "2   0.07443089   0.01620898  0.002476197        0.06572491     4.681193e-04\n",
       "3   0.10082986   0.01993697  0.002947796        0.09478087     6.666791e-04\n",
       "4   0.04767293   0.01371398  0.004045394        0.06162191     6.950490e-04\n",
       "5   0.04206294   0.01001399  0.002956896        0.04488694     1.916097e-04\n",
       "6   0.09544186   0.02232197  0.002766396        0.08473988     5.273192e-05\n",
       "  PAR_1RMS_TCD_10FR_MEAN PAR_1RMS_TCD_10FR_VAR PAR_2RMS_TCD_10FR_MEAN\n",
       "1             0.05589092          0.0002219497             0.01312698\n",
       "2             0.07599489          0.0007255990             0.01621798\n",
       "3             0.10327985          0.0008682388             0.02059297\n",
       "4             0.04850593          0.0002702696             0.01365998\n",
       "5             0.04537694          0.0002006997             0.01081898\n",
       "6             0.09445987          0.0003433795             0.02244397\n",
       "  PAR_2RMS_TCD_10FR_VAR PAR_3RMS_TCD_10FR_MEAN PAR_3RMS_TCD_10FR_VAR\n",
       "1          7.293790e-05            0.001828597          4.832993e-06\n",
       "2          4.089194e-05            0.002514296          1.177998e-06\n",
       "3          5.205493e-05            0.003025896          3.996394e-07\n",
       "4          6.391891e-05            0.004038094          1.670798e-05\n",
       "5          5.143493e-05            0.003058496          5.629792e-06\n",
       "6          1.376198e-04            0.002786396          3.515095e-06\n",
       "                GENRE\n",
       "1 Classical_Jazz_Rock\n",
       "2 Classical_Jazz_Rock\n",
       "3 Classical_Jazz_Rock\n",
       "4     Metal_Pop_Blues\n",
       "5 Classical_Jazz_Rock\n",
       "6     Metal_Pop_Blues"
      ]
     },
     "execution_count": 2,
     "metadata": {},
     "output_type": "execute_result"
    },
    {
     "data": {
      "text/html": [
       "7555"
      ],
      "text/latex": [
       "7555"
      ],
      "text/markdown": [
       "7555"
      ],
      "text/plain": [
       "[1] 7555"
      ]
     },
     "execution_count": 2,
     "metadata": {},
     "output_type": "execute_result"
    },
    {
     "data": {
      "text/html": [
       "3690"
      ],
      "text/latex": [
       "3690"
      ],
      "text/markdown": [
       "3690"
      ],
      "text/plain": [
       "[1] 3690"
      ]
     },
     "execution_count": 2,
     "metadata": {},
     "output_type": "execute_result"
    }
   ],
   "source": [
    "nrow(training.set)\n",
    "#summary(training.set)\n",
    "head(training.set)\n",
    "nrow(subset(training.set,GENRE == \"Classical_Jazz_Rock\" ))\n",
    "nrow(subset(training.set,GENRE == \"Metal_Pop_Blues\"))"
   ]
  },
  {
   "cell_type": "code",
   "execution_count": 3,
   "metadata": {
    "collapsed": false
   },
   "outputs": [
    {
     "data": {
      "text/html": [
       "\"Classical\""
      ],
      "text/latex": [
       "\"Classical\""
      ],
      "text/markdown": [
       "\"Classical\""
      ],
      "text/plain": [
       "[1] \"Classical\""
      ]
     },
     "execution_count": 3,
     "metadata": {},
     "output_type": "execute_result"
    },
    {
     "data": {
      "text/html": [
       "\"Jazz\""
      ],
      "text/latex": [
       "\"Jazz\""
      ],
      "text/markdown": [
       "\"Jazz\""
      ],
      "text/plain": [
       "[1] \"Jazz\""
      ]
     },
     "execution_count": 3,
     "metadata": {},
     "output_type": "execute_result"
    },
    {
     "data": {
      "text/html": [
       "\"Rock\""
      ],
      "text/latex": [
       "\"Rock\""
      ],
      "text/markdown": [
       "\"Rock\""
      ],
      "text/plain": [
       "[1] \"Rock\""
      ]
     },
     "execution_count": 3,
     "metadata": {},
     "output_type": "execute_result"
    }
   ],
   "source": [
    "test = unlist(strsplit(\"Classical_Jazz_Rock\",\"_\"))\n",
    "test[1]\n",
    "test[2]\n",
    "test[3]"
   ]
  },
  {
   "cell_type": "code",
   "execution_count": 4,
   "metadata": {
    "collapsed": false
   },
   "outputs": [
    {
     "name": "stderr",
     "output_type": "stream",
     "text": [
      "Warning message:\n",
      ": package 'e1071' was built under R version 3.2.5"
     ]
    }
   ],
   "source": [
    "# we need the ggplot2 package to get the \"diamonds\" dataset\n",
    "not.installed <- function(pkg) !is.element(pkg, installed.packages()[,1])\n",
    "\n",
    "if (not.installed(\"e1071\")) install.packages(\"e1071\", repos = \"http://cran.r-project.org\")\n",
    "library(e1071)"
   ]
  },
  {
   "cell_type": "code",
   "execution_count": 5,
   "metadata": {
    "collapsed": false
   },
   "outputs": [],
   "source": [
    "svmModel = svm( \n",
    "                GENRE ~. ,data=training.set,  type = \"C\", \n",
    "                kernel = \"radial\", gamma = 0.5,\n",
    "                cost = 10,  tolerance = 0.001, epsilon = 0.001,\n",
    "                na.action = na.omit\n",
    "              )"
   ]
  },
  {
   "cell_type": "code",
   "execution_count": 38,
   "metadata": {
    "collapsed": false
   },
   "outputs": [
    {
     "data": {
      "text/html": [
       "8433"
      ],
      "text/latex": [
       "8433"
      ],
      "text/markdown": [
       "8433"
      ],
      "text/plain": [
       "[1] 8433"
      ]
     },
     "execution_count": 38,
     "metadata": {},
     "output_type": "execute_result"
    },
    {
     "data": {
      "text/html": [
       "2812"
      ],
      "text/latex": [
       "2812"
      ],
      "text/markdown": [
       "2812"
      ],
      "text/plain": [
       "[1] 2812"
      ]
     },
     "execution_count": 38,
     "metadata": {},
     "output_type": "execute_result"
    }
   ],
   "source": [
    "n = nrow(training.set)\n",
    "training.size = floor( 0.75 * n )  ###### Use 75% of the data for the training set\n",
    "ids = (1:n)\n",
    "\n",
    "training.index = sample( ids, training.size ) # Generate a random sample\n",
    "test.index     = ids[-training.index]       # The set complement of training.set\n",
    "length(training.index)\n",
    "length(test.index)"
   ]
  },
  {
   "cell_type": "code",
   "execution_count": 19,
   "metadata": {
    "collapsed": false
   },
   "outputs": [],
   "source": [
    "svmModel = svm( \n",
    "                GENRE ~. ,data=training.set,  subset=training.index,\n",
    "                type = \"C\", \n",
    "                kernel = \"radial\", gamma = 0.5,\n",
    "                cost = 62.5,  tolerance = 0.001, epsilon = 0.001,\n",
    "                na.action = na.omit\n",
    "              )"
   ]
  },
  {
   "cell_type": "code",
   "execution_count": 34,
   "metadata": {
    "collapsed": false
   },
   "outputs": [],
   "source": [
    "#summary(svmModel)\n",
    "#print(svmModel)"
   ]
  },
  {
   "cell_type": "code",
   "execution_count": 6,
   "metadata": {
    "collapsed": true
   },
   "outputs": [],
   "source": [
    "svmPred = predict( svmModel, test.set )"
   ]
  },
  {
   "cell_type": "code",
   "execution_count": 91,
   "metadata": {
    "collapsed": false
   },
   "outputs": [
    {
     "data": {
      "text/html": [
       "0.92674253200569"
      ],
      "text/latex": [
       "0.92674253200569"
      ],
      "text/markdown": [
       "0.92674253200569"
      ],
      "text/plain": [
       "[1] 0.9267425"
      ]
     },
     "execution_count": 91,
     "metadata": {},
     "output_type": "execute_result"
    },
    {
     "data": {
      "text/plain": [
       "                     \n",
       "                      Classical_Jazz_Rock Metal_Pop_Blues\n",
       "  Classical_Jazz_Rock                3763            1889\n",
       "  Metal_Pop_Blues                    1855             926"
      ]
     },
     "execution_count": 91,
     "metadata": {},
     "output_type": "execute_result"
    },
    {
     "data": {
      "text/html": [
       "5618"
      ],
      "text/latex": [
       "5618"
      ],
      "text/markdown": [
       "5618"
      ],
      "text/plain": [
       "[1] 5618"
      ]
     },
     "execution_count": 91,
     "metadata": {},
     "output_type": "execute_result"
    },
    {
     "data": {
      "text/html": [
       "2815"
      ],
      "text/latex": [
       "2815"
      ],
      "text/markdown": [
       "2815"
      ],
      "text/plain": [
       "[1] 2815"
      ]
     },
     "execution_count": 91,
     "metadata": {},
     "output_type": "execute_result"
    }
   ],
   "source": [
    "#head(svmPred,10)\n",
    "#head(training.set[test.index,191:192],10)\n",
    "total.correct = sum(training.set[test.index,192]==svmPred)\n",
    "total.sample = length(svmPred)\n",
    "correct.ratio = total.correct/total.sample\n",
    "correct.ratio\n",
    "table( predict(svmModel, type=\"response\"), training.set[training.index,192] )\n",
    "nrow( subset(training.set[training.index,],GENRE == \"Classical_Jazz_Rock\"))\n",
    "nrow( subset(training.set[training.index,],GENRE == \"Metal_Pop_Blues\"))\n",
    "#length(svmPred) #2812\n",
    "#length(training.index) #8433\n",
    "#length(test.index) #2812"
   ]
  },
  {
   "cell_type": "code",
   "execution_count": 69,
   "metadata": {
    "collapsed": false
   },
   "outputs": [
    {
     "data": {
      "text/html": [
       "2812"
      ],
      "text/latex": [
       "2812"
      ],
      "text/markdown": [
       "2812"
      ],
      "text/plain": [
       "[1] 2812"
      ]
     },
     "execution_count": 69,
     "metadata": {},
     "output_type": "execute_result"
    }
   ],
   "source": [
    "nrow(training.set[test.index,])"
   ]
  },
  {
   "cell_type": "code",
   "execution_count": 15,
   "metadata": {
    "collapsed": false
   },
   "outputs": [],
   "source": [
    "write.table(svmPred, file = \"HW4_Music_Predictions.csv\", append =FALSE, quote = FALSE, sep = \",\",\n",
    "            eol = \"\\n\", na = \"\", dec = \".\", row.names = FALSE,\n",
    "            col.names = \"GENRE\", qmethod = c(\"escape\", \"double\"),\n",
    "            fileEncoding = \"\")\n"
   ]
  },
  {
   "cell_type": "code",
   "execution_count": null,
   "metadata": {
    "collapsed": true
   },
   "outputs": [],
   "source": []
  }
 ],
 "metadata": {
  "kernelspec": {
   "display_name": "R",
   "language": "R",
   "name": "ir"
  },
  "language_info": {
   "codemirror_mode": "r",
   "file_extension": ".r",
   "mimetype": "text/x-r-source",
   "name": "R",
   "pygments_lexer": "r",
   "version": "3.2.4"
  }
 },
 "nbformat": 4,
 "nbformat_minor": 0
}
