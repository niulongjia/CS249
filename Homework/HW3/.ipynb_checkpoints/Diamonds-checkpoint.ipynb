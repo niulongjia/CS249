{
 "cells": [
  {
   "cell_type": "markdown",
   "metadata": {},
   "source": [
    "CS249 -- Spring 2016 -- D.S. Parker &copy; 2016"
   ]
  },
  {
   "cell_type": "markdown",
   "metadata": {},
   "source": [
    "# Diamonds  --  Visualization of the dataset"
   ]
  },
  {
   "cell_type": "code",
   "execution_count": null,
   "metadata": {
    "collapsed": false
   },
   "outputs": [],
   "source": [
    "# we need the ggplot2 package to get the \"diamonds\" dataset\n",
    "\n",
    "not.installed <- function(pkg) !is.element(pkg, installed.packages()[,1])\n",
    "\n",
    "if (not.installed(\"ggplot2\")) install.packages(\"ggplot2\")\n",
    "    \n",
    "library(ggplot2)"
   ]
  },
  {
   "cell_type": "code",
   "execution_count": null,
   "metadata": {
    "collapsed": false
   },
   "outputs": [],
   "source": [
    "data(diamonds, package=\"ggplot2\")\n",
    "\n",
    "summary(diamonds)"
   ]
  },
  {
   "cell_type": "markdown",
   "metadata": {},
   "source": [
    "The dataset has the following columns:\n",
    "<table>\n",
    "<tr><td>   <b>carat</b></td><td>weight of the diamond in carats, rounded to an integer  (1 carat = 0.2 grams)</td></tr>\n",
    "<tr><td>   <b>cut</b></td><td>quality of the cut  {Fair, Good, VeryGood, Premium, Ideal}</td></tr>\n",
    "<tr><td>   <b>color</b></td><td>color code: &lbrace; D &gt; E &gt; F &gt; G &gt; H &gt; I &gt; J &rbrace;  (J is worst, D is best)</td></tr>\n",
    "<tr><td>   <b>clarity</b></td><td>clarity code: &lbrace; I1 &lt; SI1 &lt; SI2 &lt; VS1 &lt; VS2 &lt; VVS1 &lt; VVS2 &lt; IF &rbrace; (I1 is worst, IF is best)</td></tr>\n",
    "\n",
    "<tr><td>   <b>depth</b></td><td>total depth percentage  =  2*z/(x+y)</td></tr>\n",
    "<tr><td>   <b>table</b></td><td>width of top of diamond relative to widest point</td></tr>\n",
    "\n",
    "<tr><td>   <b>price</b></td><td>in US dollars</td></tr>\n",
    "\n",
    "<tr><td>   <b>x</b></td><td>Length in mm (numeric value between 0 and 6)</td></tr>\n",
    "<tr><td>   <b>y</b></td><td>Width  in mm (numeric value between 0 and 9)</td></tr>\n",
    "<tr><td>   <b>z</b></td><td>Depth  in mm (numeric value between 0 and 6)</td></tr>\n",
    "\n",
    "</table>\n",
    "\n",
    "Caution:  the datset has skewed distributions.  Please check below.\n"
   ]
  },
  {
   "cell_type": "code",
   "execution_count": null,
   "metadata": {
    "collapsed": false
   },
   "outputs": [],
   "source": [
    "dim(diamonds)  # not a tiny dataset"
   ]
  },
  {
   "cell_type": "code",
   "execution_count": null,
   "metadata": {
    "collapsed": false
   },
   "outputs": [],
   "source": [
    "low_prices = subset( diamonds$price, diamonds$price<5000 )\n",
    "\n",
    "hist( low_prices, breaks=200, col=\"green\",\n",
    "     main = \"diamond prices below $5000; notice the odd gap around 1500\")"
   ]
  },
  {
   "cell_type": "code",
   "execution_count": null,
   "metadata": {
    "collapsed": false
   },
   "outputs": [],
   "source": [
    "# log-scaling the prices makes patterns clearer\n",
    "\n",
    "hist( log10(diamonds$price), breaks=50, col=\"skyblue\",\n",
    "     main=\"distribution of log10(price) looks like a mixture\" )\n",
    "\n",
    "plot(sort(log10(diamonds$price)), pch=\".\", col=\"skyblue\")"
   ]
  },
  {
   "cell_type": "markdown",
   "metadata": {},
   "source": [
    "# Do some basic cleaning of the data"
   ]
  },
  {
   "cell_type": "code",
   "execution_count": null,
   "metadata": {
    "collapsed": true
   },
   "outputs": [],
   "source": [
    "diamonds = subset( diamonds, (x>0) & (y>0) & (z>0) )  #  There are actually some zero values, we omit them."
   ]
  },
  {
   "cell_type": "markdown",
   "metadata": {},
   "source": [
    "## Prepare for numeric encoding of \"ordered categorical\" values for Cut, Color, and Clarity"
   ]
  },
  {
   "cell_type": "code",
   "execution_count": null,
   "metadata": {
    "collapsed": false
   },
   "outputs": [],
   "source": [
    "colnames(diamonds)"
   ]
  },
  {
   "cell_type": "code",
   "execution_count": null,
   "metadata": {
    "collapsed": true
   },
   "outputs": [],
   "source": [
    "numeric.column.numbers = c(1,5:10)  # indices of numeric columns"
   ]
  },
  {
   "cell_type": "code",
   "execution_count": null,
   "metadata": {
    "collapsed": false
   },
   "outputs": [],
   "source": [
    "colors = levels(diamonds$color)\n",
    "colors"
   ]
  },
  {
   "cell_type": "code",
   "execution_count": null,
   "metadata": {
    "collapsed": false
   },
   "outputs": [],
   "source": [
    "## The levels of Colors should have the reverse ordering\n",
    "## { D > E > F > G > H > I > J }\n",
    "## (J is worst, D is best)\n",
    "\n",
    "levels(diamonds$color) = rev(colors)\n",
    "levels(diamonds$color)"
   ]
  },
  {
   "cell_type": "code",
   "execution_count": null,
   "metadata": {
    "collapsed": false
   },
   "outputs": [],
   "source": [
    "cuts = levels(diamonds$cut)\n",
    "cuts"
   ]
  },
  {
   "cell_type": "code",
   "execution_count": null,
   "metadata": {
    "collapsed": true
   },
   "outputs": [],
   "source": [
    "## The levels of Cuts have the correct ordering"
   ]
  },
  {
   "cell_type": "code",
   "execution_count": null,
   "metadata": {
    "collapsed": false
   },
   "outputs": [],
   "source": [
    "clarities = levels(diamonds$clarity)\n",
    "clarities"
   ]
  },
  {
   "cell_type": "code",
   "execution_count": null,
   "metadata": {
    "collapsed": false
   },
   "outputs": [],
   "source": [
    "## The levels of Clarity should have ordering\n",
    "## { I1 < SI1 < SI2 < VS1 < VS2 < VVS1 < VVS2 < IF }\n",
    "## (I1 is worst, IF is best)\n",
    "levels(diamonds$clarity) = clarities[c(1,3,2,5,4,7,6,8)]   #  reorder the factor levels of 'clarity'\n",
    "levels(diamonds$clarity)                                   #  so that they match the real ordering."
   ]
  },
  {
   "cell_type": "markdown",
   "metadata": {},
   "source": [
    "## Convert the categorical values to integers using the unclass() function."
   ]
  },
  {
   "cell_type": "code",
   "execution_count": null,
   "metadata": {
    "collapsed": true
   },
   "outputs": [],
   "source": [
    "numeric.diamonds = na.omit(data.frame(carat = diamonds$carat,\n",
    "                                      cut = unclass(diamonds$cut),\n",
    "                                      color = unclass(diamonds$color),\n",
    "                                      clarity = unclass(diamonds$clarity),\n",
    "                                      diamonds[, 5:10]  # the other numeric columns\n",
    "                                      ))"
   ]
  },
  {
   "cell_type": "code",
   "execution_count": null,
   "metadata": {
    "collapsed": false
   },
   "outputs": [],
   "source": [
    "head(numeric.diamonds)"
   ]
  },
  {
   "cell_type": "code",
   "execution_count": null,
   "metadata": {
    "collapsed": false
   },
   "outputs": [],
   "source": [
    "levels(diamonds$cut)\n",
    "table( diamonds$cut, numeric.diamonds$cut )"
   ]
  },
  {
   "cell_type": "code",
   "execution_count": null,
   "metadata": {
    "collapsed": false
   },
   "outputs": [],
   "source": [
    "levels(diamonds$color)\n",
    "table( diamonds$color, numeric.diamonds$color )"
   ]
  },
  {
   "cell_type": "code",
   "execution_count": null,
   "metadata": {
    "collapsed": false
   },
   "outputs": [],
   "source": [
    "levels(diamonds$clarity)\n",
    "table( diamonds$clarity, numeric.diamonds$clarity )"
   ]
  },
  {
   "cell_type": "markdown",
   "metadata": {},
   "source": [
    "## A sample of the diamonds data"
   ]
  },
  {
   "cell_type": "code",
   "execution_count": null,
   "metadata": {
    "collapsed": true
   },
   "outputs": [],
   "source": [
    "n = nrow(diamonds)\n",
    "\n",
    "sample.size = 1000\n",
    "\n",
    "sample.rownumbers = sample( 1:n, sample.size )\n",
    "\n",
    "diamonds.sample = diamonds[ sample.rownumbers, ]\n",
    "\n",
    "numeric.diamonds.sample = numeric.diamonds[ sample.rownumbers, ]\n",
    "\n",
    "# This generates a random sample of size 500, to give a sense of the data.\n",
    "# Plotting the entire dataset is slow, and all the detail can obscure larger patterns."
   ]
  },
  {
   "cell_type": "markdown",
   "metadata": {},
   "source": [
    "## Correlation and PCA"
   ]
  },
  {
   "cell_type": "code",
   "execution_count": null,
   "metadata": {
    "collapsed": false
   },
   "outputs": [],
   "source": [
    "diamonds.correlation.matrix = cor(numeric.diamonds)"
   ]
  },
  {
   "cell_type": "code",
   "execution_count": null,
   "metadata": {
    "collapsed": false
   },
   "outputs": [],
   "source": [
    "round( diamonds.correlation.matrix, 2 )"
   ]
  },
  {
   "cell_type": "code",
   "execution_count": null,
   "metadata": {
    "collapsed": false
   },
   "outputs": [],
   "source": [
    "# Quick PCA of the sample data\n",
    "\n",
    "diamond.PCA = prcomp(diamonds.sample[,c(1,5:10)], scale.=TRUE)\n",
    "\n",
    "biplot( diamond.PCA, xlabs=rep(\".\",sample.size) )"
   ]
  },
  {
   "cell_type": "code",
   "execution_count": null,
   "metadata": {
    "collapsed": false
   },
   "outputs": [],
   "source": [
    "if (not.installed(\"ggbiplot\")) install.packages(\"ggbiplot\")\n",
    "\n",
    "library(ggbiplot)\n",
    "    \n",
    "ggbiplot( diamond.PCA, groups=diamonds.sample$cut, ellipse=TRUE )"
   ]
  },
  {
   "cell_type": "markdown",
   "metadata": {},
   "source": [
    "## \"tableplots\""
   ]
  },
  {
   "cell_type": "markdown",
   "metadata": {},
   "source": [
    "For more about tableplot() and the tabplot package, see:\n",
    "<a href=\"http://cran.r-project.org/web/packages/tabplot\">http://cran.r-project.org/web/packages/tabplot</a>\n",
    "<br/><br/>\n",
    "Many other examples of tableplots of the diamonds dataset are displayed at:\n",
    "<a href=\"http://cran.r-project.org/web/packages/tabplot/vignettes/tabplot-vignette.html\">http://cran.r-project.org/web/packages/tabplot/vignettes/tabplot-vignette.html</a>"
   ]
  },
  {
   "cell_type": "code",
   "execution_count": null,
   "metadata": {
    "collapsed": false
   },
   "outputs": [],
   "source": [
    "if (not.installed(\"tabplot\")) install.packages(\"tabplot\")\n",
    "\n",
    "library(tabplot)"
   ]
  },
  {
   "cell_type": "code",
   "execution_count": null,
   "metadata": {
    "collapsed": false
   },
   "outputs": [],
   "source": [
    "tableplot( diamonds.sample )"
   ]
  },
  {
   "cell_type": "code",
   "execution_count": null,
   "metadata": {
    "collapsed": false
   },
   "outputs": [],
   "source": [
    "# tableplot( diamonds, subset = (price < 5000) & cut == \"Premium\" )"
   ]
  },
  {
   "cell_type": "code",
   "execution_count": null,
   "metadata": {
    "collapsed": false
   },
   "outputs": [],
   "source": [
    "tableplot( diamonds,\n",
    "           select = c(carat, price, cut, color, clarity),\n",
    "           sortCol = price )\n",
    "\n",
    "# show results sorted by price"
   ]
  },
  {
   "cell_type": "code",
   "execution_count": null,
   "metadata": {
    "collapsed": false
   },
   "outputs": [],
   "source": [
    "pairs( diamonds.sample, col=unclass(diamonds.sample$cut), pch=\".\" )"
   ]
  },
  {
   "cell_type": "code",
   "execution_count": null,
   "metadata": {
    "collapsed": false
   },
   "outputs": [],
   "source": [
    "panel.hist <- function(x, ...)\n",
    "     {\n",
    "         usr <- par(\"usr\"); on.exit(par(usr))\n",
    "         par(usr = c(usr[1:2], 0, 1.5) )\n",
    "         h <- hist(x, plot = FALSE)\n",
    "         breaks <- h$breaks; nB <- length(breaks)\n",
    "         y <- h$counts; y <- y/max(y)\n",
    "         rect(breaks[-nB], 0, breaks[-1], y, col=\"green\")\n",
    "     }\n",
    "\n",
    "pairs( diamonds.sample[,numeric.column.numbers], diag.panel = panel.hist,\n",
    "       col=unclass(diamonds.sample$cut), pch=\".\" )\n"
   ]
  },
  {
   "cell_type": "markdown",
   "metadata": {},
   "source": [
    "## corrplot() display of correlation matrices"
   ]
  },
  {
   "cell_type": "code",
   "execution_count": null,
   "metadata": {
    "collapsed": false
   },
   "outputs": [],
   "source": [
    "heatmap( diamonds.correlation.matrix, symm=TRUE,\n",
    "        main=\"diamonds correlation matrix -- using heatmap()\")"
   ]
  },
  {
   "cell_type": "code",
   "execution_count": null,
   "metadata": {
    "collapsed": true
   },
   "outputs": [],
   "source": [
    "if (!(is.element(\"corrplot\", installed.packages()))) install.packages(\"corrplot\")\n",
    "library(corrplot)"
   ]
  },
  {
   "cell_type": "markdown",
   "metadata": {},
   "source": [
    "## corrplot() display of correlation matrix"
   ]
  },
  {
   "cell_type": "code",
   "execution_count": null,
   "metadata": {
    "collapsed": false
   },
   "outputs": [],
   "source": [
    "opar = par(mfrow=c(2,2))\n",
    "\n",
    "corrplot( diamonds.correlation.matrix, method=\"number\" )\n",
    "corrplot( diamonds.correlation.matrix, method=\"square\", addCoef.col=\"grey\" )\n",
    "corrplot( diamonds.correlation.matrix, method=\"ellipse\", order=\"AOE\" )\n",
    "corrplot( diamonds.correlation.matrix, method=\"ellipse\", order=\"hclust\", addrect = 5 )\n",
    "\n",
    "par(opar)"
   ]
  },
  {
   "cell_type": "markdown",
   "metadata": {},
   "source": [
    "## ggcorr() display of correlation matrices\n",
    "\n",
    "See <a href=\"http://briatte.github.io/ggcorr/\">the ggcorr documentation</a>\n",
    "at the recently-developed <a href=\"http://ggobi.github.io/ggally/\">GGally</a> site."
   ]
  },
  {
   "cell_type": "code",
   "execution_count": null,
   "metadata": {
    "collapsed": true
   },
   "outputs": [],
   "source": [
    "if (!(is.element(\"GGally\", installed.packages()))) install.packages(\"GGally\")\n",
    "library(GGally)"
   ]
  },
  {
   "cell_type": "code",
   "execution_count": null,
   "metadata": {
    "collapsed": false
   },
   "outputs": [],
   "source": [
    "plotlist = list()\n",
    "plotlist[[1]] = ggcorr( numeric.diamonds )\n",
    "plotlist[[2]] = ggcorr( numeric.diamonds, low = \"orange\", mid = \"white\", high = \"skyblue\" )\n",
    "\n",
    "ggmatrix( plotlist, 1, 2)"
   ]
  },
  {
   "cell_type": "markdown",
   "metadata": {},
   "source": [
    "## Distribution of prices -- by cut and by color"
   ]
  },
  {
   "cell_type": "code",
   "execution_count": null,
   "metadata": {
    "collapsed": false
   },
   "outputs": [],
   "source": [
    "ggplot(data=diamonds, aes(x=log10(price), fill=cut)) + geom_density(alpha=0.1) +\n",
    "      ggtitle(\"distribution of log10(price), by cut\")"
   ]
  },
  {
   "cell_type": "code",
   "execution_count": null,
   "metadata": {
    "collapsed": false
   },
   "outputs": [],
   "source": [
    "ggplot(data=diamonds, aes(x=log10(price), fill=color)) + geom_density(alpha=0.1) +\n",
    "      ggtitle(\"distribution of log10(price), by color\")"
   ]
  },
  {
   "cell_type": "code",
   "execution_count": null,
   "metadata": {
    "collapsed": false
   },
   "outputs": [],
   "source": []
  },
  {
   "cell_type": "markdown",
   "metadata": {},
   "source": [
    "## ggpairs()\n",
    "\n",
    "ggpairs produces a generalized pairwise plot.\n",
    "See <a href=\"https://cran.r-project.org/web/packages/GGally/vignettes/ggpairs.html\">the ggpairs documentation</a>\n",
    "at the <a href=\"http://ggobi.github.io/ggally/\">GGally</a> site.\n"
   ]
  },
  {
   "cell_type": "code",
   "execution_count": null,
   "metadata": {
    "collapsed": false
   },
   "outputs": [],
   "source": [
    "if (FALSE) {  # lots of information, but omitted since the plot is huge\n",
    "ggpairs(\n",
    "   diamonds.sample,\n",
    "   mapping = ggplot2::aes(color = cut),\n",
    "   upper = list(continuous = wrap(\"density\", alpha = 0.3), combo = wrap(\"box\", size = 0.2, alpha = 0.4)),\n",
    "   lower = list(continuous = wrap(\"points\",  alpha = 0.3), combo = wrap(\"dot\", size = 0.2, alpha = 0.4)),\n",
    "   title = \"Diamonds:  large grid of pairwise plots of multiple types\"\n",
    ")\n",
    "}"
   ]
  },
  {
   "cell_type": "code",
   "execution_count": null,
   "metadata": {
    "collapsed": false
   },
   "outputs": [],
   "source": [
    "ggplot(data=diamonds, aes(x=log10(carat), y=log10(price), color=cut)) +\n",
    "  geom_smooth() + ggtitle(\"log10(carat) vs log10(price), by cut\")"
   ]
  },
  {
   "cell_type": "markdown",
   "metadata": {},
   "source": [
    "## Hadley Wickham's qplot examples for the Diamonds dataset\n",
    "\n",
    "qplot() is ggplot2's generalization of the plot() function in R.\n",
    "The plots produced by many of the commands below are from\n",
    "<a href=\"http://ggplot2.org/book/qplot.pdf\">the chapter on qplot in Hadley Wickham's book about ggplot2</a> at <a href=\"http://ggplot2.org\">ggplot2.org</a>.\n",
    "Browsing the output in this chapter is a good way to get into ggplot,\n",
    "and also get some perspective on the diamonds dataset.\n",
    "\n",
    "These queries are included here to show how easy it is to generate plots with more modern style than the standard R graphics functions.  Graphics in R are now evolving rapidly because of ggplot2, it is important to be aware of this."
   ]
  },
  {
   "cell_type": "markdown",
   "metadata": {
    "collapsed": false
   },
   "source": [
    "qplot(depth, data = diamonds, binwidth = 0.2, color=clarity) + xlim(55, 70) + facet_wrap(~ cut)"
   ]
  },
  {
   "cell_type": "code",
   "execution_count": null,
   "metadata": {
    "collapsed": true
   },
   "outputs": [],
   "source": [
    "# options( repr.plot.width=6, repr.plot.height=6 )"
   ]
  },
  {
   "cell_type": "markdown",
   "metadata": {
    "collapsed": false
   },
   "source": [
    "qplot(x, y, data = diamonds)"
   ]
  },
  {
   "cell_type": "markdown",
   "metadata": {
    "collapsed": false
   },
   "source": [
    "qplot(table, price, data = diamonds) + xlim(50, 75)"
   ]
  },
  {
   "cell_type": "markdown",
   "metadata": {
    "collapsed": true
   },
   "source": [
    "qplot(carat, price, data = diamonds)\n",
    "qplot(log(carat), log(price), data = diamonds)\n",
    "qplot(carat, price / carat, data = diamonds)"
   ]
  },
  {
   "cell_type": "code",
   "execution_count": null,
   "metadata": {
    "collapsed": true
   },
   "outputs": [],
   "source": [
    "# Adding aesthetics --------------------------------------------------"
   ]
  },
  {
   "cell_type": "markdown",
   "metadata": {
    "collapsed": true
   },
   "source": [
    "qplot(carat, price, data = diamonds, colour = color)"
   ]
  },
  {
   "cell_type": "code",
   "execution_count": null,
   "metadata": {
    "collapsed": true
   },
   "outputs": [],
   "source": [
    "# Facetting --------------------------------------------------"
   ]
  },
  {
   "cell_type": "markdown",
   "metadata": {
    "collapsed": true
   },
   "source": [
    "qplot(carat, price, data = diamonds) + facet_grid(. ~ color)\n",
    "\n",
    "qplot(carat, price, data = diamonds) + facet_grid(clarity ~ .)\n",
    "\n",
    "qplot(carat, price, data = diamonds) + facet_grid(clarity ~ color)"
   ]
  },
  {
   "cell_type": "markdown",
   "metadata": {
    "collapsed": true
   },
   "source": [
    "qplot(carat, price, data = diamonds) + facet_wrap(~ color)"
   ]
  },
  {
   "cell_type": "code",
   "execution_count": null,
   "metadata": {
    "collapsed": true
   },
   "outputs": [],
   "source": [
    "# Bar charts and histograms --------------------------------------------------\n",
    "\n",
    "# With only one variable, qplot guesses that\n",
    "# you want a bar chart or histogram"
   ]
  },
  {
   "cell_type": "markdown",
   "metadata": {},
   "source": [
    "qplot(cut, data = diamonds)\n",
    "\n",
    "qplot(carat, data = diamonds)\n",
    "qplot(carat, data = diamonds, binwidth = 1)\n",
    "qplot(carat, data = diamonds, binwidth = 0.1)\n",
    "qplot(carat, data = diamonds, binwidth = 0.01)\n",
    "resolution(diamonds$carat)\n",
    "\n",
    "last_plot() + xlim(0, 3)"
   ]
  },
  {
   "cell_type": "code",
   "execution_count": null,
   "metadata": {
    "collapsed": true
   },
   "outputs": [],
   "source": [
    "# If you want to add an additional variable to the plot it's better to\n",
    "# use faceting, rather than aesthetics."
   ]
  },
  {
   "cell_type": "markdown",
   "metadata": {},
   "source": [
    "qplot(depth, data = diamonds, binwidth = 0.2)"
   ]
  },
  {
   "cell_type": "code",
   "execution_count": null,
   "metadata": {
    "collapsed": true
   },
   "outputs": [],
   "source": [
    "# In this plot we can see general trends, but it's hard to get precise"
   ]
  },
  {
   "cell_type": "markdown",
   "metadata": {},
   "source": [
    "qplot(depth, data = diamonds, binwidth = 0.2, fill = cut) + xlim(55, 70)"
   ]
  },
  {
   "cell_type": "code",
   "execution_count": null,
   "metadata": {
    "collapsed": true
   },
   "outputs": [],
   "source": [
    "# Here the differences really jump out at you"
   ]
  },
  {
   "cell_type": "markdown",
   "metadata": {},
   "source": [
    "qplot(depth, data = diamonds, binwidth = 0.2) + xlim(55, 70) +\n",
    "  facet_wrap(~ cut)\n",
    "\n",
    "qplot(carat, data = diamonds, binwidth = 0.1) + facet_wrap(~ color)"
   ]
  },
  {
   "cell_type": "code",
   "execution_count": null,
   "metadata": {
    "collapsed": true
   },
   "outputs": [],
   "source": [
    "# Instead of displaying counts on the y-axis, you can display sums of other variables:"
   ]
  },
  {
   "cell_type": "markdown",
   "metadata": {},
   "source": [
    "qplot(cut, data = diamonds, weight = carat)\n",
    "\n",
    "qplot(cut, data = diamonds, weight = price)"
   ]
  },
  {
   "cell_type": "code",
   "execution_count": null,
   "metadata": {
    "collapsed": true
   },
   "outputs": [],
   "source": [
    "# This is useful for pretabulated data"
   ]
  },
  {
   "cell_type": "markdown",
   "metadata": {},
   "source": [
    "cuts <- as.data.frame(table(cut = diamonds$cut))\n",
    "  \n",
    "qplot(cut, weight = Freq, data = cuts)"
   ]
  },
  {
   "cell_type": "code",
   "execution_count": null,
   "metadata": {
    "collapsed": true
   },
   "outputs": [],
   "source": [
    "# Zooming ------------------------------------------------------------------"
   ]
  },
  {
   "cell_type": "markdown",
   "metadata": {},
   "source": [
    "qplot(table, data = diamonds, binwidth = 1)\n",
    "\n",
    "qplot(table, data = diamonds, binwidth = 1) + xlim(50, 70)\n",
    "\n",
    "qplot(table, data = diamonds, binwidth = 0.1) + xlim(50, 70)\n",
    "\n",
    "qplot(table, data = diamonds, binwidth = 0.1) + xlim(50, 70) + ylim(0, 50)"
   ]
  },
  {
   "cell_type": "code",
   "execution_count": null,
   "metadata": {
    "collapsed": true
   },
   "outputs": [],
   "source": [
    "# Note that this type of zooming discards data outside of the plot regions\n",
    "# See coord_cartesian() for an alternative"
   ]
  },
  {
   "cell_type": "code",
   "execution_count": null,
   "metadata": {
    "collapsed": true
   },
   "outputs": [],
   "source": [
    "# Weighting ------------------------------------------------------------------"
   ]
  },
  {
   "cell_type": "markdown",
   "metadata": {},
   "source": [
    "qplot(cut, data = diamonds, weight = carat)\n",
    "\n",
    "qplot(cut, data = diamonds, weight = price)"
   ]
  },
  {
   "cell_type": "code",
   "execution_count": null,
   "metadata": {
    "collapsed": true
   },
   "outputs": [],
   "source": [
    "# Also useful for pretabulated data"
   ]
  },
  {
   "cell_type": "markdown",
   "metadata": {
    "collapsed": true
   },
   "source": [
    "cuts <- as.data.frame(table(cut = diamonds$cut))\n",
    "  \n",
    "qplot(cut, weight = Freq, data = cuts)"
   ]
  },
  {
   "cell_type": "code",
   "execution_count": null,
   "metadata": {
    "collapsed": true
   },
   "outputs": [],
   "source": [
    "# Box plots ------------------------------------------------------------------"
   ]
  },
  {
   "cell_type": "markdown",
   "metadata": {},
   "source": [
    "qplot(color, price, data = diamonds,\n",
    "  geom = \"boxplot\")"
   ]
  },
  {
   "cell_type": "code",
   "execution_count": null,
   "metadata": {
    "collapsed": true
   },
   "outputs": [],
   "source": [
    "# Boxplots also useful for continuous data\n",
    "# But need to specify how to group data into boxes"
   ]
  },
  {
   "cell_type": "markdown",
   "metadata": {
    "collapsed": true
   },
   "source": [
    "qplot(table, price, data = diamonds)\n",
    "\n",
    "qplot(table, price, data = diamonds, geom = \"boxplot\")\n",
    "\n",
    "qplot(table, price, data = diamonds, geom = \"boxplot\", group = round(table))"
   ]
  },
  {
   "cell_type": "code",
   "execution_count": null,
   "metadata": {
    "collapsed": true
   },
   "outputs": [],
   "source": [
    "# Overplotting ---------------------------------------------------------------"
   ]
  },
  {
   "cell_type": "markdown",
   "metadata": {},
   "source": [
    "qplot(carat, price, data = diamonds,\n",
    "  colour = I(alpha(\"black\", 1/255)))\n",
    "\n",
    "qplot(carat, price, data = diamonds, geom = \"bin2d\")\n",
    "\n",
    "qplot(carat, price, data = diamonds, geom = \"bin2d\", bins = 100)\n",
    "\n",
    "qplot(carat, price, data = diamonds, geom = \"hex\")\n",
    "\n",
    "qplot(carat, price, data = diamonds) + geom_smooth()"
   ]
  },
  {
   "cell_type": "code",
   "execution_count": null,
   "metadata": {
    "collapsed": true
   },
   "outputs": [],
   "source": [
    "# Very basic cleaning --------------------------------------------------------"
   ]
  },
  {
   "cell_type": "markdown",
   "metadata": {},
   "source": [
    "diamonds$x[diamonds$x == 0] <- NA\n",
    "\n",
    "diamonds$y[diamonds$y == 0] <- NA\n",
    "\n",
    "diamonds$y[diamonds$y > 12] <- NA\n",
    "\n",
    "\n",
    "qplot(x, y, data = diamonds)\n",
    "\n",
    "qplot(x, y, data = diamonds, geom = \"bin2d\")\n",
    "\n",
    "qplot(x, y, data = diamonds, geom = \"hex\")\n",
    "\n",
    "qplot(x, y, data = diamonds, geom = \"bin2d\", bins = 100)\n",
    "\n",
    "qplot(x, y, data = diamonds, geom = \"hex\", bins = 100)"
   ]
  },
  {
   "cell_type": "code",
   "execution_count": null,
   "metadata": {
    "collapsed": true
   },
   "outputs": [],
   "source": [
    "# Zoom in ----------------------------------------------------------------------"
   ]
  },
  {
   "cell_type": "markdown",
   "metadata": {
    "collapsed": true
   },
   "source": [
    "qplot(x, y, data = diamonds, geom = \"bin2d\", bins = 100) +\n",
    "  xlim(4,7) + ylim(4,7)\n",
    "  \n",
    "qplot(x, y, data = diamonds, geom = \"bin2d\", bins = 100) +\n",
    "  xlim(4,5) + ylim(4,5)\n",
    "\n",
    "qplot(x, x / y, data = diamonds, geom = \"bin2d\")\n",
    "\n",
    "qplot(x, log(x / y), data = diamonds, geom = \"bin2d\")\n",
    "\n",
    "clean <- subset(diamonds, abs(log(x / y)) < 0.1)\n",
    "\n",
    "qplot(x, log(x / y), data = clean, geom = \"bin2d\")\n",
    "\n",
    "qplot(x, log(x / y), data = clean, geom = \"bin2d\", bins = 80)"
   ]
  },
  {
   "cell_type": "code",
   "execution_count": null,
   "metadata": {
    "collapsed": true
   },
   "outputs": [],
   "source": []
  }
 ],
 "metadata": {
  "kernelspec": {
   "display_name": "R",
   "language": "R",
   "name": "ir"
  },
  "language_info": {
   "codemirror_mode": "r",
   "file_extension": ".r",
   "mimetype": "text/x-r-source",
   "name": "R",
   "pygments_lexer": "r",
   "version": "3.2.4"
  }
 },
 "nbformat": 4,
 "nbformat_minor": 0
}
