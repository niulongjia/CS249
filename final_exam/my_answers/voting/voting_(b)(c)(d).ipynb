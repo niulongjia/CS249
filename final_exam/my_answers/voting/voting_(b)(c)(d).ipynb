{
 "cells": [
  {
   "cell_type": "markdown",
   "metadata": {},
   "source": [
    "# Question (a)"
   ]
  },
  {
   "cell_type": "code",
   "execution_count": 1,
   "metadata": {
    "collapsed": false
   },
   "outputs": [
    {
     "name": "stderr",
     "output_type": "stream",
     "text": [
      "Warning message:\n",
      ": package 'Rmisc' was built under R version 3.2.5Loading required package: lattice\n",
      "Loading required package: plyr\n",
      "Warning message:\n",
      ": package 'plyr' was built under R version 3.2.5Warning message:\n",
      ": package 'ggplot2' was built under R version 3.2.5"
     ]
    }
   ],
   "source": [
    "not.installed <- function(pkg) !is.element(pkg, installed.packages()[,1])\n",
    "    \n",
    "if (not.installed(\"Rmisc\"))  install.packages(\"Rmisc\", repos=\"http://cran.us.r-project.org\")\n",
    "if (not.installed(\"foreign\"))  install.packages(\"Rmisc\", repos=\"http://cran.us.r-project.org\")\n",
    "if (not.installed(\"ggplot2\"))  install.packages(\"Rmisc\", repos=\"http://cran.us.r-project.org\")\n",
    "\n",
    "library(Rmisc)\n",
    "library(foreign)\n",
    "library(ggplot2)"
   ]
  },
  {
   "cell_type": "code",
   "execution_count": 44,
   "metadata": {
    "collapsed": false
   },
   "outputs": [
    {
     "data": {
      "text/html": [
       "<table>\n",
       "<thead><tr><th></th><th scope=col>x</th><th scope=col>y</th><th scope=col>name</th><th scope=col>party</th><th scope=col>congress</th></tr></thead>\n",
       "<tbody>\n",
       "\t<tr><th scope=row>2</th><td>13.63947</td><td>318.0718</td><td>HEFLIN</td><td>100</td><td>102</td></tr>\n",
       "\t<tr><th scope=row>3</th><td>142.4457</td><td>354.3245</td><td>SHELBY</td><td>100</td><td>102</td></tr>\n",
       "\t<tr><th scope=row>4</th><td>1711.213</td><td>301.3357</td><td>MURKOWSKI</td><td>200</td><td>102</td></tr>\n",
       "\t<tr><th scope=row>5</th><td>1419.277</td><td>357.0446</td><td>STEVENS</td><td>200</td><td>102</td></tr>\n",
       "\t<tr><th scope=row>6</th><td>-889.714</td><td>23.77178</td><td>DECONCINI</td><td>100</td><td>102</td></tr>\n",
       "\t<tr><th scope=row>7</th><td>1731.366</td><td>158.597</td><td>MCCAIN</td><td>200</td><td>102</td></tr>\n",
       "</tbody>\n",
       "</table>\n"
      ],
      "text/latex": [
       "\\begin{tabular}{r|lllll}\n",
       "  & x & y & name & party & congress\\\\\n",
       "\\hline\n",
       "\t2 & 13.63947 & 318.0718 & HEFLIN & 100 & 102\\\\\n",
       "\t3 & 142.4457 & 354.3245 & SHELBY & 100 & 102\\\\\n",
       "\t4 & 1711.213 & 301.3357 & MURKOWSKI & 200 & 102\\\\\n",
       "\t5 & 1419.277 & 357.0446 & STEVENS & 200 & 102\\\\\n",
       "\t6 & -889.714 & 23.77178 & DECONCINI & 100 & 102\\\\\n",
       "\t7 & 1731.366 & 158.597 & MCCAIN & 200 & 102\\\\\n",
       "\\end{tabular}\n"
      ],
      "text/plain": [
       "           x         y      name party congress\n",
       "2   13.63947 318.07180    HEFLIN   100      102\n",
       "3  142.44567 354.32453    SHELBY   100      102\n",
       "4 1711.21302 301.33573 MURKOWSKI   200      102\n",
       "5 1419.27652 357.04464   STEVENS   200      102\n",
       "6 -889.71403  23.77178 DECONCINI   100      102\n",
       "7 1731.36633 158.59695    MCCAIN   200      102"
      ]
     },
     "execution_count": 44,
     "metadata": {},
     "output_type": "execute_result"
    }
   ],
   "source": [
    "data.dir <- \"./data/\"  # file.path(\"data\", \"roll_call\")\n",
    "data.files <- list.files(data.dir, pattern = \".dta\" )\n",
    "# Add all roll call vote data frames to a single list\n",
    "rollcall.data <- lapply(data.files,\n",
    "                        function(f)\n",
    "                        {\n",
    "                          read.dta(file.path(data.dir, f), convert.factors = FALSE)\n",
    "                        })\n",
    "# This function takes a single data frame of roll call votes and returns a \n",
    "# Senator-by-vote matrix.\n",
    "rollcall.simplified <- function(df)\n",
    "{\n",
    "  no.pres <- subset(df, state < 99)\n",
    "  \n",
    "  for(i in 10:ncol(no.pres))\n",
    "  {\n",
    "    no.pres[,i] <- ifelse(no.pres[,i] > 6, 0, no.pres[,i])\n",
    "    no.pres[,i] <- ifelse(no.pres[,i] > 0 & no.pres[,i] < 4, 1, no.pres[,i])\n",
    "    no.pres[,i] <- ifelse(no.pres[,i] > 1, -1, no.pres[,i])\n",
    "  }\n",
    "  \n",
    "  return(as.matrix(no.pres[,10:ncol(no.pres)]))\n",
    "}\n",
    "\n",
    "rollcall.simple <- lapply(rollcall.data, rollcall.simplified)\n",
    "# Multiply the matrix by its transpose to get Senator-to-Senator tranformation, \n",
    "# and calculate the Euclidan distance between each Senator.\n",
    "rollcall.dist <- lapply(rollcall.simple, function(m) dist(m %*% t(m)))\n",
    "\n",
    "# Do the multidimensional scaling\n",
    "rollcall.mds <- lapply(rollcall.dist,\n",
    "                       function(d) as.data.frame((cmdscale(d, k = 2)) * -1))\n",
    "                           # Add identification information about Senators back into MDS data frames\n",
    "congresses <- 102:113\n",
    "\n",
    "for(i in 1:length(rollcall.mds))\n",
    "{\n",
    "  names(rollcall.mds[[i]]) <- c(\"x\", \"y\")\n",
    "  \n",
    "  congress <- subset(rollcall.data[[i]], state < 99)\n",
    "  \n",
    "  congress.names <- sapply(as.character(congress$name),\n",
    "                           function(n) strsplit(n, \"[, ]\")[[1]][1])\n",
    "  \n",
    "  rollcall.mds[[i]] <- transform(rollcall.mds[[i]],\n",
    "                                 name = congress.names,\n",
    "                                 party = as.factor(congress$party),\n",
    "                                 congress = congresses[i])\n",
    "}\n",
    "\n",
    "head(rollcall.mds[[1]])\n",
    "\n"
   ]
  },
  {
   "cell_type": "code",
   "execution_count": 46,
   "metadata": {
    "collapsed": false
   },
   "outputs": [],
   "source": [
    "S_list = list()\n",
    "index_list = list()\n",
    "for (k in 1:12)\n",
    "{\n",
    "    dem = subset(rollcall.mds[[k]],party==100) \n",
    "    dem_scale_x = max(abs(range(dem$x)))\n",
    "    dem_scale_y = max(abs(range(dem$y)))\n",
    "    dem$x = (dem$x)/dem_scale_x\n",
    "    dem$y = (dem$y)/dem_scale_y\n",
    "    \n",
    "    rep = subset(rollcall.mds[[k]],party==200)\n",
    "    rep_scale_x = max(abs(range(rep$x)))\n",
    "    rep_scale_y = max(abs(range(rep$y)))\n",
    "    rep$x = (rep$x)/rep_scale_x\n",
    "    rep$y = (rep$y)/rep_scale_y\n",
    "    #ind = subset(rollcall.mds[[k]],party==328)\n",
    "\n",
    "    mu1 = c(mean(dem$x),mean(dem$y))\n",
    "    mu2 = c(mean(rep$x),mean(rep$y))\n",
    "    s1_square = c(var(dem$x),var(dem$y))\n",
    "    s2_square = c(var(rep$x),var(rep$y))\n",
    "    S = (sum((mu1-mu2)^2))/(sum(s1_square)+sum(s2_square))\n",
    "    \n",
    "    S_list[k] = S\n",
    "    index_list[k] = 101 + k\n",
    "}"
   ]
  },
  {
   "cell_type": "code",
   "execution_count": 47,
   "metadata": {
    "collapsed": false
   },
   "outputs": [
    {
     "data": {
      "text/html": [
       "<strong>pdf:</strong> 2"
      ],
      "text/latex": [
       "\\textbf{pdf:} 2"
      ],
      "text/markdown": [
       "**pdf:** 2"
      ],
      "text/plain": [
       "pdf \n",
       "  2 "
      ]
     },
     "execution_count": 47,
     "metadata": {},
     "output_type": "execute_result"
    }
   ],
   "source": [
    "jpeg(filename=\"polarization.jpg\")\n",
    "plot(index_list , S_list, \n",
    "     main=\"Polarization from 102th to 113th congress\", \n",
    "     xlab=\"Congress\", ylab=\"Polarization\", type=\"b\")\n",
    "dev.off()"
   ]
  },
  {
   "cell_type": "code",
   "execution_count": null,
   "metadata": {
    "collapsed": true
   },
   "outputs": [],
   "source": []
  }
 ],
 "metadata": {
  "kernelspec": {
   "display_name": "R",
   "language": "R",
   "name": "ir"
  },
  "language_info": {
   "codemirror_mode": "r",
   "file_extension": ".r",
   "mimetype": "text/x-r-source",
   "name": "R",
   "pygments_lexer": "r",
   "version": "3.2.4"
  }
 },
 "nbformat": 4,
 "nbformat_minor": 0
}
